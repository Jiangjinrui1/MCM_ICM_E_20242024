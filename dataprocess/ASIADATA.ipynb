{
 "cells": [
  {
   "cell_type": "code",
   "execution_count": 32,
   "metadata": {},
   "outputs": [],
   "source": [
    "import numpy as np\n",
    "import pandas as pd\n",
    "import matplotlib.pyplot as plt\n",
    "import seaborn as sns\n",
    "import matplotlib\n",
    "\n",
    "# 设置中文显示\n",
    "matplotlib.rcParams['font.sans-serif'] = ['SimHei']\n",
    "matplotlib.rcParams['font.family'] = 'sans-serif'\n",
    "matplotlib.rcParams['axes.unicode_minus'] = False"
   ]
  },
  {
   "cell_type": "markdown",
   "metadata": {},
   "source": [
    "### 定义亚洲数据处理类\n"
   ]
  },
  {
   "cell_type": "code",
   "execution_count": 33,
   "metadata": {},
   "outputs": [],
   "source": [
    "class ASIData:\n",
    "    def __init__(self,file_data,file_dictionary):\n",
    "        self.file_data = file_data\n",
    "        self.flie_dictionary = file_dictionary\n",
    "\n",
    "    def get_data(self):\n",
    "        data = pd.read_excel(self.file_data)\n",
    "        common_dic = pd.read_csv(self.flie_dictionary)\n",
    "        return data,common_dic\n",
    "    def dataFILTER(self):\n",
    "        data,common_dic=self.get_data()\n",
    "        dates=data['Last Update']\n",
    "        # 2. 找到日期中最近的一天\n",
    "        latest_date = pd.to_datetime(dates).max()\n",
    "\n",
    "        # 3. 计算最近日期距离2000年1月1日的天数\n",
    "        days_since_2000 = (latest_date - pd.to_datetime('2000-01-01')).days\n",
    "\n",
    "        print(\"最近观测日期:\", latest_date)\n",
    "        print(\"距离2000年1月1日的天数:\", days_since_2000)\n",
    "\n",
    "\n",
    "        data=data[['Disaster Type','Disaster Subtype','Country',\n",
    "                   'Location','Start Year','End Year'#,'Start Month',\n",
    "                   ,'Total Damage, Adjusted']]\n",
    "        # data=data.dropna()\n",
    "        # data['Start Month']=data['Start Month'].astype(int)\n",
    "        data.sort_values(['Start Year','Country','Location',#'Start Month',\n",
    "                          'Disaster Subtype']).reset_index(drop=True)\n",
    "      \n",
    "        # 提取省份\n",
    "\n",
    "        data['province'] = data['Location'].str.extract(r',\\s*(\\w+(?:\\s+\\w+)*)\\s*province')\n",
    "\n",
    "        # grouped = df.groupby([\"Year\", \"Country\", \"Province\", \"Disaster Subtype\"])\n",
    "        # count_df = grouped.size().reset_index(name=\"Disaster Subtype Count\")\n",
    "        grouped = data.groupby(['Start Year', 'Country', 'province',#'Start Month',\n",
    "                                'Disaster Subtype'])\n",
    "        counts = grouped.size().reset_index(name='COUNT')\n",
    "        counts['Disaster Subtype'] = counts['Disaster Subtype'].str.lower()\n",
    "        common_event_types = common_dic['EVENT_TYPE'].unique()\n",
    "\n",
    "        # 使用isin函数筛选data DataFrame中的行\n",
    "        filtered_data = counts[counts['Disaster Subtype'].isin(common_event_types)]\n",
    "        return filtered_data,latest_date,days_since_2000\n",
    "    def upload_data(self,filename=\"filered_data\"):\n",
    "        data,common_dic=self.get_data()\n",
    "        data,latest_date,days_since_2000=self.dataFILTER()\n",
    "        data.to_csv('{}.csv'.format('dataset_process/'+filename),index=False)\n",
    "    def statistics(self,filename=\"rate\"):\n",
    "        data,common_dic=self.get_data()\n",
    "        data,latest_date,days_since_2000=self.dataFILTER()\n",
    "        grouped = data.groupby([\"Country\", \"province\", \"Disaster Subtype\"])[\"COUNT\"].sum()\n",
    "        \n",
    "        # 2. 将每个组的\"COUNT\"总和除以days_since_2000\n",
    "        rate = grouped / days_since_2000\n",
    "        grouped = grouped.reset_index()\n",
    "        # 3. 将结果保存到名为\"rate\"的变量中\n",
    "        rate = rate.reset_index()  # 将索引重置为列\n",
    "        rate.columns = [\"Country\", \"province\", \"Disaster Subtype\", \"rate\"]  # 重命名列78/9dfv7\n",
    "        rate.to_csv('{}.csv'.format(\"dataset_process/\"+filename),index=False)\n",
    "        return rate,grouped\n",
    "\n",
    "    "
   ]
  },
  {
   "cell_type": "markdown",
   "metadata": {},
   "source": [
    "### 以美国为主要数据集\n"
   ]
  },
  {
   "cell_type": "code",
   "execution_count": 34,
   "metadata": {},
   "outputs": [
    {
     "data": {
      "text/html": [
       "<div>\n",
       "<style scoped>\n",
       "    .dataframe tbody tr th:only-of-type {\n",
       "        vertical-align: middle;\n",
       "    }\n",
       "\n",
       "    .dataframe tbody tr th {\n",
       "        vertical-align: top;\n",
       "    }\n",
       "\n",
       "    .dataframe thead th {\n",
       "        text-align: right;\n",
       "    }\n",
       "</style>\n",
       "<table border=\"1\" class=\"dataframe\">\n",
       "  <thead>\n",
       "    <tr style=\"text-align: right;\">\n",
       "      <th></th>\n",
       "      <th>YEAR</th>\n",
       "      <th>Month</th>\n",
       "      <th>STATE</th>\n",
       "      <th>EVENT_TYPE</th>\n",
       "      <th>Count</th>\n",
       "    </tr>\n",
       "  </thead>\n",
       "  <tbody>\n",
       "    <tr>\n",
       "      <th>0</th>\n",
       "      <td>2021</td>\n",
       "      <td>1</td>\n",
       "      <td>ALABAMA</td>\n",
       "      <td>hail</td>\n",
       "      <td>1</td>\n",
       "    </tr>\n",
       "    <tr>\n",
       "      <th>1</th>\n",
       "      <td>2021</td>\n",
       "      <td>1</td>\n",
       "      <td>ALABAMA</td>\n",
       "      <td>tornado</td>\n",
       "      <td>1</td>\n",
       "    </tr>\n",
       "    <tr>\n",
       "      <th>2</th>\n",
       "      <td>2021</td>\n",
       "      <td>1</td>\n",
       "      <td>ARIZONA</td>\n",
       "      <td>drought</td>\n",
       "      <td>14</td>\n",
       "    </tr>\n",
       "    <tr>\n",
       "      <th>3</th>\n",
       "      <td>2021</td>\n",
       "      <td>1</td>\n",
       "      <td>ARIZONA</td>\n",
       "      <td>hail</td>\n",
       "      <td>1</td>\n",
       "    </tr>\n",
       "    <tr>\n",
       "      <th>4</th>\n",
       "      <td>2021</td>\n",
       "      <td>1</td>\n",
       "      <td>CALIFORNIA</td>\n",
       "      <td>coastal flood</td>\n",
       "      <td>7</td>\n",
       "    </tr>\n",
       "    <tr>\n",
       "      <th>...</th>\n",
       "      <td>...</td>\n",
       "      <td>...</td>\n",
       "      <td>...</td>\n",
       "      <td>...</td>\n",
       "      <td>...</td>\n",
       "    </tr>\n",
       "    <tr>\n",
       "      <th>3083</th>\n",
       "      <td>2023</td>\n",
       "      <td>10</td>\n",
       "      <td>VIRGINIA</td>\n",
       "      <td>coastal flood</td>\n",
       "      <td>2</td>\n",
       "    </tr>\n",
       "    <tr>\n",
       "      <th>3084</th>\n",
       "      <td>2023</td>\n",
       "      <td>10</td>\n",
       "      <td>VIRGINIA</td>\n",
       "      <td>drought</td>\n",
       "      <td>3</td>\n",
       "    </tr>\n",
       "    <tr>\n",
       "      <th>3085</th>\n",
       "      <td>2023</td>\n",
       "      <td>10</td>\n",
       "      <td>WASHINGTON</td>\n",
       "      <td>tornado</td>\n",
       "      <td>1</td>\n",
       "    </tr>\n",
       "    <tr>\n",
       "      <th>3086</th>\n",
       "      <td>2023</td>\n",
       "      <td>10</td>\n",
       "      <td>WISCONSIN</td>\n",
       "      <td>drought</td>\n",
       "      <td>25</td>\n",
       "    </tr>\n",
       "    <tr>\n",
       "      <th>3087</th>\n",
       "      <td>2023</td>\n",
       "      <td>10</td>\n",
       "      <td>WISCONSIN</td>\n",
       "      <td>hail</td>\n",
       "      <td>30</td>\n",
       "    </tr>\n",
       "  </tbody>\n",
       "</table>\n",
       "<p>3088 rows × 5 columns</p>\n",
       "</div>"
      ],
      "text/plain": [
       "      YEAR  Month       STATE     EVENT_TYPE  Count\n",
       "0     2021      1     ALABAMA           hail      1\n",
       "1     2021      1     ALABAMA        tornado      1\n",
       "2     2021      1     ARIZONA        drought     14\n",
       "3     2021      1     ARIZONA           hail      1\n",
       "4     2021      1  CALIFORNIA  coastal flood      7\n",
       "...    ...    ...         ...            ...    ...\n",
       "3083  2023     10    VIRGINIA  coastal flood      2\n",
       "3084  2023     10    VIRGINIA        drought      3\n",
       "3085  2023     10  WASHINGTON        tornado      1\n",
       "3086  2023     10   WISCONSIN        drought     25\n",
       "3087  2023     10   WISCONSIN           hail     30\n",
       "\n",
       "[3088 rows x 5 columns]"
      ]
     },
     "execution_count": 34,
     "metadata": {},
     "output_type": "execute_result"
    }
   ],
   "source": [
    "# 加载数据\n",
    "def loadDataSet(fileName):\n",
    "    data = pd.read_csv(fileName)\n",
    "    return data\n",
    "url_2023=r\"D:\\VSCodeWorkSpace\\2024_C\\data\\StormEvents_details-ftp_v1.0_d2023_c20240117.csv\"\n",
    "url_2022=r\"D:\\VSCodeWorkSpace\\2024_C\\data\\StormEvents_details-ftp_v1.0_d2022_c20231217.csv\"\n",
    "url_2021=r\"D:\\VSCodeWorkSpace\\2024_C\\data\\StormEvents_details-ftp_v1.0_d2021_c20231217.csv\"\n",
    "dic=r\"D:\\VSCodeWorkSpace\\2024_C\\dataprocess\\dataset_process\\dic_incommon.csv\"\n",
    "USA_data_2023=loadDataSet(url_2023)\n",
    "USA_data_2022=loadDataSet(url_2022)\n",
    "USA_data_2021=loadDataSet(url_2021)\n",
    "\n",
    "USA_data = pd.concat([USA_data_2021,USA_data_2022, USA_data_2023])\n",
    "dates=USA_data['BEGIN_DATE_TIME']\n",
    "\n",
    "USA_data=USA_data[['YEAR','BEGIN_DATE_TIME','EVENT_TYPE','STATE']]\n",
    "USA_data['EVENT_TYPE']=USA_data['EVENT_TYPE'].str.lower()\n",
    "# 按STATE升序,EVENT_TYPE升序排序\n",
    "df_sorted = USA_data.sort_values(['STATE','EVENT_TYPE']).reset_index(drop=True)\n",
    "\n",
    "common_dic=loadDataSet(dic)\n",
    "event_types = common_dic['EVENT_TYPE']\n",
    "mask = USA_data['EVENT_TYPE'].isin(event_types)\n",
    "filtered_data = USA_data[mask].reset_index(drop=True)\n",
    "filtered_data\n",
    "\n",
    "# 按月统计EVENT发生次数\n",
    "\n",
    "filtered_data['Month'] = pd.to_datetime(filtered_data['BEGIN_DATE_TIME'], format=\"%d-%b-%y %H:%M:%S\").dt.month\n",
    "grouped_data = filtered_data.groupby(['YEAR', 'Month', 'STATE', 'EVENT_TYPE']).size().reset_index(name='Count')\n",
    "grouped_data\n",
    "\n"
   ]
  },
  {
   "cell_type": "code",
   "execution_count": 35,
   "metadata": {},
   "outputs": [],
   "source": [
    "# 事件强度字典\n",
    "event_intensity_dict = {\n",
    "    'tsunami':10,\n",
    "    'riverine flood':7,\n",
    "    'volcanic activity (general)':7,\n",
    "    'lava flow':5,\n",
    "    'storm (general)':5,\n",
    "    'cold wave':2,\n",
    "    \"land fire (brush, bush, pasture)\":5,\n",
    "    'ash fall':3,\n",
    "    'lightning/thunderstorms':5,\n",
    "    'hail':3,\n",
    "    'drought':3,\n",
    "    'blizzard/winter storm':2,\n",
    "    'heat wave':2,\n",
    "    'coastal flood':2,\n",
    "    'rockfall (wet)':5,\n",
    "    'flood (general)':6,\n",
    "    'extra-tropical storm':10,\n",
    "    'severe weather':5,\n",
    "    'ground movement':7,\n",
    "    'mudslide':6,\n",
    "    'tropical cyclone':7,\n",
    "    'pyroclastic flow':2,\n",
    "    'derecho':5,\n",
    "    'landslide (dry)':4,\n",
    "    'severe winter conditions':5,\n",
    "    'tornado':7,\n",
    "    'flash flood':4,\n",
    "    'forest fire':4,\n",
    "    'storm surge':5,\n",
    "    'wildfire(general)':4,\n",
    "    'sand/dust storm':3,\n",
    "    'landslide (wet)':3\n",
    "}\n"
   ]
  },
  {
   "cell_type": "code",
   "execution_count": 36,
   "metadata": {},
   "outputs": [
    {
     "name": "stdout",
     "output_type": "stream",
     "text": [
      "最近观测日期: 2023-10-31 16:39:00\n",
      "最远观测日期： 2021-01-01 00:00:00\n",
      "观测时间长度为: 1033\n"
     ]
    },
    {
     "data": {
      "text/html": [
       "<div>\n",
       "<style scoped>\n",
       "    .dataframe tbody tr th:only-of-type {\n",
       "        vertical-align: middle;\n",
       "    }\n",
       "\n",
       "    .dataframe tbody tr th {\n",
       "        vertical-align: top;\n",
       "    }\n",
       "\n",
       "    .dataframe thead th {\n",
       "        text-align: right;\n",
       "    }\n",
       "</style>\n",
       "<table border=\"1\" class=\"dataframe\">\n",
       "  <thead>\n",
       "    <tr style=\"text-align: right;\">\n",
       "      <th></th>\n",
       "      <th>STATE</th>\n",
       "      <th>EVENT_TYPE</th>\n",
       "      <th>rate</th>\n",
       "    </tr>\n",
       "  </thead>\n",
       "  <tbody>\n",
       "    <tr>\n",
       "      <th>0</th>\n",
       "      <td>ALABAMA</td>\n",
       "      <td>drought</td>\n",
       "      <td>0.037754</td>\n",
       "    </tr>\n",
       "    <tr>\n",
       "      <th>1</th>\n",
       "      <td>ALABAMA</td>\n",
       "      <td>flash flood</td>\n",
       "      <td>0.353340</td>\n",
       "    </tr>\n",
       "    <tr>\n",
       "      <th>2</th>\n",
       "      <td>ALABAMA</td>\n",
       "      <td>hail</td>\n",
       "      <td>0.455954</td>\n",
       "    </tr>\n",
       "    <tr>\n",
       "      <th>3</th>\n",
       "      <td>ALABAMA</td>\n",
       "      <td>tornado</td>\n",
       "      <td>0.290416</td>\n",
       "    </tr>\n",
       "    <tr>\n",
       "      <th>4</th>\n",
       "      <td>ALASKA</td>\n",
       "      <td>coastal flood</td>\n",
       "      <td>0.014521</td>\n",
       "    </tr>\n",
       "    <tr>\n",
       "      <th>...</th>\n",
       "      <td>...</td>\n",
       "      <td>...</td>\n",
       "      <td>...</td>\n",
       "    </tr>\n",
       "    <tr>\n",
       "      <th>218</th>\n",
       "      <td>WISCONSIN</td>\n",
       "      <td>tornado</td>\n",
       "      <td>0.096805</td>\n",
       "    </tr>\n",
       "    <tr>\n",
       "      <th>219</th>\n",
       "      <td>WYOMING</td>\n",
       "      <td>drought</td>\n",
       "      <td>0.001936</td>\n",
       "    </tr>\n",
       "    <tr>\n",
       "      <th>220</th>\n",
       "      <td>WYOMING</td>\n",
       "      <td>flash flood</td>\n",
       "      <td>0.043562</td>\n",
       "    </tr>\n",
       "    <tr>\n",
       "      <th>221</th>\n",
       "      <td>WYOMING</td>\n",
       "      <td>hail</td>\n",
       "      <td>0.419167</td>\n",
       "    </tr>\n",
       "    <tr>\n",
       "      <th>222</th>\n",
       "      <td>WYOMING</td>\n",
       "      <td>tornado</td>\n",
       "      <td>0.024201</td>\n",
       "    </tr>\n",
       "  </tbody>\n",
       "</table>\n",
       "<p>223 rows × 3 columns</p>\n",
       "</div>"
      ],
      "text/plain": [
       "         STATE     EVENT_TYPE      rate\n",
       "0      ALABAMA        drought  0.037754\n",
       "1      ALABAMA    flash flood  0.353340\n",
       "2      ALABAMA           hail  0.455954\n",
       "3      ALABAMA        tornado  0.290416\n",
       "4       ALASKA  coastal flood  0.014521\n",
       "..         ...            ...       ...\n",
       "218  WISCONSIN        tornado  0.096805\n",
       "219    WYOMING        drought  0.001936\n",
       "220    WYOMING    flash flood  0.043562\n",
       "221    WYOMING           hail  0.419167\n",
       "222    WYOMING        tornado  0.024201\n",
       "\n",
       "[223 rows x 3 columns]"
      ]
     },
     "execution_count": 36,
     "metadata": {},
     "output_type": "execute_result"
    }
   ],
   "source": [
    "# 按统计2021-2023各州发生各EVENT的rate\n",
    "\n",
    "#统计观测时间长度\n",
    "latest_date = pd.to_datetime(dates,format=\"%d-%b-%y %H:%M:%S\").max()\n",
    "early_date=pd.to_datetime(dates,format=\"%d-%b-%y %H:%M:%S\").min()\n",
    "\n",
    "\n",
    "days_since_2000 = (latest_date - early_date).days\n",
    "\n",
    "print(\"最近观测日期:\", latest_date)\n",
    "print(\"最远观测日期：\",early_date)\n",
    "print(\"观测时间长度为:\", days_since_2000)\n",
    "\n",
    "# 计算观测时间内发生事件次数\n",
    "# 2. 将每个组的\"COUNT\"总和除以days_since_2000\n",
    "grouped = grouped_data.groupby(['STATE', 'EVENT_TYPE'])[\"Count\"].sum()\n",
    "rate = grouped / days_since_2000\n",
    "grouped = grouped.reset_index()\n",
    "# 3. 将结果保存到名为\"rate\"的变量中\n",
    "rate = rate.reset_index()  # 将索引重置为列\n",
    "rate.columns = ['STATE', 'EVENT_TYPE', \"rate\"]  # 重命名列\n",
    "rate.to_csv(\"dataset_process/rate_USA.csv\")\n",
    "rate\n"
   ]
  },
  {
   "cell_type": "code",
   "execution_count": 48,
   "metadata": {},
   "outputs": [
    {
     "data": {
      "text/html": [
       "<div>\n",
       "<style scoped>\n",
       "    .dataframe tbody tr th:only-of-type {\n",
       "        vertical-align: middle;\n",
       "    }\n",
       "\n",
       "    .dataframe tbody tr th {\n",
       "        vertical-align: top;\n",
       "    }\n",
       "\n",
       "    .dataframe thead th {\n",
       "        text-align: right;\n",
       "    }\n",
       "</style>\n",
       "<table border=\"1\" class=\"dataframe\">\n",
       "  <thead>\n",
       "    <tr style=\"text-align: right;\">\n",
       "      <th></th>\n",
       "      <th>STATE</th>\n",
       "      <th>EVENT_TYPE</th>\n",
       "      <th>rate</th>\n",
       "      <th>EVENT_INTENSITY</th>\n",
       "    </tr>\n",
       "  </thead>\n",
       "  <tbody>\n",
       "    <tr>\n",
       "      <th>0</th>\n",
       "      <td>ALABAMA</td>\n",
       "      <td>drought</td>\n",
       "      <td>0.037754</td>\n",
       "      <td>3</td>\n",
       "    </tr>\n",
       "    <tr>\n",
       "      <th>1</th>\n",
       "      <td>ALABAMA</td>\n",
       "      <td>flash flood</td>\n",
       "      <td>0.353340</td>\n",
       "      <td>4</td>\n",
       "    </tr>\n",
       "    <tr>\n",
       "      <th>2</th>\n",
       "      <td>ALABAMA</td>\n",
       "      <td>hail</td>\n",
       "      <td>0.455954</td>\n",
       "      <td>3</td>\n",
       "    </tr>\n",
       "    <tr>\n",
       "      <th>3</th>\n",
       "      <td>ALABAMA</td>\n",
       "      <td>tornado</td>\n",
       "      <td>0.290416</td>\n",
       "      <td>7</td>\n",
       "    </tr>\n",
       "    <tr>\n",
       "      <th>4</th>\n",
       "      <td>ALASKA</td>\n",
       "      <td>coastal flood</td>\n",
       "      <td>0.014521</td>\n",
       "      <td>2</td>\n",
       "    </tr>\n",
       "    <tr>\n",
       "      <th>...</th>\n",
       "      <td>...</td>\n",
       "      <td>...</td>\n",
       "      <td>...</td>\n",
       "      <td>...</td>\n",
       "    </tr>\n",
       "    <tr>\n",
       "      <th>218</th>\n",
       "      <td>WISCONSIN</td>\n",
       "      <td>tornado</td>\n",
       "      <td>0.096805</td>\n",
       "      <td>7</td>\n",
       "    </tr>\n",
       "    <tr>\n",
       "      <th>219</th>\n",
       "      <td>WYOMING</td>\n",
       "      <td>drought</td>\n",
       "      <td>0.001936</td>\n",
       "      <td>3</td>\n",
       "    </tr>\n",
       "    <tr>\n",
       "      <th>220</th>\n",
       "      <td>WYOMING</td>\n",
       "      <td>flash flood</td>\n",
       "      <td>0.043562</td>\n",
       "      <td>4</td>\n",
       "    </tr>\n",
       "    <tr>\n",
       "      <th>221</th>\n",
       "      <td>WYOMING</td>\n",
       "      <td>hail</td>\n",
       "      <td>0.419167</td>\n",
       "      <td>3</td>\n",
       "    </tr>\n",
       "    <tr>\n",
       "      <th>222</th>\n",
       "      <td>WYOMING</td>\n",
       "      <td>tornado</td>\n",
       "      <td>0.024201</td>\n",
       "      <td>7</td>\n",
       "    </tr>\n",
       "  </tbody>\n",
       "</table>\n",
       "<p>223 rows × 4 columns</p>\n",
       "</div>"
      ],
      "text/plain": [
       "         STATE     EVENT_TYPE      rate  EVENT_INTENSITY\n",
       "0      ALABAMA        drought  0.037754                3\n",
       "1      ALABAMA    flash flood  0.353340                4\n",
       "2      ALABAMA           hail  0.455954                3\n",
       "3      ALABAMA        tornado  0.290416                7\n",
       "4       ALASKA  coastal flood  0.014521                2\n",
       "..         ...            ...       ...              ...\n",
       "218  WISCONSIN        tornado  0.096805                7\n",
       "219    WYOMING        drought  0.001936                3\n",
       "220    WYOMING    flash flood  0.043562                4\n",
       "221    WYOMING           hail  0.419167                3\n",
       "222    WYOMING        tornado  0.024201                7\n",
       "\n",
       "[223 rows x 4 columns]"
      ]
     },
     "execution_count": 48,
     "metadata": {},
     "output_type": "execute_result"
    }
   ],
   "source": [
    "#映射到EVENT_TYPE中\n",
    "rate['EVENT_INTENSITY'] = rate['EVENT_TYPE'].map(event_intensity_dict)\n",
    "rate"
   ]
  },
  {
   "cell_type": "code",
   "execution_count": 51,
   "metadata": {},
   "outputs": [
    {
     "name": "stdout",
     "output_type": "stream",
     "text": [
      "         STATE     EVENT_TYPE      rate  EVENT_INTENSITY  danger_factor\n",
      "0      ALABAMA        drought  0.037754                3       0.113262\n",
      "1      ALABAMA    flash flood  0.353340                4       1.413359\n",
      "2      ALABAMA           hail  0.455954                3       1.367861\n",
      "3      ALABAMA        tornado  0.290416                7       2.032914\n",
      "4       ALASKA  coastal flood  0.014521                2       0.029042\n",
      "..         ...            ...       ...              ...            ...\n",
      "218  WISCONSIN        tornado  0.096805                7       0.677638\n",
      "219    WYOMING        drought  0.001936                3       0.005808\n",
      "220    WYOMING    flash flood  0.043562                4       0.174250\n",
      "221    WYOMING           hail  0.419167                3       1.257502\n",
      "222    WYOMING        tornado  0.024201                7       0.169409\n",
      "\n",
      "[223 rows x 5 columns]\n"
     ]
    },
    {
     "data": {
      "text/html": [
       "<div>\n",
       "<style scoped>\n",
       "    .dataframe tbody tr th:only-of-type {\n",
       "        vertical-align: middle;\n",
       "    }\n",
       "\n",
       "    .dataframe tbody tr th {\n",
       "        vertical-align: top;\n",
       "    }\n",
       "\n",
       "    .dataframe thead th {\n",
       "        text-align: right;\n",
       "    }\n",
       "</style>\n",
       "<table border=\"1\" class=\"dataframe\">\n",
       "  <thead>\n",
       "    <tr style=\"text-align: right;\">\n",
       "      <th></th>\n",
       "      <th>STATE</th>\n",
       "      <th>danger_factor</th>\n",
       "    </tr>\n",
       "  </thead>\n",
       "  <tbody>\n",
       "    <tr>\n",
       "      <th>0</th>\n",
       "      <td>ALABAMA</td>\n",
       "      <td>4.927396</td>\n",
       "    </tr>\n",
       "    <tr>\n",
       "      <th>1</th>\n",
       "      <td>ALASKA</td>\n",
       "      <td>0.036786</td>\n",
       "    </tr>\n",
       "    <tr>\n",
       "      <th>2</th>\n",
       "      <td>AMERICAN SAMOA</td>\n",
       "      <td>0.062924</td>\n",
       "    </tr>\n",
       "    <tr>\n",
       "      <th>3</th>\n",
       "      <td>ARIZONA</td>\n",
       "      <td>4.495644</td>\n",
       "    </tr>\n",
       "    <tr>\n",
       "      <th>4</th>\n",
       "      <td>ARKANSAS</td>\n",
       "      <td>4.541142</td>\n",
       "    </tr>\n",
       "    <tr>\n",
       "      <th>5</th>\n",
       "      <td>CALIFORNIA</td>\n",
       "      <td>5.031946</td>\n",
       "    </tr>\n",
       "    <tr>\n",
       "      <th>6</th>\n",
       "      <td>COLORADO</td>\n",
       "      <td>6.575992</td>\n",
       "    </tr>\n",
       "    <tr>\n",
       "      <th>7</th>\n",
       "      <td>CONNECTICUT</td>\n",
       "      <td>0.797677</td>\n",
       "    </tr>\n",
       "    <tr>\n",
       "      <th>8</th>\n",
       "      <td>DELAWARE</td>\n",
       "      <td>0.214908</td>\n",
       "    </tr>\n",
       "    <tr>\n",
       "      <th>9</th>\n",
       "      <td>DISTRICT OF COLUMBIA</td>\n",
       "      <td>0.098742</td>\n",
       "    </tr>\n",
       "    <tr>\n",
       "      <th>10</th>\n",
       "      <td>FLORIDA</td>\n",
       "      <td>3.355276</td>\n",
       "    </tr>\n",
       "    <tr>\n",
       "      <th>11</th>\n",
       "      <td>GEORGIA</td>\n",
       "      <td>3.941917</td>\n",
       "    </tr>\n",
       "    <tr>\n",
       "      <th>12</th>\n",
       "      <td>GUAM</td>\n",
       "      <td>0.105518</td>\n",
       "    </tr>\n",
       "    <tr>\n",
       "      <th>13</th>\n",
       "      <td>HAWAII</td>\n",
       "      <td>1.577928</td>\n",
       "    </tr>\n",
       "    <tr>\n",
       "      <th>14</th>\n",
       "      <td>IDAHO</td>\n",
       "      <td>0.396902</td>\n",
       "    </tr>\n",
       "    <tr>\n",
       "      <th>15</th>\n",
       "      <td>ILLINOIS</td>\n",
       "      <td>5.858664</td>\n",
       "    </tr>\n",
       "    <tr>\n",
       "      <th>16</th>\n",
       "      <td>INDIANA</td>\n",
       "      <td>2.291384</td>\n",
       "    </tr>\n",
       "    <tr>\n",
       "      <th>17</th>\n",
       "      <td>IOWA</td>\n",
       "      <td>7.699903</td>\n",
       "    </tr>\n",
       "    <tr>\n",
       "      <th>18</th>\n",
       "      <td>KANSAS</td>\n",
       "      <td>8.985479</td>\n",
       "    </tr>\n",
       "    <tr>\n",
       "      <th>19</th>\n",
       "      <td>KENTUCKY</td>\n",
       "      <td>4.042594</td>\n",
       "    </tr>\n",
       "    <tr>\n",
       "      <th>20</th>\n",
       "      <td>LOUISIANA</td>\n",
       "      <td>3.815102</td>\n",
       "    </tr>\n",
       "    <tr>\n",
       "      <th>21</th>\n",
       "      <td>MAINE</td>\n",
       "      <td>0.713456</td>\n",
       "    </tr>\n",
       "    <tr>\n",
       "      <th>22</th>\n",
       "      <td>MARYLAND</td>\n",
       "      <td>1.222652</td>\n",
       "    </tr>\n",
       "    <tr>\n",
       "      <th>23</th>\n",
       "      <td>MASSACHUSETTS</td>\n",
       "      <td>0.821878</td>\n",
       "    </tr>\n",
       "    <tr>\n",
       "      <th>24</th>\n",
       "      <td>MICHIGAN</td>\n",
       "      <td>1.201355</td>\n",
       "    </tr>\n",
       "    <tr>\n",
       "      <th>25</th>\n",
       "      <td>MINNESOTA</td>\n",
       "      <td>6.257502</td>\n",
       "    </tr>\n",
       "    <tr>\n",
       "      <th>26</th>\n",
       "      <td>MISSISSIPPI</td>\n",
       "      <td>5.283640</td>\n",
       "    </tr>\n",
       "    <tr>\n",
       "      <th>27</th>\n",
       "      <td>MISSOURI</td>\n",
       "      <td>6.496612</td>\n",
       "    </tr>\n",
       "    <tr>\n",
       "      <th>28</th>\n",
       "      <td>MONTANA</td>\n",
       "      <td>2.824782</td>\n",
       "    </tr>\n",
       "    <tr>\n",
       "      <th>29</th>\n",
       "      <td>NEBRASKA</td>\n",
       "      <td>9.376573</td>\n",
       "    </tr>\n",
       "    <tr>\n",
       "      <th>30</th>\n",
       "      <td>NEVADA</td>\n",
       "      <td>0.465634</td>\n",
       "    </tr>\n",
       "    <tr>\n",
       "      <th>31</th>\n",
       "      <td>NEW HAMPSHIRE</td>\n",
       "      <td>0.895450</td>\n",
       "    </tr>\n",
       "    <tr>\n",
       "      <th>32</th>\n",
       "      <td>NEW JERSEY</td>\n",
       "      <td>2.144240</td>\n",
       "    </tr>\n",
       "    <tr>\n",
       "      <th>33</th>\n",
       "      <td>NEW MEXICO</td>\n",
       "      <td>6.321394</td>\n",
       "    </tr>\n",
       "    <tr>\n",
       "      <th>34</th>\n",
       "      <td>NEW YORK</td>\n",
       "      <td>3.484027</td>\n",
       "    </tr>\n",
       "    <tr>\n",
       "      <th>35</th>\n",
       "      <td>NORTH CAROLINA</td>\n",
       "      <td>3.002904</td>\n",
       "    </tr>\n",
       "    <tr>\n",
       "      <th>36</th>\n",
       "      <td>NORTH DAKOTA</td>\n",
       "      <td>3.025169</td>\n",
       "    </tr>\n",
       "    <tr>\n",
       "      <th>37</th>\n",
       "      <td>OHIO</td>\n",
       "      <td>2.126815</td>\n",
       "    </tr>\n",
       "    <tr>\n",
       "      <th>38</th>\n",
       "      <td>OKLAHOMA</td>\n",
       "      <td>10.830591</td>\n",
       "    </tr>\n",
       "    <tr>\n",
       "      <th>39</th>\n",
       "      <td>OREGON</td>\n",
       "      <td>0.197483</td>\n",
       "    </tr>\n",
       "    <tr>\n",
       "      <th>40</th>\n",
       "      <td>PENNSYLVANIA</td>\n",
       "      <td>3.354308</td>\n",
       "    </tr>\n",
       "    <tr>\n",
       "      <th>41</th>\n",
       "      <td>PUERTO RICO</td>\n",
       "      <td>1.057115</td>\n",
       "    </tr>\n",
       "    <tr>\n",
       "      <th>42</th>\n",
       "      <td>RHODE ISLAND</td>\n",
       "      <td>0.213940</td>\n",
       "    </tr>\n",
       "    <tr>\n",
       "      <th>43</th>\n",
       "      <td>SOUTH CAROLINA</td>\n",
       "      <td>1.962246</td>\n",
       "    </tr>\n",
       "    <tr>\n",
       "      <th>44</th>\n",
       "      <td>SOUTH DAKOTA</td>\n",
       "      <td>6.378509</td>\n",
       "    </tr>\n",
       "    <tr>\n",
       "      <th>45</th>\n",
       "      <td>TENNESSEE</td>\n",
       "      <td>4.116167</td>\n",
       "    </tr>\n",
       "    <tr>\n",
       "      <th>46</th>\n",
       "      <td>TEXAS</td>\n",
       "      <td>26.904163</td>\n",
       "    </tr>\n",
       "    <tr>\n",
       "      <th>47</th>\n",
       "      <td>UTAH</td>\n",
       "      <td>1.353340</td>\n",
       "    </tr>\n",
       "    <tr>\n",
       "      <th>48</th>\n",
       "      <td>VERMONT</td>\n",
       "      <td>0.369797</td>\n",
       "    </tr>\n",
       "    <tr>\n",
       "      <th>49</th>\n",
       "      <td>VIRGIN ISLANDS</td>\n",
       "      <td>0.056147</td>\n",
       "    </tr>\n",
       "    <tr>\n",
       "      <th>50</th>\n",
       "      <td>VIRGINIA</td>\n",
       "      <td>3.106486</td>\n",
       "    </tr>\n",
       "    <tr>\n",
       "      <th>51</th>\n",
       "      <td>WASHINGTON</td>\n",
       "      <td>0.285576</td>\n",
       "    </tr>\n",
       "    <tr>\n",
       "      <th>52</th>\n",
       "      <td>WEST VIRGINIA</td>\n",
       "      <td>1.487899</td>\n",
       "    </tr>\n",
       "    <tr>\n",
       "      <th>53</th>\n",
       "      <td>WISCONSIN</td>\n",
       "      <td>3.709584</td>\n",
       "    </tr>\n",
       "    <tr>\n",
       "      <th>54</th>\n",
       "      <td>WYOMING</td>\n",
       "      <td>1.606970</td>\n",
       "    </tr>\n",
       "  </tbody>\n",
       "</table>\n",
       "</div>"
      ],
      "text/plain": [
       "                   STATE  danger_factor\n",
       "0                ALABAMA       4.927396\n",
       "1                 ALASKA       0.036786\n",
       "2         AMERICAN SAMOA       0.062924\n",
       "3                ARIZONA       4.495644\n",
       "4               ARKANSAS       4.541142\n",
       "5             CALIFORNIA       5.031946\n",
       "6               COLORADO       6.575992\n",
       "7            CONNECTICUT       0.797677\n",
       "8               DELAWARE       0.214908\n",
       "9   DISTRICT OF COLUMBIA       0.098742\n",
       "10               FLORIDA       3.355276\n",
       "11               GEORGIA       3.941917\n",
       "12                  GUAM       0.105518\n",
       "13                HAWAII       1.577928\n",
       "14                 IDAHO       0.396902\n",
       "15              ILLINOIS       5.858664\n",
       "16               INDIANA       2.291384\n",
       "17                  IOWA       7.699903\n",
       "18                KANSAS       8.985479\n",
       "19              KENTUCKY       4.042594\n",
       "20             LOUISIANA       3.815102\n",
       "21                 MAINE       0.713456\n",
       "22              MARYLAND       1.222652\n",
       "23         MASSACHUSETTS       0.821878\n",
       "24              MICHIGAN       1.201355\n",
       "25             MINNESOTA       6.257502\n",
       "26           MISSISSIPPI       5.283640\n",
       "27              MISSOURI       6.496612\n",
       "28               MONTANA       2.824782\n",
       "29              NEBRASKA       9.376573\n",
       "30                NEVADA       0.465634\n",
       "31         NEW HAMPSHIRE       0.895450\n",
       "32            NEW JERSEY       2.144240\n",
       "33            NEW MEXICO       6.321394\n",
       "34              NEW YORK       3.484027\n",
       "35        NORTH CAROLINA       3.002904\n",
       "36          NORTH DAKOTA       3.025169\n",
       "37                  OHIO       2.126815\n",
       "38              OKLAHOMA      10.830591\n",
       "39                OREGON       0.197483\n",
       "40          PENNSYLVANIA       3.354308\n",
       "41           PUERTO RICO       1.057115\n",
       "42          RHODE ISLAND       0.213940\n",
       "43        SOUTH CAROLINA       1.962246\n",
       "44          SOUTH DAKOTA       6.378509\n",
       "45             TENNESSEE       4.116167\n",
       "46                 TEXAS      26.904163\n",
       "47                  UTAH       1.353340\n",
       "48               VERMONT       0.369797\n",
       "49        VIRGIN ISLANDS       0.056147\n",
       "50              VIRGINIA       3.106486\n",
       "51            WASHINGTON       0.285576\n",
       "52         WEST VIRGINIA       1.487899\n",
       "53             WISCONSIN       3.709584\n",
       "54               WYOMING       1.606970"
      ]
     },
     "execution_count": 51,
     "metadata": {},
     "output_type": "execute_result"
    }
   ],
   "source": [
    "# 先将rate列乘以EVENT_INTENSITY每行的对应元素,将各行乘积按STATE求和\n",
    "rate['danger_factor'] = rate['rate'] * rate['EVENT_INTENSITY']\n",
    "print(rate)\n",
    "danger_factor = rate.groupby(['STATE'])['danger_factor'].sum().reset_index()\n",
    "danger_factor.to_csv(\"dataset_process/danger_factor_USA.csv\",index=False)\n",
    "danger_factor\n"
   ]
  },
  {
   "cell_type": "code",
   "execution_count": 52,
   "metadata": {},
   "outputs": [],
   "source": [
    "# 创建州名称映射字典\n",
    "state_mapping = {\n",
    "    'ALABAMA': 'AL',\n",
    "    'ALASKA': 'AK',\n",
    "    'ARIZONA': 'AZ',\n",
    "    'ARKANSAS': 'AR',\n",
    "    'CALIFORNIA': 'CA',\n",
    "    'COLORADO': 'CO',\n",
    "    'CONNECTICUT': 'CT',\n",
    "    'DELAWARE': 'DE',\n",
    "    'FLORIDA': 'FL',\n",
    "    'GEORGIA': 'GA',\n",
    "    'HAWAII': 'HI',\n",
    "    'IDAHO': 'ID',\n",
    "    'ILLINOIS': 'IL',\n",
    "    'INDIANA': 'IN',\n",
    "    'IOWA': 'IA',\n",
    "    'KANSAS': 'KS',\n",
    "    'KENTUCKY': 'KY',\n",
    "    'LOUISIANA': 'LA',\n",
    "    'MAINE': 'ME',\n",
    "    'MARYLAND': 'MD',\n",
    "    'MASSACHUSETTS': 'MA',\n",
    "    'MICHIGAN': 'MI',\n",
    "    'MINNESOTA': 'MN',\n",
    "    'MISSISSIPPI': 'MS',\n",
    "    'MISSOURI': 'MO',\n",
    "    'MONTANA': 'MT',\n",
    "    'NEBRASKA': 'NE',\n",
    "    'NEVADA': 'NV',\n",
    "    'NEW HAMPSHIRE': 'NH',\n",
    "    'NEW JERSEY': 'NJ',\n",
    "    'NEW MEXICO': 'NM',\n",
    "    'NEW YORK': 'NY',\n",
    "    'NORTH CAROLINA': 'NC',\n",
    "    'NORTH DAKOTA': 'ND',\n",
    "    'OHIO': 'OH',\n",
    "    'OKLAHOMA': 'OK',\n",
    "    'OREGON': 'OR',\n",
    "    'PENNSYLVANIA': 'PA',\n",
    "    'RHODE ISLAND': 'RI',\n",
    "    'SOUTH CAROLINA': 'SC',\n",
    "    'SOUTH DAKOTA': 'SD',\n",
    "    'TENNESSEE': 'TN',\n",
    "    'TEXAS': 'TX',\n",
    "    'UTAH': 'UT',\n",
    "    'VERMONT': 'VT',\n",
    "    'VIRGINIA': 'VA',\n",
    "    'WASHINGTON': 'WA',\n",
    "    'WEST VIRGINIA': 'WV',\n",
    "    'WISCONSIN': 'WI',\n",
    "    'WYOMING': 'WY'\n",
    "}\n",
    "\n",
    "# 替换州名称为缩写\n",
    "# 读取风险指数数据\n",
    "risk_data = pd.read_csv(r\"D:\\VSCodeWorkSpace\\2024_C\\dataprocess\\dataset_process\\danger_factor_USA.csv\")\n",
    "risk_data['STATE'] = risk_data['STATE'].replace(state_mapping)"
   ]
  },
  {
   "cell_type": "code",
   "execution_count": 118,
   "metadata": {},
   "outputs": [
    {
     "name": "stdout",
     "output_type": "stream",
     "text": [
      "   STATE  danger_factor\n",
      "38    OK      10.830591\n",
      "46    TX      26.904163\n"
     ]
    },
    {
     "data": {
      "application/vnd.plotly.v1+json": {
       "config": {
        "plotlyServerURL": "https://plot.ly"
       },
       "data": [
        {
         "coloraxis": "coloraxis",
         "geo": "geo",
         "hovertemplate": "STATE=%{location}<br>Risk Index=%{z}<extra></extra>",
         "locationmode": "USA-states",
         "locations": [
          "AL",
          "AK",
          "AMERICAN SAMOA",
          "AZ",
          "AR",
          "CA",
          "CO",
          "CT",
          "DE",
          "DISTRICT OF COLUMBIA",
          "FL",
          "GA",
          "GUAM",
          "HI",
          "ID",
          "IL",
          "IN",
          "IA",
          "KS",
          "KY",
          "LA",
          "ME",
          "MD",
          "MA",
          "MI",
          "MN",
          "MS",
          "MO",
          "MT",
          "NE",
          "NV",
          "NH",
          "NJ",
          "NM",
          "NY",
          "NC",
          "ND",
          "OH",
          "OK",
          "OR",
          "PA",
          "PUERTO RICO",
          "RI",
          "SC",
          "SD",
          "TN",
          "TX",
          "UT",
          "VT",
          "VIRGIN ISLANDS",
          "VA",
          "WA",
          "WV",
          "WI",
          "WY"
         ],
         "name": "",
         "type": "choropleth",
         "z": [
          4.9273959341723135,
          0.036786060019361,
          0.0629235237173281,
          4.495643756050339,
          4.541142303969022,
          5.031945788964182,
          6.575992255566312,
          0.797676669893514,
          0.2149080348499516,
          0.0987415295256534,
          3.3552758954501454,
          3.941916747337851,
          0.1055179090029041,
          1.5779283639883834,
          0.3969022265246854,
          5.858664085188771,
          2.291384317521781,
          7.699903194578896,
          8.985479186834462,
          4.042594385285576,
          3.815101645692159,
          0.7134559535333979,
          1.222652468538238,
          0.8218780251694096,
          1.2013552758954502,
          6.257502420135527,
          5.283639883833494,
          6.496611810261375,
          2.824782187802517,
          9.376573088092933,
          0.4656340755082285,
          0.8954501452081316,
          2.1442400774443366,
          6.321393998063892,
          3.484027105517909,
          3.0029041626331074,
          3.025169409486931,
          2.1268151016456924,
          10.830590513068731,
          0.1974830590513068,
          3.354307841239109,
          1.0571151984511131,
          0.2139399806389157,
          1.962245885769603,
          6.3785091965150045,
          4.116166505324299,
          26.90416263310745,
          1.3533397870280737,
          0.3697967086156825,
          0.0561471442400774,
          3.10648596321394,
          0.2855759922555663,
          1.4878993223620522,
          3.7095837366892543,
          1.606969990319458
         ]
        }
       ],
       "layout": {
        "coloraxis": {
         "cmax": 1,
         "cmid": 15,
         "cmin": 1,
         "colorbar": {
          "title": {
           "text": "Risk Index"
          }
         },
         "colorscale": [
          [
           0,
           "rgb(0,0,0)"
          ],
          [
           0.3333333333333333,
           "rgb(230,0,0)"
          ],
          [
           0.6666666666666666,
           "rgb(255,210,0)"
          ],
          [
           1,
           "rgb(255,255,255)"
          ]
         ]
        },
        "geo": {
         "center": {},
         "domain": {
          "x": [
           0,
           1
          ],
          "y": [
           0,
           1
          ]
         },
         "scope": "usa"
        },
        "legend": {
         "tracegroupgap": 0
        },
        "margin": {
         "t": 60
        },
        "template": {
         "data": {
          "bar": [
           {
            "error_x": {
             "color": "#2a3f5f"
            },
            "error_y": {
             "color": "#2a3f5f"
            },
            "marker": {
             "line": {
              "color": "#E5ECF6",
              "width": 0.5
             },
             "pattern": {
              "fillmode": "overlay",
              "size": 10,
              "solidity": 0.2
             }
            },
            "type": "bar"
           }
          ],
          "barpolar": [
           {
            "marker": {
             "line": {
              "color": "#E5ECF6",
              "width": 0.5
             },
             "pattern": {
              "fillmode": "overlay",
              "size": 10,
              "solidity": 0.2
             }
            },
            "type": "barpolar"
           }
          ],
          "carpet": [
           {
            "aaxis": {
             "endlinecolor": "#2a3f5f",
             "gridcolor": "white",
             "linecolor": "white",
             "minorgridcolor": "white",
             "startlinecolor": "#2a3f5f"
            },
            "baxis": {
             "endlinecolor": "#2a3f5f",
             "gridcolor": "white",
             "linecolor": "white",
             "minorgridcolor": "white",
             "startlinecolor": "#2a3f5f"
            },
            "type": "carpet"
           }
          ],
          "choropleth": [
           {
            "colorbar": {
             "outlinewidth": 0,
             "ticks": ""
            },
            "type": "choropleth"
           }
          ],
          "contour": [
           {
            "colorbar": {
             "outlinewidth": 0,
             "ticks": ""
            },
            "colorscale": [
             [
              0,
              "#0d0887"
             ],
             [
              0.1111111111111111,
              "#46039f"
             ],
             [
              0.2222222222222222,
              "#7201a8"
             ],
             [
              0.3333333333333333,
              "#9c179e"
             ],
             [
              0.4444444444444444,
              "#bd3786"
             ],
             [
              0.5555555555555556,
              "#d8576b"
             ],
             [
              0.6666666666666666,
              "#ed7953"
             ],
             [
              0.7777777777777778,
              "#fb9f3a"
             ],
             [
              0.8888888888888888,
              "#fdca26"
             ],
             [
              1,
              "#f0f921"
             ]
            ],
            "type": "contour"
           }
          ],
          "contourcarpet": [
           {
            "colorbar": {
             "outlinewidth": 0,
             "ticks": ""
            },
            "type": "contourcarpet"
           }
          ],
          "heatmap": [
           {
            "colorbar": {
             "outlinewidth": 0,
             "ticks": ""
            },
            "colorscale": [
             [
              0,
              "#0d0887"
             ],
             [
              0.1111111111111111,
              "#46039f"
             ],
             [
              0.2222222222222222,
              "#7201a8"
             ],
             [
              0.3333333333333333,
              "#9c179e"
             ],
             [
              0.4444444444444444,
              "#bd3786"
             ],
             [
              0.5555555555555556,
              "#d8576b"
             ],
             [
              0.6666666666666666,
              "#ed7953"
             ],
             [
              0.7777777777777778,
              "#fb9f3a"
             ],
             [
              0.8888888888888888,
              "#fdca26"
             ],
             [
              1,
              "#f0f921"
             ]
            ],
            "type": "heatmap"
           }
          ],
          "heatmapgl": [
           {
            "colorbar": {
             "outlinewidth": 0,
             "ticks": ""
            },
            "colorscale": [
             [
              0,
              "#0d0887"
             ],
             [
              0.1111111111111111,
              "#46039f"
             ],
             [
              0.2222222222222222,
              "#7201a8"
             ],
             [
              0.3333333333333333,
              "#9c179e"
             ],
             [
              0.4444444444444444,
              "#bd3786"
             ],
             [
              0.5555555555555556,
              "#d8576b"
             ],
             [
              0.6666666666666666,
              "#ed7953"
             ],
             [
              0.7777777777777778,
              "#fb9f3a"
             ],
             [
              0.8888888888888888,
              "#fdca26"
             ],
             [
              1,
              "#f0f921"
             ]
            ],
            "type": "heatmapgl"
           }
          ],
          "histogram": [
           {
            "marker": {
             "pattern": {
              "fillmode": "overlay",
              "size": 10,
              "solidity": 0.2
             }
            },
            "type": "histogram"
           }
          ],
          "histogram2d": [
           {
            "colorbar": {
             "outlinewidth": 0,
             "ticks": ""
            },
            "colorscale": [
             [
              0,
              "#0d0887"
             ],
             [
              0.1111111111111111,
              "#46039f"
             ],
             [
              0.2222222222222222,
              "#7201a8"
             ],
             [
              0.3333333333333333,
              "#9c179e"
             ],
             [
              0.4444444444444444,
              "#bd3786"
             ],
             [
              0.5555555555555556,
              "#d8576b"
             ],
             [
              0.6666666666666666,
              "#ed7953"
             ],
             [
              0.7777777777777778,
              "#fb9f3a"
             ],
             [
              0.8888888888888888,
              "#fdca26"
             ],
             [
              1,
              "#f0f921"
             ]
            ],
            "type": "histogram2d"
           }
          ],
          "histogram2dcontour": [
           {
            "colorbar": {
             "outlinewidth": 0,
             "ticks": ""
            },
            "colorscale": [
             [
              0,
              "#0d0887"
             ],
             [
              0.1111111111111111,
              "#46039f"
             ],
             [
              0.2222222222222222,
              "#7201a8"
             ],
             [
              0.3333333333333333,
              "#9c179e"
             ],
             [
              0.4444444444444444,
              "#bd3786"
             ],
             [
              0.5555555555555556,
              "#d8576b"
             ],
             [
              0.6666666666666666,
              "#ed7953"
             ],
             [
              0.7777777777777778,
              "#fb9f3a"
             ],
             [
              0.8888888888888888,
              "#fdca26"
             ],
             [
              1,
              "#f0f921"
             ]
            ],
            "type": "histogram2dcontour"
           }
          ],
          "mesh3d": [
           {
            "colorbar": {
             "outlinewidth": 0,
             "ticks": ""
            },
            "type": "mesh3d"
           }
          ],
          "parcoords": [
           {
            "line": {
             "colorbar": {
              "outlinewidth": 0,
              "ticks": ""
             }
            },
            "type": "parcoords"
           }
          ],
          "pie": [
           {
            "automargin": true,
            "type": "pie"
           }
          ],
          "scatter": [
           {
            "fillpattern": {
             "fillmode": "overlay",
             "size": 10,
             "solidity": 0.2
            },
            "type": "scatter"
           }
          ],
          "scatter3d": [
           {
            "line": {
             "colorbar": {
              "outlinewidth": 0,
              "ticks": ""
             }
            },
            "marker": {
             "colorbar": {
              "outlinewidth": 0,
              "ticks": ""
             }
            },
            "type": "scatter3d"
           }
          ],
          "scattercarpet": [
           {
            "marker": {
             "colorbar": {
              "outlinewidth": 0,
              "ticks": ""
             }
            },
            "type": "scattercarpet"
           }
          ],
          "scattergeo": [
           {
            "marker": {
             "colorbar": {
              "outlinewidth": 0,
              "ticks": ""
             }
            },
            "type": "scattergeo"
           }
          ],
          "scattergl": [
           {
            "marker": {
             "colorbar": {
              "outlinewidth": 0,
              "ticks": ""
             }
            },
            "type": "scattergl"
           }
          ],
          "scattermapbox": [
           {
            "marker": {
             "colorbar": {
              "outlinewidth": 0,
              "ticks": ""
             }
            },
            "type": "scattermapbox"
           }
          ],
          "scatterpolar": [
           {
            "marker": {
             "colorbar": {
              "outlinewidth": 0,
              "ticks": ""
             }
            },
            "type": "scatterpolar"
           }
          ],
          "scatterpolargl": [
           {
            "marker": {
             "colorbar": {
              "outlinewidth": 0,
              "ticks": ""
             }
            },
            "type": "scatterpolargl"
           }
          ],
          "scatterternary": [
           {
            "marker": {
             "colorbar": {
              "outlinewidth": 0,
              "ticks": ""
             }
            },
            "type": "scatterternary"
           }
          ],
          "surface": [
           {
            "colorbar": {
             "outlinewidth": 0,
             "ticks": ""
            },
            "colorscale": [
             [
              0,
              "#0d0887"
             ],
             [
              0.1111111111111111,
              "#46039f"
             ],
             [
              0.2222222222222222,
              "#7201a8"
             ],
             [
              0.3333333333333333,
              "#9c179e"
             ],
             [
              0.4444444444444444,
              "#bd3786"
             ],
             [
              0.5555555555555556,
              "#d8576b"
             ],
             [
              0.6666666666666666,
              "#ed7953"
             ],
             [
              0.7777777777777778,
              "#fb9f3a"
             ],
             [
              0.8888888888888888,
              "#fdca26"
             ],
             [
              1,
              "#f0f921"
             ]
            ],
            "type": "surface"
           }
          ],
          "table": [
           {
            "cells": {
             "fill": {
              "color": "#EBF0F8"
             },
             "line": {
              "color": "white"
             }
            },
            "header": {
             "fill": {
              "color": "#C8D4E3"
             },
             "line": {
              "color": "white"
             }
            },
            "type": "table"
           }
          ]
         },
         "layout": {
          "annotationdefaults": {
           "arrowcolor": "#2a3f5f",
           "arrowhead": 0,
           "arrowwidth": 1
          },
          "autotypenumbers": "strict",
          "coloraxis": {
           "colorbar": {
            "outlinewidth": 0,
            "ticks": ""
           }
          },
          "colorscale": {
           "diverging": [
            [
             0,
             "#8e0152"
            ],
            [
             0.1,
             "#c51b7d"
            ],
            [
             0.2,
             "#de77ae"
            ],
            [
             0.3,
             "#f1b6da"
            ],
            [
             0.4,
             "#fde0ef"
            ],
            [
             0.5,
             "#f7f7f7"
            ],
            [
             0.6,
             "#e6f5d0"
            ],
            [
             0.7,
             "#b8e186"
            ],
            [
             0.8,
             "#7fbc41"
            ],
            [
             0.9,
             "#4d9221"
            ],
            [
             1,
             "#276419"
            ]
           ],
           "sequential": [
            [
             0,
             "#0d0887"
            ],
            [
             0.1111111111111111,
             "#46039f"
            ],
            [
             0.2222222222222222,
             "#7201a8"
            ],
            [
             0.3333333333333333,
             "#9c179e"
            ],
            [
             0.4444444444444444,
             "#bd3786"
            ],
            [
             0.5555555555555556,
             "#d8576b"
            ],
            [
             0.6666666666666666,
             "#ed7953"
            ],
            [
             0.7777777777777778,
             "#fb9f3a"
            ],
            [
             0.8888888888888888,
             "#fdca26"
            ],
            [
             1,
             "#f0f921"
            ]
           ],
           "sequentialminus": [
            [
             0,
             "#0d0887"
            ],
            [
             0.1111111111111111,
             "#46039f"
            ],
            [
             0.2222222222222222,
             "#7201a8"
            ],
            [
             0.3333333333333333,
             "#9c179e"
            ],
            [
             0.4444444444444444,
             "#bd3786"
            ],
            [
             0.5555555555555556,
             "#d8576b"
            ],
            [
             0.6666666666666666,
             "#ed7953"
            ],
            [
             0.7777777777777778,
             "#fb9f3a"
            ],
            [
             0.8888888888888888,
             "#fdca26"
            ],
            [
             1,
             "#f0f921"
            ]
           ]
          },
          "colorway": [
           "#636efa",
           "#EF553B",
           "#00cc96",
           "#ab63fa",
           "#FFA15A",
           "#19d3f3",
           "#FF6692",
           "#B6E880",
           "#FF97FF",
           "#FECB52"
          ],
          "font": {
           "color": "#2a3f5f"
          },
          "geo": {
           "bgcolor": "white",
           "lakecolor": "white",
           "landcolor": "#E5ECF6",
           "showlakes": true,
           "showland": true,
           "subunitcolor": "white"
          },
          "hoverlabel": {
           "align": "left"
          },
          "hovermode": "closest",
          "mapbox": {
           "style": "light"
          },
          "paper_bgcolor": "white",
          "plot_bgcolor": "#E5ECF6",
          "polar": {
           "angularaxis": {
            "gridcolor": "white",
            "linecolor": "white",
            "ticks": ""
           },
           "bgcolor": "#E5ECF6",
           "radialaxis": {
            "gridcolor": "white",
            "linecolor": "white",
            "ticks": ""
           }
          },
          "scene": {
           "xaxis": {
            "backgroundcolor": "#E5ECF6",
            "gridcolor": "white",
            "gridwidth": 2,
            "linecolor": "white",
            "showbackground": true,
            "ticks": "",
            "zerolinecolor": "white"
           },
           "yaxis": {
            "backgroundcolor": "#E5ECF6",
            "gridcolor": "white",
            "gridwidth": 2,
            "linecolor": "white",
            "showbackground": true,
            "ticks": "",
            "zerolinecolor": "white"
           },
           "zaxis": {
            "backgroundcolor": "#E5ECF6",
            "gridcolor": "white",
            "gridwidth": 2,
            "linecolor": "white",
            "showbackground": true,
            "ticks": "",
            "zerolinecolor": "white"
           }
          },
          "shapedefaults": {
           "line": {
            "color": "#2a3f5f"
           }
          },
          "ternary": {
           "aaxis": {
            "gridcolor": "white",
            "linecolor": "white",
            "ticks": ""
           },
           "baxis": {
            "gridcolor": "white",
            "linecolor": "white",
            "ticks": ""
           },
           "bgcolor": "#E5ECF6",
           "caxis": {
            "gridcolor": "white",
            "linecolor": "white",
            "ticks": ""
           }
          },
          "title": {
           "x": 0.05
          },
          "xaxis": {
           "automargin": true,
           "gridcolor": "white",
           "linecolor": "white",
           "ticks": "",
           "title": {
            "standoff": 15
           },
           "zerolinecolor": "white",
           "zerolinewidth": 2
          },
          "yaxis": {
           "automargin": true,
           "gridcolor": "white",
           "linecolor": "white",
           "ticks": "",
           "title": {
            "standoff": 15
           },
           "zerolinecolor": "white",
           "zerolinewidth": 2
          }
         }
        },
        "title": {
         "font": {
          "size": 20
         },
         "text": "U.S. State Risk Index"
        }
       }
      }
     },
     "metadata": {},
     "output_type": "display_data"
    }
   ],
   "source": [
    "import pandas as pd\n",
    "import plotly.express as px\n",
    "import plotly.graph_objects as go\n",
    "\n",
    "\n",
    "\n",
    "# 使用plotly.express绘制地图\n",
    "fig = px.choropleth(risk_data, locations='STATE',\n",
    "                    locationmode='USA-states', color='danger_factor',\n",
    "                    scope='usa', \n",
    "                    color_continuous_scale='Hot',\n",
    "                    color_continuous_midpoint=15,  # 设置颜色划分的中点值\n",
    "                    range_color=(1,1),  # 设置颜色划分的步长\n",
    "                    labels={'danger_factor': 'Risk Index'})\n",
    "\n",
    "\n",
    "# 设置图表布局\n",
    "fig.update_layout(title_text='U.S. State Risk Index', title_font_size=20)\n",
    "# Get the states with higher danger_factor values\n",
    "threshold=10\n",
    "high_risk_states = risk_data[risk_data['danger_factor'] > threshold]\n",
    "print(high_risk_states)\n",
    "fig.show()\n",
    "\n",
    "\n"
   ]
  },
  {
   "cell_type": "markdown",
   "metadata": {},
   "source": [
    "### 以LOUISIANA州三年来的flash flood次数为例，绘制发生次数随时间的变化趋势，单位为月"
   ]
  },
  {
   "cell_type": "code",
   "execution_count": 42,
   "metadata": {},
   "outputs": [
    {
     "name": "stderr",
     "output_type": "stream",
     "text": [
      "C:\\Users\\JiangJinrui\\AppData\\Local\\Temp\\ipykernel_70236\\449423980.py:7: SettingWithCopyWarning:\n",
      "\n",
      "\n",
      "A value is trying to be set on a copy of a slice from a DataFrame.\n",
      "Try using .loc[row_indexer,col_indexer] = value instead\n",
      "\n",
      "See the caveats in the documentation: https://pandas.pydata.org/pandas-docs/stable/user_guide/indexing.html#returning-a-view-versus-a-copy\n",
      "\n",
      "C:\\Users\\JiangJinrui\\AppData\\Local\\Temp\\ipykernel_70236\\449423980.py:8: SettingWithCopyWarning:\n",
      "\n",
      "\n",
      "A value is trying to be set on a copy of a slice from a DataFrame.\n",
      "Try using .loc[row_indexer,col_indexer] = value instead\n",
      "\n",
      "See the caveats in the documentation: https://pandas.pydata.org/pandas-docs/stable/user_guide/indexing.html#returning-a-view-versus-a-copy\n",
      "\n"
     ]
    },
    {
     "data": {
      "image/png": "[encoded data removed]",
      "text/plain": [
       "<Figure size 1000x600 with 1 Axes>"
      ]
     },
     "metadata": {},
     "output_type": "display_data"
    },
    {
     "data": {
      "text/html": [
       "<div>\n",
       "<style scoped>\n",
       "    .dataframe tbody tr th:only-of-type {\n",
       "        vertical-align: middle;\n",
       "    }\n",
       "\n",
       "    .dataframe tbody tr th {\n",
       "        vertical-align: top;\n",
       "    }\n",
       "\n",
       "    .dataframe thead th {\n",
       "        text-align: right;\n",
       "    }\n",
       "</style>\n",
       "<table border=\"1\" class=\"dataframe\">\n",
       "  <thead>\n",
       "    <tr style=\"text-align: right;\">\n",
       "      <th></th>\n",
       "      <th>YEAR</th>\n",
       "      <th>Month</th>\n",
       "      <th>STATE</th>\n",
       "      <th>EVENT_TYPE</th>\n",
       "      <th>Count</th>\n",
       "      <th>danger_factor</th>\n",
       "      <th>DATE</th>\n",
       "    </tr>\n",
       "  </thead>\n",
       "  <tbody>\n",
       "    <tr>\n",
       "      <th>60</th>\n",
       "      <td>2021</td>\n",
       "      <td>2</td>\n",
       "      <td>LOUISIANA</td>\n",
       "      <td>flash flood</td>\n",
       "      <td>2</td>\n",
       "      <td>2.512101</td>\n",
       "      <td>2021-02</td>\n",
       "    </tr>\n",
       "    <tr>\n",
       "      <th>116</th>\n",
       "      <td>2021</td>\n",
       "      <td>3</td>\n",
       "      <td>LOUISIANA</td>\n",
       "      <td>flash flood</td>\n",
       "      <td>3</td>\n",
       "      <td>3.258470</td>\n",
       "      <td>2021-03</td>\n",
       "    </tr>\n",
       "    <tr>\n",
       "      <th>194</th>\n",
       "      <td>2021</td>\n",
       "      <td>4</td>\n",
       "      <td>LOUISIANA</td>\n",
       "      <td>flash flood</td>\n",
       "      <td>7</td>\n",
       "      <td>0.033882</td>\n",
       "      <td>2021-04</td>\n",
       "    </tr>\n",
       "    <tr>\n",
       "      <th>276</th>\n",
       "      <td>2021</td>\n",
       "      <td>5</td>\n",
       "      <td>LOUISIANA</td>\n",
       "      <td>flash flood</td>\n",
       "      <td>35</td>\n",
       "      <td>NaN</td>\n",
       "      <td>2021-05</td>\n",
       "    </tr>\n",
       "    <tr>\n",
       "      <th>385</th>\n",
       "      <td>2021</td>\n",
       "      <td>6</td>\n",
       "      <td>LOUISIANA</td>\n",
       "      <td>flash flood</td>\n",
       "      <td>20</td>\n",
       "      <td>NaN</td>\n",
       "      <td>2021-06</td>\n",
       "    </tr>\n",
       "    <tr>\n",
       "      <th>519</th>\n",
       "      <td>2021</td>\n",
       "      <td>7</td>\n",
       "      <td>LOUISIANA</td>\n",
       "      <td>flash flood</td>\n",
       "      <td>26</td>\n",
       "      <td>NaN</td>\n",
       "      <td>2021-07</td>\n",
       "    </tr>\n",
       "    <tr>\n",
       "      <th>645</th>\n",
       "      <td>2021</td>\n",
       "      <td>8</td>\n",
       "      <td>LOUISIANA</td>\n",
       "      <td>flash flood</td>\n",
       "      <td>5</td>\n",
       "      <td>NaN</td>\n",
       "      <td>2021-08</td>\n",
       "    </tr>\n",
       "    <tr>\n",
       "      <th>761</th>\n",
       "      <td>2021</td>\n",
       "      <td>9</td>\n",
       "      <td>LOUISIANA</td>\n",
       "      <td>flash flood</td>\n",
       "      <td>18</td>\n",
       "      <td>NaN</td>\n",
       "      <td>2021-09</td>\n",
       "    </tr>\n",
       "    <tr>\n",
       "      <th>861</th>\n",
       "      <td>2021</td>\n",
       "      <td>10</td>\n",
       "      <td>LOUISIANA</td>\n",
       "      <td>flash flood</td>\n",
       "      <td>3</td>\n",
       "      <td>NaN</td>\n",
       "      <td>2021-10</td>\n",
       "    </tr>\n",
       "    <tr>\n",
       "      <th>995</th>\n",
       "      <td>2021</td>\n",
       "      <td>12</td>\n",
       "      <td>LOUISIANA</td>\n",
       "      <td>flash flood</td>\n",
       "      <td>1</td>\n",
       "      <td>NaN</td>\n",
       "      <td>2021-12</td>\n",
       "    </tr>\n",
       "    <tr>\n",
       "      <th>1114</th>\n",
       "      <td>2022</td>\n",
       "      <td>2</td>\n",
       "      <td>LOUISIANA</td>\n",
       "      <td>flash flood</td>\n",
       "      <td>6</td>\n",
       "      <td>NaN</td>\n",
       "      <td>2022-02</td>\n",
       "    </tr>\n",
       "    <tr>\n",
       "      <th>1173</th>\n",
       "      <td>2022</td>\n",
       "      <td>3</td>\n",
       "      <td>LOUISIANA</td>\n",
       "      <td>flash flood</td>\n",
       "      <td>18</td>\n",
       "      <td>NaN</td>\n",
       "      <td>2022-03</td>\n",
       "    </tr>\n",
       "    <tr>\n",
       "      <th>1251</th>\n",
       "      <td>2022</td>\n",
       "      <td>4</td>\n",
       "      <td>LOUISIANA</td>\n",
       "      <td>flash flood</td>\n",
       "      <td>1</td>\n",
       "      <td>NaN</td>\n",
       "      <td>2022-04</td>\n",
       "    </tr>\n",
       "    <tr>\n",
       "      <th>1345</th>\n",
       "      <td>2022</td>\n",
       "      <td>5</td>\n",
       "      <td>LOUISIANA</td>\n",
       "      <td>flash flood</td>\n",
       "      <td>3</td>\n",
       "      <td>NaN</td>\n",
       "      <td>2022-05</td>\n",
       "    </tr>\n",
       "    <tr>\n",
       "      <th>1472</th>\n",
       "      <td>2022</td>\n",
       "      <td>6</td>\n",
       "      <td>LOUISIANA</td>\n",
       "      <td>flash flood</td>\n",
       "      <td>9</td>\n",
       "      <td>NaN</td>\n",
       "      <td>2022-06</td>\n",
       "    </tr>\n",
       "    <tr>\n",
       "      <th>1601</th>\n",
       "      <td>2022</td>\n",
       "      <td>7</td>\n",
       "      <td>LOUISIANA</td>\n",
       "      <td>flash flood</td>\n",
       "      <td>14</td>\n",
       "      <td>NaN</td>\n",
       "      <td>2022-07</td>\n",
       "    </tr>\n",
       "    <tr>\n",
       "      <th>1732</th>\n",
       "      <td>2022</td>\n",
       "      <td>8</td>\n",
       "      <td>LOUISIANA</td>\n",
       "      <td>flash flood</td>\n",
       "      <td>29</td>\n",
       "      <td>NaN</td>\n",
       "      <td>2022-08</td>\n",
       "    </tr>\n",
       "    <tr>\n",
       "      <th>1847</th>\n",
       "      <td>2022</td>\n",
       "      <td>9</td>\n",
       "      <td>LOUISIANA</td>\n",
       "      <td>flash flood</td>\n",
       "      <td>12</td>\n",
       "      <td>NaN</td>\n",
       "      <td>2022-09</td>\n",
       "    </tr>\n",
       "    <tr>\n",
       "      <th>2075</th>\n",
       "      <td>2022</td>\n",
       "      <td>12</td>\n",
       "      <td>LOUISIANA</td>\n",
       "      <td>flash flood</td>\n",
       "      <td>4</td>\n",
       "      <td>NaN</td>\n",
       "      <td>2022-12</td>\n",
       "    </tr>\n",
       "    <tr>\n",
       "      <th>2147</th>\n",
       "      <td>2023</td>\n",
       "      <td>1</td>\n",
       "      <td>LOUISIANA</td>\n",
       "      <td>flash flood</td>\n",
       "      <td>26</td>\n",
       "      <td>NaN</td>\n",
       "      <td>2023-01</td>\n",
       "    </tr>\n",
       "    <tr>\n",
       "      <th>2206</th>\n",
       "      <td>2023</td>\n",
       "      <td>2</td>\n",
       "      <td>LOUISIANA</td>\n",
       "      <td>flash flood</td>\n",
       "      <td>3</td>\n",
       "      <td>NaN</td>\n",
       "      <td>2023-02</td>\n",
       "    </tr>\n",
       "    <tr>\n",
       "      <th>2347</th>\n",
       "      <td>2023</td>\n",
       "      <td>4</td>\n",
       "      <td>LOUISIANA</td>\n",
       "      <td>flash flood</td>\n",
       "      <td>6</td>\n",
       "      <td>NaN</td>\n",
       "      <td>2023-04</td>\n",
       "    </tr>\n",
       "    <tr>\n",
       "      <th>2445</th>\n",
       "      <td>2023</td>\n",
       "      <td>5</td>\n",
       "      <td>LOUISIANA</td>\n",
       "      <td>flash flood</td>\n",
       "      <td>18</td>\n",
       "      <td>NaN</td>\n",
       "      <td>2023-05</td>\n",
       "    </tr>\n",
       "    <tr>\n",
       "      <th>2551</th>\n",
       "      <td>2023</td>\n",
       "      <td>6</td>\n",
       "      <td>LOUISIANA</td>\n",
       "      <td>flash flood</td>\n",
       "      <td>10</td>\n",
       "      <td>NaN</td>\n",
       "      <td>2023-06</td>\n",
       "    </tr>\n",
       "    <tr>\n",
       "      <th>2683</th>\n",
       "      <td>2023</td>\n",
       "      <td>7</td>\n",
       "      <td>LOUISIANA</td>\n",
       "      <td>flash flood</td>\n",
       "      <td>8</td>\n",
       "      <td>NaN</td>\n",
       "      <td>2023-07</td>\n",
       "    </tr>\n",
       "    <tr>\n",
       "      <th>2948</th>\n",
       "      <td>2023</td>\n",
       "      <td>9</td>\n",
       "      <td>LOUISIANA</td>\n",
       "      <td>flash flood</td>\n",
       "      <td>15</td>\n",
       "      <td>NaN</td>\n",
       "      <td>2023-09</td>\n",
       "    </tr>\n",
       "  </tbody>\n",
       "</table>\n",
       "</div>"
      ],
      "text/plain": [
       "      YEAR  Month      STATE   EVENT_TYPE  Count  danger_factor     DATE\n",
       "60    2021      2  LOUISIANA  flash flood      2       2.512101  2021-02\n",
       "116   2021      3  LOUISIANA  flash flood      3       3.258470  2021-03\n",
       "194   2021      4  LOUISIANA  flash flood      7       0.033882  2021-04\n",
       "276   2021      5  LOUISIANA  flash flood     35            NaN  2021-05\n",
       "385   2021      6  LOUISIANA  flash flood     20            NaN  2021-06\n",
       "519   2021      7  LOUISIANA  flash flood     26            NaN  2021-07\n",
       "645   2021      8  LOUISIANA  flash flood      5            NaN  2021-08\n",
       "761   2021      9  LOUISIANA  flash flood     18            NaN  2021-09\n",
       "861   2021     10  LOUISIANA  flash flood      3            NaN  2021-10\n",
       "995   2021     12  LOUISIANA  flash flood      1            NaN  2021-12\n",
       "1114  2022      2  LOUISIANA  flash flood      6            NaN  2022-02\n",
       "1173  2022      3  LOUISIANA  flash flood     18            NaN  2022-03\n",
       "1251  2022      4  LOUISIANA  flash flood      1            NaN  2022-04\n",
       "1345  2022      5  LOUISIANA  flash flood      3            NaN  2022-05\n",
       "1472  2022      6  LOUISIANA  flash flood      9            NaN  2022-06\n",
       "1601  2022      7  LOUISIANA  flash flood     14            NaN  2022-07\n",
       "1732  2022      8  LOUISIANA  flash flood     29            NaN  2022-08\n",
       "1847  2022      9  LOUISIANA  flash flood     12            NaN  2022-09\n",
       "2075  2022     12  LOUISIANA  flash flood      4            NaN  2022-12\n",
       "2147  2023      1  LOUISIANA  flash flood     26            NaN  2023-01\n",
       "2206  2023      2  LOUISIANA  flash flood      3            NaN  2023-02\n",
       "2347  2023      4  LOUISIANA  flash flood      6            NaN  2023-04\n",
       "2445  2023      5  LOUISIANA  flash flood     18            NaN  2023-05\n",
       "2551  2023      6  LOUISIANA  flash flood     10            NaN  2023-06\n",
       "2683  2023      7  LOUISIANA  flash flood      8            NaN  2023-07\n",
       "2948  2023      9  LOUISIANA  flash flood     15            NaN  2023-09"
      ]
     },
     "execution_count": 42,
     "metadata": {},
     "output_type": "execute_result"
    }
   ],
   "source": [
    "# 筛选出路易斯安娜州的数据\n",
    "filtered_data = grouped_data[(grouped_data[\"STATE\"] == \"LOUISIANA\") \n",
    "                                & (grouped_data[\"EVENT_TYPE\"] == \"flash flood\")]\n",
    "filtered_data.reset_index(drop=False)\n",
    "\n",
    "# 将日期转换为标准形式\n",
    "filtered_data['DATE'] = pd.to_datetime(filtered_data[['YEAR', 'Month']].assign(day=1))\n",
    "filtered_data['DATE'] = filtered_data['DATE'].dt.strftime(\"%Y-%m\")\n",
    "\n",
    "# 绘制折线图\n",
    "plt.figure(figsize=(10, 6))\n",
    "plt.subplots_adjust(left=0.1, right=0.9, top=0.9, bottom=0.1)\n",
    "\n",
    "plt.plot(filtered_data[\"DATE\"], filtered_data[\"Count\"],linestyle='-', color='blue')\n",
    "plt.grid(True)\n",
    "plt.xlabel(\"Date\")\n",
    "plt.ylabel(\"occurrences\")\n",
    "plt.title(\"flash flood in Louisiana occurrences over time\")\n",
    "plt.xticks(rotation=90, fontsize=8)\n",
    "plt.yticks(fontsize=8)\n",
    "\n",
    "plt.legend(['Count'])\n",
    "plt.show()\n",
    "filtered_data"
   ]
  },
  {
   "cell_type": "markdown",
   "metadata": {},
   "source": [
    "### 灾害发生随时间变化次数具有周期性，利用ARIMA进行时间序列分析"
   ]
  },
  {
   "cell_type": "code",
   "execution_count": 55,
   "metadata": {},
   "outputs": [
    {
     "name": "stdout",
     "output_type": "stream",
     "text": [
      "预测结果：\n",
      "2948: 11.276791374785493\n",
      "均方根误差(RMSE): 3.7232086252145074\n",
      "2023年10月的预测结果:\n",
      "发生次数: 11.443400846140262\n"
     ]
    },
    {
     "name": "stderr",
     "output_type": "stream",
     "text": [
      "d:\\Python3.9.7\\lib\\site-packages\\statsmodels\\tsa\\base\\tsa_model.py:473: ValueWarning:\n",
      "\n",
      "A date index has been provided, but it has no associated frequency information and so will be ignored when e.g. forecasting.\n",
      "\n",
      "d:\\Python3.9.7\\lib\\site-packages\\statsmodels\\tsa\\base\\tsa_model.py:473: ValueWarning:\n",
      "\n",
      "A date index has been provided, but it has no associated frequency information and so will be ignored when e.g. forecasting.\n",
      "\n",
      "d:\\Python3.9.7\\lib\\site-packages\\statsmodels\\tsa\\base\\tsa_model.py:473: ValueWarning:\n",
      "\n",
      "A date index has been provided, but it has no associated frequency information and so will be ignored when e.g. forecasting.\n",
      "\n",
      "d:\\Python3.9.7\\lib\\site-packages\\statsmodels\\tsa\\base\\tsa_model.py:836: ValueWarning:\n",
      "\n",
      "No supported index is available. Prediction results will be given with an integer index beginning at `start`.\n",
      "\n",
      "d:\\Python3.9.7\\lib\\site-packages\\statsmodels\\tsa\\base\\tsa_model.py:836: FutureWarning:\n",
      "\n",
      "No supported index is available. In the next version, calling this method in a model without a supported index will result in an exception.\n",
      "\n",
      "d:\\Python3.9.7\\lib\\site-packages\\statsmodels\\tsa\\base\\tsa_model.py:836: ValueWarning:\n",
      "\n",
      "No supported index is available. Prediction results will be given with an integer index beginning at `start`.\n",
      "\n",
      "d:\\Python3.9.7\\lib\\site-packages\\statsmodels\\tsa\\base\\tsa_model.py:836: FutureWarning:\n",
      "\n",
      "No supported index is available. In the next version, calling this method in a model without a supported index will result in an exception.\n",
      "\n"
     ]
    }
   ],
   "source": [
    "import statsmodels.api as sm\n",
    "from sklearn.metrics import mean_squared_error\n",
    "# filtered_data.set_index('DATE', inplace=True)\n",
    "# 划分训练集和测试集\n",
    "train_data = filtered_data.iloc[:-1]\n",
    "test_data = filtered_data.iloc[-1:]\n",
    "\n",
    "# 创建时间序列\n",
    "time_series = pd.Series(train_data['Count'].values, index=pd.to_datetime(train_data.index))\n",
    "\n",
    "# 创建ARIMA模型\n",
    "model = sm.tsa.ARIMA(time_series, order=(1, 0, 0))\n",
    "results = model.fit()\n",
    "\n",
    "# 预测测试集\n",
    "prediction = results.predict(start=len(train_data), end=len(train_data)+len(test_data)-1)\n",
    "# 将预测结果日期设置为测试集日期\n",
    "prediction.index = test_data.index\n",
    "\n",
    "# 打印预测结果及对应日期\n",
    "print(\"预测结果：\")\n",
    "for date, count in prediction.items():\n",
    "    print(f\"{date}: {count}\")\n",
    "\n",
    "# 计算均方根误差（Root Mean Squared Error，RMSE）\n",
    "rmse = mean_squared_error(test_data['Count'], prediction, squared=False)\n",
    "print(\"均方根误差(RMSE):\", rmse)\n",
    "\n",
    "# 预测2023年10月\n",
    "\n",
    "prediction = results.predict(start=len(train_data)+len(test_data), end=len(train_data)+len(test_data))\n",
    "\n",
    "# 打印预测结果及对应日期\n",
    "print(\"2023年10月的预测结果:\")\n",
    "for date, count in prediction.items():\n",
    "    print(f\"发生次数: {count}\")"
   ]
  },
  {
   "cell_type": "markdown",
   "metadata": {},
   "source": [
    "### 获取极端天气事件字典"
   ]
  },
  {
   "cell_type": "code",
   "execution_count": 54,
   "metadata": {},
   "outputs": [
    {
     "data": {
      "text/html": [
       "<div>\n",
       "<style scoped>\n",
       "    .dataframe tbody tr th:only-of-type {\n",
       "        vertical-align: middle;\n",
       "    }\n",
       "\n",
       "    .dataframe tbody tr th {\n",
       "        vertical-align: top;\n",
       "    }\n",
       "\n",
       "    .dataframe thead th {\n",
       "        text-align: right;\n",
       "    }\n",
       "</style>\n",
       "<table border=\"1\" class=\"dataframe\">\n",
       "  <thead>\n",
       "    <tr style=\"text-align: right;\">\n",
       "      <th></th>\n",
       "      <th>EVENT_TYPE</th>\n",
       "    </tr>\n",
       "  </thead>\n",
       "  <tbody>\n",
       "    <tr>\n",
       "      <th>0</th>\n",
       "      <td>sand/dust storm</td>\n",
       "    </tr>\n",
       "    <tr>\n",
       "      <th>1</th>\n",
       "      <td>drought</td>\n",
       "    </tr>\n",
       "    <tr>\n",
       "      <th>2</th>\n",
       "      <td>landslide (wet)</td>\n",
       "    </tr>\n",
       "    <tr>\n",
       "      <th>3</th>\n",
       "      <td>coastal flood</td>\n",
       "    </tr>\n",
       "    <tr>\n",
       "      <th>4</th>\n",
       "      <td>ash fall</td>\n",
       "    </tr>\n",
       "    <tr>\n",
       "      <th>5</th>\n",
       "      <td>landslide (dry)</td>\n",
       "    </tr>\n",
       "    <tr>\n",
       "      <th>6</th>\n",
       "      <td>extra-tropical storm</td>\n",
       "    </tr>\n",
       "    <tr>\n",
       "      <th>7</th>\n",
       "      <td>lightning/thunderstorms</td>\n",
       "    </tr>\n",
       "    <tr>\n",
       "      <th>8</th>\n",
       "      <td>mudslide</td>\n",
       "    </tr>\n",
       "    <tr>\n",
       "      <th>9</th>\n",
       "      <td>tropical cyclone</td>\n",
       "    </tr>\n",
       "    <tr>\n",
       "      <th>10</th>\n",
       "      <td>heat wave</td>\n",
       "    </tr>\n",
       "    <tr>\n",
       "      <th>11</th>\n",
       "      <td>volcanic activity (general)</td>\n",
       "    </tr>\n",
       "    <tr>\n",
       "      <th>12</th>\n",
       "      <td>storm (general)</td>\n",
       "    </tr>\n",
       "    <tr>\n",
       "      <th>13</th>\n",
       "      <td>land fire (brush, bush, pasture)</td>\n",
       "    </tr>\n",
       "    <tr>\n",
       "      <th>14</th>\n",
       "      <td>tornado</td>\n",
       "    </tr>\n",
       "    <tr>\n",
       "      <th>15</th>\n",
       "      <td>severe weather</td>\n",
       "    </tr>\n",
       "    <tr>\n",
       "      <th>16</th>\n",
       "      <td>tsunami</td>\n",
       "    </tr>\n",
       "    <tr>\n",
       "      <th>17</th>\n",
       "      <td>lava flow</td>\n",
       "    </tr>\n",
       "    <tr>\n",
       "      <th>18</th>\n",
       "      <td>ground movement</td>\n",
       "    </tr>\n",
       "    <tr>\n",
       "      <th>19</th>\n",
       "      <td>flood (general)</td>\n",
       "    </tr>\n",
       "    <tr>\n",
       "      <th>20</th>\n",
       "      <td>hail</td>\n",
       "    </tr>\n",
       "    <tr>\n",
       "      <th>21</th>\n",
       "      <td>rockfall (wet)</td>\n",
       "    </tr>\n",
       "    <tr>\n",
       "      <th>22</th>\n",
       "      <td>flash flood</td>\n",
       "    </tr>\n",
       "    <tr>\n",
       "      <th>23</th>\n",
       "      <td>blizzard/winter storm</td>\n",
       "    </tr>\n",
       "    <tr>\n",
       "      <th>24</th>\n",
       "      <td>wildfire (general)</td>\n",
       "    </tr>\n",
       "    <tr>\n",
       "      <th>25</th>\n",
       "      <td>derecho</td>\n",
       "    </tr>\n",
       "    <tr>\n",
       "      <th>26</th>\n",
       "      <td>pyroclastic flow</td>\n",
       "    </tr>\n",
       "    <tr>\n",
       "      <th>27</th>\n",
       "      <td>cold wave</td>\n",
       "    </tr>\n",
       "    <tr>\n",
       "      <th>28</th>\n",
       "      <td>severe winter conditions</td>\n",
       "    </tr>\n",
       "    <tr>\n",
       "      <th>29</th>\n",
       "      <td>forest fire</td>\n",
       "    </tr>\n",
       "    <tr>\n",
       "      <th>30</th>\n",
       "      <td>riverine flood</td>\n",
       "    </tr>\n",
       "    <tr>\n",
       "      <th>31</th>\n",
       "      <td>storm surge</td>\n",
       "    </tr>\n",
       "  </tbody>\n",
       "</table>\n",
       "</div>"
      ],
      "text/plain": [
       "                          EVENT_TYPE\n",
       "0                    sand/dust storm\n",
       "1                            drought\n",
       "2                    landslide (wet)\n",
       "3                      coastal flood\n",
       "4                           ash fall\n",
       "5                    landslide (dry)\n",
       "6               extra-tropical storm\n",
       "7            lightning/thunderstorms\n",
       "8                           mudslide\n",
       "9                   tropical cyclone\n",
       "10                         heat wave\n",
       "11       volcanic activity (general)\n",
       "12                   storm (general)\n",
       "13  land fire (brush, bush, pasture)\n",
       "14                           tornado\n",
       "15                    severe weather\n",
       "16                           tsunami\n",
       "17                         lava flow\n",
       "18                   ground movement\n",
       "19                   flood (general)\n",
       "20                              hail\n",
       "21                    rockfall (wet)\n",
       "22                       flash flood\n",
       "23             blizzard/winter storm\n",
       "24                wildfire (general)\n",
       "25                           derecho\n",
       "26                  pyroclastic flow\n",
       "27                         cold wave\n",
       "28          severe winter conditions\n",
       "29                       forest fire\n",
       "30                    riverine flood\n",
       "31                       storm surge"
      ]
     },
     "execution_count": 54,
     "metadata": {},
     "output_type": "execute_result"
    }
   ],
   "source": [
    "\n",
    "\n",
    "# 加载dictionary和dictionary2文件\n",
    "df2 = pd.read_csv(r'D:\\VSCodeWorkSpace\\2024_C\\dataVisualise\\dictionary_2.csv')\n",
    "df1 = pd.read_csv(r'D:\\VSCodeWorkSpace\\2024_C\\dataprocess\\dictionary.csv')\n",
    "\n",
    "# 提取两个文件中的事件类型列\n",
    "df1['事件种类']=df1['事件种类'].str.lower()\n",
    "df2['事件种类']=df1['事件种类'].str.lower()\n",
    "events1 = set(df1['事件种类'])\n",
    "events2 = set(df2['事件种类'])\n",
    "\n",
    "# 找到两个文件中的公共部分\n",
    "common_events = events1.intersection(events2)\n",
    "common_dic = pd.DataFrame(common_events, columns=['EVENT_TYPE'])\n",
    "common_dic.to_csv('{}.csv'.format('dataset_process/dic_incommon'),index=False)\n",
    "common_dic"
   ]
  },
  {
   "cell_type": "code",
   "execution_count": null,
   "metadata": {},
   "outputs": [
    {
     "name": "stdout",
     "output_type": "stream",
     "text": [
      "最近观测日期: 2024-01-23 00:00:00\n",
      "距离2000年1月1日的天数: 8788\n",
      "最近观测日期: 2024-01-23 00:00:00\n",
      "距离2000年1月1日的天数: 8788\n",
      "最近观测日期: 2024-01-23 00:00:00\n",
      "距离2000年1月1日的天数: 8788\n"
     ]
    },
    {
     "data": {
      "text/html": [
       "<div>\n",
       "<style scoped>\n",
       "    .dataframe tbody tr th:only-of-type {\n",
       "        vertical-align: middle;\n",
       "    }\n",
       "\n",
       "    .dataframe tbody tr th {\n",
       "        vertical-align: top;\n",
       "    }\n",
       "\n",
       "    .dataframe thead th {\n",
       "        text-align: right;\n",
       "    }\n",
       "</style>\n",
       "<table border=\"1\" class=\"dataframe\">\n",
       "  <thead>\n",
       "    <tr style=\"text-align: right;\">\n",
       "      <th></th>\n",
       "      <th>Start Year</th>\n",
       "      <th>Country</th>\n",
       "      <th>province</th>\n",
       "      <th>Disaster Subtype</th>\n",
       "      <th>COUNT</th>\n",
       "    </tr>\n",
       "  </thead>\n",
       "  <tbody>\n",
       "    <tr>\n",
       "      <th>0</th>\n",
       "      <td>2000</td>\n",
       "      <td>Afghanistan</td>\n",
       "      <td>Uruzgan</td>\n",
       "      <td>drought</td>\n",
       "      <td>1</td>\n",
       "    </tr>\n",
       "    <tr>\n",
       "      <th>1</th>\n",
       "      <td>2000</td>\n",
       "      <td>Armenia</td>\n",
       "      <td>Lori</td>\n",
       "      <td>drought</td>\n",
       "      <td>1</td>\n",
       "    </tr>\n",
       "    <tr>\n",
       "      <th>2</th>\n",
       "      <td>2000</td>\n",
       "      <td>Azerbaijan</td>\n",
       "      <td>Yukhari Garabakh</td>\n",
       "      <td>drought</td>\n",
       "      <td>1</td>\n",
       "    </tr>\n",
       "    <tr>\n",
       "      <th>3</th>\n",
       "      <td>2000</td>\n",
       "      <td>Bangladesh</td>\n",
       "      <td>Chittagong</td>\n",
       "      <td>coastal flood</td>\n",
       "      <td>1</td>\n",
       "    </tr>\n",
       "    <tr>\n",
       "      <th>4</th>\n",
       "      <td>2000</td>\n",
       "      <td>Bangladesh</td>\n",
       "      <td>Chittagong</td>\n",
       "      <td>flash flood</td>\n",
       "      <td>1</td>\n",
       "    </tr>\n",
       "    <tr>\n",
       "      <th>...</th>\n",
       "      <td>...</td>\n",
       "      <td>...</td>\n",
       "      <td>...</td>\n",
       "      <td>...</td>\n",
       "      <td>...</td>\n",
       "    </tr>\n",
       "    <tr>\n",
       "      <th>1341</th>\n",
       "      <td>2022</td>\n",
       "      <td>Viet Nam</td>\n",
       "      <td>Bac Kan and Cao Bang</td>\n",
       "      <td>flood (general)</td>\n",
       "      <td>1</td>\n",
       "    </tr>\n",
       "    <tr>\n",
       "      <th>1342</th>\n",
       "      <td>2022</td>\n",
       "      <td>Viet Nam</td>\n",
       "      <td>Kon Tum</td>\n",
       "      <td>storm surge</td>\n",
       "      <td>1</td>\n",
       "    </tr>\n",
       "    <tr>\n",
       "      <th>1343</th>\n",
       "      <td>2023</td>\n",
       "      <td>Indonesia</td>\n",
       "      <td>Southeast Sulawesi and Central Sulawesi</td>\n",
       "      <td>severe weather</td>\n",
       "      <td>1</td>\n",
       "    </tr>\n",
       "    <tr>\n",
       "      <th>1344</th>\n",
       "      <td>2023</td>\n",
       "      <td>Thailand</td>\n",
       "      <td>Narathiwat</td>\n",
       "      <td>flood (general)</td>\n",
       "      <td>1</td>\n",
       "    </tr>\n",
       "    <tr>\n",
       "      <th>1345</th>\n",
       "      <td>2023</td>\n",
       "      <td>Türkiye</td>\n",
       "      <td>Sakarya</td>\n",
       "      <td>extra-tropical storm</td>\n",
       "      <td>1</td>\n",
       "    </tr>\n",
       "  </tbody>\n",
       "</table>\n",
       "<p>1336 rows × 5 columns</p>\n",
       "</div>"
      ],
      "text/plain": [
       "      Start Year      Country                                 province  \\\n",
       "0           2000  Afghanistan                                  Uruzgan   \n",
       "1           2000      Armenia                                     Lori   \n",
       "2           2000   Azerbaijan                         Yukhari Garabakh   \n",
       "3           2000   Bangladesh                               Chittagong   \n",
       "4           2000   Bangladesh                               Chittagong   \n",
       "...          ...          ...                                      ...   \n",
       "1341        2022     Viet Nam                     Bac Kan and Cao Bang   \n",
       "1342        2022     Viet Nam                                  Kon Tum   \n",
       "1343        2023    Indonesia  Southeast Sulawesi and Central Sulawesi   \n",
       "1344        2023     Thailand                               Narathiwat   \n",
       "1345        2023      Türkiye                                  Sakarya   \n",
       "\n",
       "          Disaster Subtype  COUNT  \n",
       "0                  drought      1  \n",
       "1                  drought      1  \n",
       "2                  drought      1  \n",
       "3            coastal flood      1  \n",
       "4              flash flood      1  \n",
       "...                    ...    ...  \n",
       "1341       flood (general)      1  \n",
       "1342           storm surge      1  \n",
       "1343        severe weather      1  \n",
       "1344       flood (general)      1  \n",
       "1345  extra-tropical storm      1  \n",
       "\n",
       "[1336 rows x 5 columns]"
      ]
     },
     "execution_count": 19,
     "metadata": {},
     "output_type": "execute_result"
    }
   ],
   "source": [
    "file_data=r\"D:\\VSCodeWorkSpace\\2024_C\\data\\public_emdat_custom_request_2024-02-02_7d30c6e3-dd6a-49d6-a677-2ff9ff7a6aee.xlsx\"\n",
    "file_dictionary=r\"D:\\VSCodeWorkSpace\\2024_C\\dataprocess\\dic_incommon.csv\"\n",
    "asiadata=ASIData(file_data,file_dictionary)\n",
    "asiadata.get_data()\n",
    "filtered_data,latest_date,days_since_2000=asiadata.dataFILTER()\n",
    "\n",
    "asiadata.upload_data(filename=\"filered_data_AISA\")\n",
    "b=asiadata.statistics(filename=\"rate_AISA\")\n",
    "b\n",
    "filtered_data"
   ]
  },
  {
   "cell_type": "markdown",
   "metadata": {},
   "source": [
    "### 查看美洲的数据集"
   ]
  },
  {
   "cell_type": "code",
   "execution_count": null,
   "metadata": {},
   "outputs": [
    {
     "name": "stdout",
     "output_type": "stream",
     "text": [
      "最近观测日期: 2024-01-29 00:00:00\n",
      "距离2000年1月1日的天数: 8794\n",
      "最近观测日期: 2024-01-29 00:00:00\n",
      "距离2000年1月1日的天数: 8794\n",
      "最近观测日期: 2024-01-29 00:00:00\n",
      "距离2000年1月1日的天数: 8794\n"
     ]
    },
    {
     "data": {
      "text/html": [
       "<div>\n",
       "<style scoped>\n",
       "    .dataframe tbody tr th:only-of-type {\n",
       "        vertical-align: middle;\n",
       "    }\n",
       "\n",
       "    .dataframe tbody tr th {\n",
       "        vertical-align: top;\n",
       "    }\n",
       "\n",
       "    .dataframe thead th {\n",
       "        text-align: right;\n",
       "    }\n",
       "</style>\n",
       "<table border=\"1\" class=\"dataframe\">\n",
       "  <thead>\n",
       "    <tr style=\"text-align: right;\">\n",
       "      <th></th>\n",
       "      <th>Start Year</th>\n",
       "      <th>Country</th>\n",
       "      <th>province</th>\n",
       "      <th>Disaster Subtype</th>\n",
       "      <th>COUNT</th>\n",
       "    </tr>\n",
       "  </thead>\n",
       "  <tbody>\n",
       "    <tr>\n",
       "      <th>0</th>\n",
       "      <td>2000</td>\n",
       "      <td>Argentina</td>\n",
       "      <td>Buenos Aires</td>\n",
       "      <td>lightning/thunderstorms</td>\n",
       "      <td>1</td>\n",
       "    </tr>\n",
       "    <tr>\n",
       "      <th>1</th>\n",
       "      <td>2000</td>\n",
       "      <td>Argentina</td>\n",
       "      <td>Formosa</td>\n",
       "      <td>forest fire</td>\n",
       "      <td>1</td>\n",
       "    </tr>\n",
       "    <tr>\n",
       "      <th>2</th>\n",
       "      <td>2000</td>\n",
       "      <td>Argentina</td>\n",
       "      <td>La Cordoba</td>\n",
       "      <td>flood (general)</td>\n",
       "      <td>1</td>\n",
       "    </tr>\n",
       "    <tr>\n",
       "      <th>3</th>\n",
       "      <td>2000</td>\n",
       "      <td>Argentina</td>\n",
       "      <td>Santa Cruz</td>\n",
       "      <td>cold wave</td>\n",
       "      <td>1</td>\n",
       "    </tr>\n",
       "    <tr>\n",
       "      <th>4</th>\n",
       "      <td>2000</td>\n",
       "      <td>Argentina</td>\n",
       "      <td>Santa Fe</td>\n",
       "      <td>flood (general)</td>\n",
       "      <td>2</td>\n",
       "    </tr>\n",
       "    <tr>\n",
       "      <th>...</th>\n",
       "      <td>...</td>\n",
       "      <td>...</td>\n",
       "      <td>...</td>\n",
       "      <td>...</td>\n",
       "      <td>...</td>\n",
       "    </tr>\n",
       "    <tr>\n",
       "      <th>963</th>\n",
       "      <td>2021</td>\n",
       "      <td>Peru</td>\n",
       "      <td>Satipo</td>\n",
       "      <td>flood (general)</td>\n",
       "      <td>1</td>\n",
       "    </tr>\n",
       "    <tr>\n",
       "      <th>964</th>\n",
       "      <td>2022</td>\n",
       "      <td>Cuba</td>\n",
       "      <td>and Matanzas</td>\n",
       "      <td>tropical cyclone</td>\n",
       "      <td>1</td>\n",
       "    </tr>\n",
       "    <tr>\n",
       "      <th>965</th>\n",
       "      <td>2022</td>\n",
       "      <td>Ecuador</td>\n",
       "      <td>El Oro</td>\n",
       "      <td>flood (general)</td>\n",
       "      <td>1</td>\n",
       "    </tr>\n",
       "    <tr>\n",
       "      <th>966</th>\n",
       "      <td>2022</td>\n",
       "      <td>Ecuador</td>\n",
       "      <td>Tungurahua</td>\n",
       "      <td>riverine flood</td>\n",
       "      <td>1</td>\n",
       "    </tr>\n",
       "    <tr>\n",
       "      <th>967</th>\n",
       "      <td>2023</td>\n",
       "      <td>Cuba</td>\n",
       "      <td>and Havana</td>\n",
       "      <td>tropical cyclone</td>\n",
       "      <td>1</td>\n",
       "    </tr>\n",
       "  </tbody>\n",
       "</table>\n",
       "<p>968 rows × 5 columns</p>\n",
       "</div>"
      ],
      "text/plain": [
       "     Start Year    Country      province         Disaster Subtype  COUNT\n",
       "0          2000  Argentina  Buenos Aires  lightning/thunderstorms      1\n",
       "1          2000  Argentina       Formosa              forest fire      1\n",
       "2          2000  Argentina    La Cordoba          flood (general)      1\n",
       "3          2000  Argentina    Santa Cruz                cold wave      1\n",
       "4          2000  Argentina      Santa Fe          flood (general)      2\n",
       "..          ...        ...           ...                      ...    ...\n",
       "963        2021       Peru        Satipo          flood (general)      1\n",
       "964        2022       Cuba  and Matanzas         tropical cyclone      1\n",
       "965        2022    Ecuador        El Oro          flood (general)      1\n",
       "966        2022    Ecuador    Tungurahua           riverine flood      1\n",
       "967        2023       Cuba    and Havana         tropical cyclone      1\n",
       "\n",
       "[968 rows x 5 columns]"
      ]
     },
     "execution_count": 20,
     "metadata": {},
     "output_type": "execute_result"
    }
   ],
   "source": [
    "file_data=r\"D:\\VSCodeWorkSpace\\2024_C\\data\\public_emdat_custom_request_2024-02-02_dd97d827-78f7-4070-9c73-86139a6f2f2d.xlsx\"\n",
    "file_dictionary=r\"D:\\VSCodeWorkSpace\\2024_C\\dataprocess\\dic_incommon.csv\"\n",
    "asiadata=ASIData(file_data,file_dictionary)\n",
    "asiadata.get_data()\n",
    "filtered_data_a,latest_date,days_since_2000=asiadata.dataFILTER()\n",
    "filtered_data_a\n",
    "asiadata.upload_data(\"filered_data_AMRICA\")\n",
    "b,grouped=asiadata.statistics(filename=\"rate_AMRICA\")\n",
    "filtered_data_a"
   ]
  },
  {
   "cell_type": "markdown",
   "metadata": {},
   "source": [
    "### 以Florida每年tropical cyclone为例，绘制发生次数随时间的变化趋势，单位为年"
   ]
  },
  {
   "cell_type": "code",
   "execution_count": null,
   "metadata": {},
   "outputs": [
    {
     "name": "stderr",
     "output_type": "stream",
     "text": [
      "C:\\Users\\JiangJinrui\\AppData\\Local\\Temp\\ipykernel_28360\\1231636569.py:6: SettingWithCopyWarning: \n",
      "A value is trying to be set on a copy of a slice from a DataFrame.\n",
      "Try using .loc[row_indexer,col_indexer] = value instead\n",
      "\n",
      "See the caveats in the documentation: https://pandas.pydata.org/pandas-docs/stable/user_guide/indexing.html#returning-a-view-versus-a-copy\n",
      "  filtered_data[\"Start Year\"] = pd.to_datetime(filtered_data[\"Start Year\"], format=\"%Y\")\n"
     ]
    },
    {
     "data": {
      "image/png": "[encoded data removed]",
      "text/plain": [
       "<Figure size 640x480 with 1 Axes>"
      ]
     },
     "metadata": {},
     "output_type": "display_data"
    },
    {
     "data": {
      "text/html": [
       "<div>\n",
       "<style scoped>\n",
       "    .dataframe tbody tr th:only-of-type {\n",
       "        vertical-align: middle;\n",
       "    }\n",
       "\n",
       "    .dataframe tbody tr th {\n",
       "        vertical-align: top;\n",
       "    }\n",
       "\n",
       "    .dataframe thead th {\n",
       "        text-align: right;\n",
       "    }\n",
       "</style>\n",
       "<table border=\"1\" class=\"dataframe\">\n",
       "  <thead>\n",
       "    <tr style=\"text-align: right;\">\n",
       "      <th></th>\n",
       "      <th>Start Year</th>\n",
       "      <th>Country</th>\n",
       "      <th>province</th>\n",
       "      <th>Disaster Subtype</th>\n",
       "      <th>COUNT</th>\n",
       "    </tr>\n",
       "  </thead>\n",
       "  <tbody>\n",
       "    <tr>\n",
       "      <th>325</th>\n",
       "      <td>2005-01-01</td>\n",
       "      <td>United States of America</td>\n",
       "      <td>Florida</td>\n",
       "      <td>tropical cyclone</td>\n",
       "      <td>1</td>\n",
       "    </tr>\n",
       "    <tr>\n",
       "      <th>500</th>\n",
       "      <td>2008-01-01</td>\n",
       "      <td>United States of America</td>\n",
       "      <td>Florida</td>\n",
       "      <td>tropical cyclone</td>\n",
       "      <td>1</td>\n",
       "    </tr>\n",
       "    <tr>\n",
       "      <th>675</th>\n",
       "      <td>2011-01-01</td>\n",
       "      <td>United States of America</td>\n",
       "      <td>Florida</td>\n",
       "      <td>tropical cyclone</td>\n",
       "      <td>1</td>\n",
       "    </tr>\n",
       "  </tbody>\n",
       "</table>\n",
       "</div>"
      ],
      "text/plain": [
       "    Start Year                   Country province  Disaster Subtype  COUNT\n",
       "325 2005-01-01  United States of America  Florida  tropical cyclone      1\n",
       "500 2008-01-01  United States of America  Florida  tropical cyclone      1\n",
       "675 2011-01-01  United States of America  Florida  tropical cyclone      1"
      ]
     },
     "execution_count": 21,
     "metadata": {},
     "output_type": "execute_result"
    }
   ],
   "source": [
    "# 筛选出满足条件的数据\n",
    "filtered_data = filtered_data_a[(filtered_data_a[\"province\"] == \"Florida\") \n",
    "                                & (filtered_data_a[\"Disaster Subtype\"] == \"tropical cyclone\")]\n",
    "filtered_data\n",
    "# 将\"Year\"列转换为日期类型\n",
    "filtered_data[\"Start Year\"] = pd.to_datetime(filtered_data[\"Start Year\"], format=\"%Y\")\n",
    "\n",
    "\n",
    "\n",
    "# 绘制折线图\n",
    "plt.plot(filtered_data[\"Start Year\"], filtered_data[\"COUNT\"])\n",
    "plt.xlabel(\"Start Year\")\n",
    "plt.ylabel(\"Count\")\n",
    "plt.title(\"Count of Tropical Cyclone in Florida Over Time\")\n",
    "plt.show()\n",
    "filtered_data"
   ]
  },
  {
   "cell_type": "markdown",
   "metadata": {},
   "source": [
    "#### 测试最优化问题库"
   ]
  },
  {
   "cell_type": "code",
   "execution_count": null,
   "metadata": {},
   "outputs": [
    {
     "name": "stdout",
     "output_type": "stream",
     "text": [
      " message: Optimization terminated successfully\n",
      " success: True\n",
      "  status: 0\n",
      "     fun: 11.000000000001371\n",
      "       x: [ 1.000e+01  1.000e+01  1.000e+00]\n",
      "     nit: 2\n",
      "     jac: [-1.000e+00  2.000e+00  1.000e+00]\n",
      "    nfev: 8\n",
      "    njev: 2\n"
     ]
    }
   ],
   "source": [
    "from scipy.optimize import minimize\n",
    "\n",
    "# 定义目标函数\n",
    "def objective(x):\n",
    "    return -(x[0] - 2*x[1] - x[2])\n",
    "\n",
    "# 定义约束条件\n",
    "def constraint1(x):\n",
    "    return x[0] - 10\n",
    "\n",
    "def constraint2(x):\n",
    "    return x[0] + x[1] - 20\n",
    "\n",
    "def constraint3(x):\n",
    "    return x[2] - 1\n",
    "\n",
    "# 定义变量的取值范围\n",
    "x0_bounds = (0, 10)\n",
    "x1_bounds = (0, 20)\n",
    "x2_bounds = (-0.69, 1)\n",
    "bounds = [x0_bounds, x1_bounds, x2_bounds]\n",
    "\n",
    "# 定义约束条件\n",
    "con1 = {'type': 'ineq', 'fun': constraint1}\n",
    "con2 = {'type': 'ineq', 'fun': constraint2}\n",
    "con3 = {'type': 'ineq', 'fun': constraint3}\n",
    "cons = [con1, con2, con3]\n",
    "\n",
    "# 求解最优化问题\n",
    "result = minimize(objective, [0, 0, 0], method='SLSQP', bounds=bounds, constraints=cons)\n",
    "\n",
    "# 输出结果\n",
    "print(result)"
   ]
  },
  {
   "cell_type": "code",
   "execution_count": null,
   "metadata": {},
   "outputs": [
    {
     "name": "stdout",
     "output_type": "stream",
     "text": [
      "False\n",
      "[10.          7.39130435  0.86956522]\n",
      "-5.65217391314701\n"
     ]
    }
   ],
   "source": [
    "from scipy.optimize import minimize\n",
    "\n",
    "# 定义目标函数\n",
    "def objective(x):\n",
    "    return -(x[0] - 2*x[1] - x[2])\n",
    "\n",
    "# 定义约束条件\n",
    "def constraint1(x):\n",
    "    return x[0] - 10\n",
    "\n",
    "def constraint2(x):\n",
    "    return x[0] + x[1] - 20\n",
    "\n",
    "def constraint3(x):\n",
    "    return x[2] - 1\n",
    "\n",
    "def constraint4(x, C):\n",
    "    return 2*x[0] - 2*x[1] - x[2] - C\n",
    "\n",
    "# 定义变量的取值范围\n",
    "x0_bounds = (0, 10)\n",
    "x1_bounds = (0, 20)\n",
    "x2_bounds = (-0.69, 1)\n",
    "bounds = [x0_bounds, x1_bounds, x2_bounds]\n",
    "\n",
    "# 定义约束条件\n",
    "con1 = {'type': 'ineq', 'fun': constraint1}\n",
    "con2 = {'type': 'ineq', 'fun': constraint2}\n",
    "con3 = {'type': 'ineq', 'fun': constraint3}\n",
    "con4 = {'type': 'eq', 'fun': constraint4, 'args': (5,)}\n",
    "cons = [con1, con2, con3, con4]\n",
    "\n",
    "# 求解最优化问题\n",
    "result = minimize(objective, [0, 0, 0], method='SLSQP', bounds=bounds, constraints=cons)\n",
    "\n",
    "# 输出结果\n",
    "print(result.success) # 打印是否成功求解\n",
    "print(result.x) # 打印最优解的变量值\n",
    "print(-result.fun) # 打印最优解的目标函数值"
   ]
  },
  {
   "cell_type": "code",
   "execution_count": null,
   "metadata": {},
   "outputs": [
    {
     "name": "stdout",
     "output_type": "stream",
     "text": [
      "Gurobi Optimizer version 11.0.0 build v11.0.0rc2 (win64 - Windows 11.0 (22621.2))\n"
     ]
    },
    {
     "name": "stderr",
     "output_type": "stream",
     "text": [
      "2024-02-04 11:29:58,200 - gurobipy - INFO - Gurobi Optimizer version 11.0.0 build v11.0.0rc2 (win64 - Windows 11.0 (22621.2))\n"
     ]
    },
    {
     "name": "stdout",
     "output_type": "stream",
     "text": [
      "\n"
     ]
    },
    {
     "name": "stderr",
     "output_type": "stream",
     "text": [
      "2024-02-04 11:29:58,201 - gurobipy - INFO - \n"
     ]
    },
    {
     "name": "stdout",
     "output_type": "stream",
     "text": [
      "CPU model: AMD Ryzen 9 7945HX with Radeon Graphics, instruction set [SSE2|AVX|AVX2|AVX512]\n"
     ]
    },
    {
     "name": "stderr",
     "output_type": "stream",
     "text": [
      "2024-02-04 11:29:58,202 - gurobipy - INFO - CPU model: AMD Ryzen 9 7945HX with Radeon Graphics, instruction set [SSE2|AVX|AVX2|AVX512]\n"
     ]
    },
    {
     "name": "stdout",
     "output_type": "stream",
     "text": [
      "Thread count: 16 physical cores, 32 logical processors, using up to 32 threads\n"
     ]
    },
    {
     "name": "stderr",
     "output_type": "stream",
     "text": [
      "2024-02-04 11:29:58,203 - gurobipy - INFO - Thread count: 16 physical cores, 32 logical processors, using up to 32 threads\n"
     ]
    },
    {
     "name": "stdout",
     "output_type": "stream",
     "text": [
      "\n"
     ]
    },
    {
     "name": "stderr",
     "output_type": "stream",
     "text": [
      "2024-02-04 11:29:58,205 - gurobipy - INFO - \n"
     ]
    },
    {
     "name": "stdout",
     "output_type": "stream",
     "text": [
      "Optimize a model with 6 rows, 4 columns and 12 nonzeros\n"
     ]
    },
    {
     "name": "stderr",
     "output_type": "stream",
     "text": [
      "2024-02-04 11:29:58,206 - gurobipy - INFO - Optimize a model with 6 rows, 4 columns and 12 nonzeros\n"
     ]
    },
    {
     "name": "stdout",
     "output_type": "stream",
     "text": [
      "Model fingerprint: 0xc892a2e9\n"
     ]
    },
    {
     "name": "stderr",
     "output_type": "stream",
     "text": [
      "2024-02-04 11:29:58,207 - gurobipy - INFO - Model fingerprint: 0xc892a2e9\n"
     ]
    },
    {
     "name": "stdout",
     "output_type": "stream",
     "text": [
      "Coefficient statistics:\n"
     ]
    },
    {
     "name": "stderr",
     "output_type": "stream",
     "text": [
      "2024-02-04 11:29:58,208 - gurobipy - INFO - Coefficient statistics:\n"
     ]
    },
    {
     "name": "stdout",
     "output_type": "stream",
     "text": [
      "  Matrix range     [1e+00, 2e+00]\n"
     ]
    },
    {
     "name": "stderr",
     "output_type": "stream",
     "text": [
      "2024-02-04 11:29:58,209 - gurobipy - INFO -   Matrix range     [1e+00, 2e+00]\n"
     ]
    },
    {
     "name": "stdout",
     "output_type": "stream",
     "text": [
      "  Objective range  [1e+00, 1e+00]\n"
     ]
    },
    {
     "name": "stderr",
     "output_type": "stream",
     "text": [
      "2024-02-04 11:29:58,209 - gurobipy - INFO -   Objective range  [1e+00, 1e+00]\n"
     ]
    },
    {
     "name": "stdout",
     "output_type": "stream",
     "text": [
      "  Bounds range     [7e-01, 7e-01]\n"
     ]
    },
    {
     "name": "stderr",
     "output_type": "stream",
     "text": [
      "2024-02-04 11:29:58,210 - gurobipy - INFO -   Bounds range     [7e-01, 7e-01]\n"
     ]
    },
    {
     "name": "stdout",
     "output_type": "stream",
     "text": [
      "  RHS range        [7e-01, 7e+04]\n"
     ]
    },
    {
     "name": "stderr",
     "output_type": "stream",
     "text": [
      "2024-02-04 11:29:58,211 - gurobipy - INFO -   RHS range        [7e-01, 7e+04]\n"
     ]
    },
    {
     "name": "stdout",
     "output_type": "stream",
     "text": [
      "Presolve removed 6 rows and 4 columns\n"
     ]
    },
    {
     "name": "stderr",
     "output_type": "stream",
     "text": [
      "2024-02-04 11:29:58,212 - gurobipy - INFO - Presolve removed 6 rows and 4 columns\n"
     ]
    },
    {
     "name": "stdout",
     "output_type": "stream",
     "text": [
      "Presolve time: 0.01s\n"
     ]
    },
    {
     "name": "stderr",
     "output_type": "stream",
     "text": [
      "2024-02-04 11:29:58,213 - gurobipy - INFO - Presolve time: 0.01s\n"
     ]
    },
    {
     "name": "stdout",
     "output_type": "stream",
     "text": [
      "Presolve: All rows and columns removed\n"
     ]
    },
    {
     "name": "stderr",
     "output_type": "stream",
     "text": [
      "2024-02-04 11:29:58,214 - gurobipy - INFO - Presolve: All rows and columns removed\n"
     ]
    },
    {
     "name": "stdout",
     "output_type": "stream",
     "text": [
      "Iteration    Objective       Primal Inf.    Dual Inf.      Time\n"
     ]
    },
    {
     "name": "stderr",
     "output_type": "stream",
     "text": [
      "2024-02-04 11:29:58,215 - gurobipy - INFO - Iteration    Objective       Primal Inf.    Dual Inf.      Time\n"
     ]
    },
    {
     "name": "stdout",
     "output_type": "stream",
     "text": [
      "       0    2.5034500e+02   0.000000e+00   0.000000e+00      0s\n"
     ]
    },
    {
     "name": "stderr",
     "output_type": "stream",
     "text": [
      "2024-02-04 11:29:58,216 - gurobipy - INFO -        0    2.5034500e+02   0.000000e+00   0.000000e+00      0s\n"
     ]
    },
    {
     "name": "stdout",
     "output_type": "stream",
     "text": [
      "\n"
     ]
    },
    {
     "name": "stderr",
     "output_type": "stream",
     "text": [
      "2024-02-04 11:29:58,216 - gurobipy - INFO - \n"
     ]
    },
    {
     "name": "stdout",
     "output_type": "stream",
     "text": [
      "Solved in 0 iterations and 0.01 seconds (0.00 work units)\n"
     ]
    },
    {
     "name": "stderr",
     "output_type": "stream",
     "text": [
      "2024-02-04 11:29:58,217 - gurobipy - INFO - Solved in 0 iterations and 0.01 seconds (0.00 work units)\n"
     ]
    },
    {
     "name": "stdout",
     "output_type": "stream",
     "text": [
      "Optimal objective  2.503450000e+02\n"
     ]
    },
    {
     "name": "stderr",
     "output_type": "stream",
     "text": [
      "2024-02-04 11:29:58,218 - gurobipy - INFO - Optimal objective  2.503450000e+02\n"
     ]
    },
    {
     "name": "stdout",
     "output_type": "stream",
     "text": [
      "最优解的目标函数值为： 250.345\n",
      "Solution values: x=249.655, y=0.0, z=-0.69\n",
      "Solution values: x=2.6533154113341567e+108, y=1.0, z=0.5015760690660556, pi=5.289956150170154e+108\n"
     ]
    }
   ],
   "source": [
    "import gurobipy as grb\n",
    "import numpy as np\n",
    "import pandas as pd\n",
    "\n",
    "m=grb.Model()\n",
    "\n",
    "#定义变量\n",
    "x=m.addVar(name=\"x\",lb=0)\n",
    "y=m.addVar(name=\"y\",lb=0)\n",
    "z=m.addVar(name=\"z\",lb=-0.69)\n",
    "pi=m.addVar(name=\"pi\")\n",
    "\n",
    "# 添加约束\n",
    "m.addConstr(x<=60000,name='c1')\n",
    "m.addConstr(x+y<=70000,name='c2')\n",
    "m.addConstr(z<=0,name='c3')\n",
    "m.addConstr(z>=-0.69,name='c4')\n",
    "m.addConstr(2*x-2*y-z==500,name='c5')\n",
    "m.addConstr(x-2*y-z-pi==0,name='c6')\n",
    "\n",
    "m.setObjective(pi,grb.GRB.MAXIMIZE)\n",
    "m.optimize()\n",
    "\n",
    "print('最优解的目标函数值为：',m.objVal)\n",
    "print(f\"Solution values: x={x.X}, y={y.X}, z={z.X}\")\n",
    "# 对结果取指数\n",
    "x_value = np.exp(x.X)\n",
    "y_value = np.exp(y.X)\n",
    "z_value = np.exp(z.X)\n",
    "pi_value = np.exp(pi.X)\n",
    "print(f\"Solution values: x={x_value}, y={y_value}, z={z_value}, pi={pi_value}\")\n"
   ]
  }
 ],
 "metadata": {
  "kernelspec": {
   "display_name": "Python 3",
   "language": "python",
   "name": "python3"
  },
  "language_info": {
   "codemirror_mode": {
    "name": "ipython",
    "version": 3
   },
   "file_extension": ".py",
   "mimetype": "text/x-python",
   "name": "python",
   "nbconvert_exporter": "python",
   "pygments_lexer": "ipython3",
   "version": "3.9.7"
  }
 },
 "nbformat": 4,
 "nbformat_minor": 2
}
