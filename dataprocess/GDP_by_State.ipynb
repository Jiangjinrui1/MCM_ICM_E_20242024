{
 "cells": [
  {
   "cell_type": "markdown",
   "metadata": {},
   "source": [
    "# GDP by State\n",
    "Recently, I saw an infographic showing the GDP by state. It came as no surprise that California, Texas and New York were the top three contributors to national GDP. The article also claimed that California contributed more on a per capita basis than most states, but it did not include any more information on per capita GDP by state.  The problem was: How to compute GDP per capita for each US state.\n",
    "\n",
    "I found the basic data at the [Bureau of Economic Analysis](https://www.bea.gov/data/gdp/gdp-state), and the dataset (an Excel workbook with multiple worksheet) that is available for download there has GDP by state. Wikipedia has data on [population by US state](https://simple.wikipedia.org/wiki/List_of_U.S._states_by_population). This is a webpage; so you need to use one of two pandas functions either `read_html` or `read_clipboard` to load the data into a DataFrame. See the article on [Towards Data Science](https://towardsdatascience.com/2-easy-ways-to-get-tables-from-a-website-with-pandas-b92fc835e741) for more on these two functions. The first function did not import all of the columns correctly, but the ones I needed were usable.\n",
    "\n",
    "Finally, we like to visualize data if we can. I have included a minimal amount of code to generate a [chloropleth map](https://en.wikipedia.org/wiki/Choropleth_map)."
   ]
  },
  {
   "cell_type": "code",
   "execution_count": 200,
   "metadata": {},
   "outputs": [],
   "source": [
    "import pandas as pd\n",
    "import numpy as np\n",
    "import matplotlib.pyplot as plt"
   ]
  },
  {
   "cell_type": "markdown",
   "metadata": {},
   "source": [
    "### GDP Data\n",
    "I had to go through a few iterations of looking at the Excel file and executing `pd.read_excel` to get the options right. There are multiple header lines and merged cells as well.  These are harder to ingest, but fortunately we only want data from the left half of the worksheet. "
   ]
  },
  {
   "cell_type": "code",
   "execution_count": 201,
   "metadata": {},
   "outputs": [],
   "source": [
    "df_gdp_prelim = pd.read_excel(r\"D:\\VSCodeWorkSpace\\2024_C\\data\\qgdpstate0321.xlsx\",\n",
    "                              sheet_name='Table 3',\n",
    "                              header=[1,2,3,4],\n",
    "                              skiprows=0,\n",
    "                              skipfooter=5,\n",
    "                              index_col=0)"
   ]
  },
  {
   "cell_type": "code",
   "execution_count": 202,
   "metadata": {},
   "outputs": [
    {
     "data": {
      "text/html": [
       "<div>\n",
       "<style scoped>\n",
       "    .dataframe tbody tr th:only-of-type {\n",
       "        vertical-align: middle;\n",
       "    }\n",
       "\n",
       "    .dataframe tbody tr th {\n",
       "        vertical-align: top;\n",
       "    }\n",
       "\n",
       "    .dataframe thead tr th {\n",
       "        text-align: left;\n",
       "    }\n",
       "</style>\n",
       "<table border=\"1\" class=\"dataframe\">\n",
       "  <thead>\n",
       "    <tr>\n",
       "      <th></th>\n",
       "      <th colspan=\"8\" halign=\"left\">Millions of dollars</th>\n",
       "      <th colspan=\"8\" halign=\"left\">Percent of the U.S.</th>\n",
       "    </tr>\n",
       "    <tr>\n",
       "      <th></th>\n",
       "      <th colspan=\"8\" halign=\"left\">Seasonally adjusted at annual rates</th>\n",
       "      <th>Unnamed: 9_level_1</th>\n",
       "      <th>Unnamed: 10_level_1</th>\n",
       "      <th>Unnamed: 11_level_1</th>\n",
       "      <th>Unnamed: 12_level_1</th>\n",
       "      <th>Unnamed: 13_level_1</th>\n",
       "      <th>Unnamed: 14_level_1</th>\n",
       "      <th>Unnamed: 15_level_1</th>\n",
       "      <th>Unnamed: 16_level_1</th>\n",
       "    </tr>\n",
       "    <tr>\n",
       "      <th></th>\n",
       "      <th colspan=\"4\" halign=\"left\">2019</th>\n",
       "      <th colspan=\"4\" halign=\"left\">2020</th>\n",
       "      <th>2019</th>\n",
       "      <th>2019</th>\n",
       "      <th>2019</th>\n",
       "      <th>2019</th>\n",
       "      <th>2020</th>\n",
       "      <th>2020</th>\n",
       "      <th>2020</th>\n",
       "      <th>2020</th>\n",
       "    </tr>\n",
       "    <tr>\n",
       "      <th></th>\n",
       "      <th>Q1</th>\n",
       "      <th>Q2</th>\n",
       "      <th>Q3</th>\n",
       "      <th>Q4</th>\n",
       "      <th>Q1</th>\n",
       "      <th>Q2</th>\n",
       "      <th>Q3</th>\n",
       "      <th>Q4p</th>\n",
       "      <th>Q1</th>\n",
       "      <th>Q2</th>\n",
       "      <th>Q3</th>\n",
       "      <th>Q4</th>\n",
       "      <th>Q1</th>\n",
       "      <th>Q2</th>\n",
       "      <th>Q3</th>\n",
       "      <th>Q4p</th>\n",
       "    </tr>\n",
       "  </thead>\n",
       "  <tbody>\n",
       "    <tr>\n",
       "      <th>Rhode Island</th>\n",
       "      <td>61627</td>\n",
       "      <td>61805</td>\n",
       "      <td>61769</td>\n",
       "      <td>62335</td>\n",
       "      <td>61954</td>\n",
       "      <td>56285</td>\n",
       "      <td>61081</td>\n",
       "      <td>61578</td>\n",
       "      <td>0.3</td>\n",
       "      <td>0.3</td>\n",
       "      <td>0.3</td>\n",
       "      <td>0.3</td>\n",
       "      <td>0.3</td>\n",
       "      <td>0.3</td>\n",
       "      <td>0.3</td>\n",
       "      <td>0.3</td>\n",
       "    </tr>\n",
       "    <tr>\n",
       "      <th>Illinois</th>\n",
       "      <td>878173</td>\n",
       "      <td>880445</td>\n",
       "      <td>890358</td>\n",
       "      <td>893356</td>\n",
       "      <td>884447</td>\n",
       "      <td>807383</td>\n",
       "      <td>875671</td>\n",
       "      <td>886565</td>\n",
       "      <td>4.2</td>\n",
       "      <td>4.1</td>\n",
       "      <td>4.1</td>\n",
       "      <td>4.1</td>\n",
       "      <td>4.1</td>\n",
       "      <td>4.1</td>\n",
       "      <td>4.1</td>\n",
       "      <td>4.1</td>\n",
       "    </tr>\n",
       "    <tr>\n",
       "      <th>South Dakota</th>\n",
       "      <td>53712</td>\n",
       "      <td>54497</td>\n",
       "      <td>55502</td>\n",
       "      <td>56052</td>\n",
       "      <td>56072</td>\n",
       "      <td>50951</td>\n",
       "      <td>55243</td>\n",
       "      <td>57142</td>\n",
       "      <td>0.3</td>\n",
       "      <td>0.3</td>\n",
       "      <td>0.3</td>\n",
       "      <td>0.3</td>\n",
       "      <td>0.3</td>\n",
       "      <td>0.3</td>\n",
       "      <td>0.3</td>\n",
       "      <td>0.3</td>\n",
       "    </tr>\n",
       "    <tr>\n",
       "      <th>Florida</th>\n",
       "      <td>1087641</td>\n",
       "      <td>1098679</td>\n",
       "      <td>1113170</td>\n",
       "      <td>1126510</td>\n",
       "      <td>1121367</td>\n",
       "      <td>1026676</td>\n",
       "      <td>1111614</td>\n",
       "      <td>1123896</td>\n",
       "      <td>5.2</td>\n",
       "      <td>5.2</td>\n",
       "      <td>5.2</td>\n",
       "      <td>5.2</td>\n",
       "      <td>5.2</td>\n",
       "      <td>5.3</td>\n",
       "      <td>5.3</td>\n",
       "      <td>5.2</td>\n",
       "    </tr>\n",
       "    <tr>\n",
       "      <th>Wisconsin</th>\n",
       "      <td>345242</td>\n",
       "      <td>348471</td>\n",
       "      <td>350017</td>\n",
       "      <td>353935</td>\n",
       "      <td>348021</td>\n",
       "      <td>314027</td>\n",
       "      <td>344500</td>\n",
       "      <td>348166</td>\n",
       "      <td>1.6</td>\n",
       "      <td>1.6</td>\n",
       "      <td>1.6</td>\n",
       "      <td>1.6</td>\n",
       "      <td>1.6</td>\n",
       "      <td>1.6</td>\n",
       "      <td>1.6</td>\n",
       "      <td>1.6</td>\n",
       "    </tr>\n",
       "  </tbody>\n",
       "</table>\n",
       "</div>"
      ],
      "text/plain": [
       "                              Millions of dollars                             \\\n",
       "              Seasonally adjusted at annual rates                              \n",
       "                                             2019                              \n",
       "                                               Q1       Q2       Q3       Q4   \n",
       "Rhode Island                                61627    61805    61769    62335   \n",
       "Illinois                                   878173   880445   890358   893356   \n",
       "South Dakota                                53712    54497    55502    56052   \n",
       "Florida                                   1087641  1098679  1113170  1126510   \n",
       "Wisconsin                                  345242   348471   350017   353935   \n",
       "\n",
       "                                                  Percent of the U.S.  \\\n",
       "                                                   Unnamed: 9_level_1   \n",
       "                  2020                                           2019   \n",
       "                    Q1       Q2       Q3      Q4p                  Q1   \n",
       "Rhode Island     61954    56285    61081    61578                 0.3   \n",
       "Illinois        884447   807383   875671   886565                 4.2   \n",
       "South Dakota     56072    50951    55243    57142                 0.3   \n",
       "Florida        1121367  1026676  1111614  1123896                 5.2   \n",
       "Wisconsin       348021   314027   344500   348166                 1.6   \n",
       "\n",
       "                                                                           \\\n",
       "              Unnamed: 10_level_1 Unnamed: 11_level_1 Unnamed: 12_level_1   \n",
       "                             2019                2019                2019   \n",
       "                               Q2                  Q3                  Q4   \n",
       "Rhode Island                  0.3                 0.3                 0.3   \n",
       "Illinois                      4.1                 4.1                 4.1   \n",
       "South Dakota                  0.3                 0.3                 0.3   \n",
       "Florida                       5.2                 5.2                 5.2   \n",
       "Wisconsin                     1.6                 1.6                 1.6   \n",
       "\n",
       "                                                                           \\\n",
       "              Unnamed: 13_level_1 Unnamed: 14_level_1 Unnamed: 15_level_1   \n",
       "                             2020                2020                2020   \n",
       "                               Q1                  Q2                  Q3   \n",
       "Rhode Island                  0.3                 0.3                 0.3   \n",
       "Illinois                      4.1                 4.1                 4.1   \n",
       "South Dakota                  0.3                 0.3                 0.3   \n",
       "Florida                       5.2                 5.3                 5.3   \n",
       "Wisconsin                     1.6                 1.6                 1.6   \n",
       "\n",
       "                                   \n",
       "              Unnamed: 16_level_1  \n",
       "                             2020  \n",
       "                              Q4p  \n",
       "Rhode Island                  0.3  \n",
       "Illinois                      4.1  \n",
       "South Dakota                  0.3  \n",
       "Florida                       5.2  \n",
       "Wisconsin                     1.6  "
      ]
     },
     "execution_count": 202,
     "metadata": {},
     "output_type": "execute_result"
    }
   ],
   "source": [
    "df_gdp_prelim.sample(5)"
   ]
  },
  {
   "cell_type": "code",
   "execution_count": 203,
   "metadata": {},
   "outputs": [
    {
     "name": "stderr",
     "output_type": "stream",
     "text": [
      "C:\\Users\\JiangJinrui\\AppData\\Local\\Temp\\ipykernel_72988\\348834615.py:2: PerformanceWarning:\n",
      "\n",
      "indexing past lexsort depth may impact performance.\n",
      "\n"
     ]
    }
   ],
   "source": [
    "# Just grab the 2020 dolar values.\n",
    "df_gdp = df_gdp_prelim['Millions of dollars','Seasonally adjusted at annual rates',2020].copy()"
   ]
  },
  {
   "cell_type": "code",
   "execution_count": 204,
   "metadata": {},
   "outputs": [],
   "source": [
    "df_gdp.sample(10)\n",
    "# 索引列命名为STATE\n",
    "df_gdp.index.name = 'STATE'\n",
    "df_gdp.reset_index(inplace=True)\n",
    "df_gdp\n",
    "df_gdp.to_csv(r\"dataset_process\\gdp.csv\",index=False)"
   ]
  },
  {
   "cell_type": "markdown",
   "metadata": {},
   "source": [
    "### Population Data\n",
    "The function `pd.read_html` is really easy to use. Note that it returns a list of tables. There is only one table on the Wikpedia source article on [US States by Population](https://simple.wikipedia.org/wiki/List_of_U.S._states_by_population). Therefore, we can subscript it with `[0]` straight-away. Otherwise, you might need to experiment more.  I have indicated that the state name should be the index."
   ]
  },
  {
   "cell_type": "code",
   "execution_count": 205,
   "metadata": {},
   "outputs": [],
   "source": [
    "df_pop_prelim = pd.read_html('https://simple.wikipedia.org/wiki/List_of_U.S._states_by_population',index_col='State')[0]"
   ]
  },
  {
   "cell_type": "code",
   "execution_count": 206,
   "metadata": {},
   "outputs": [
    {
     "data": {
      "text/html": [
       "<div>\n",
       "<style scoped>\n",
       "    .dataframe tbody tr th:only-of-type {\n",
       "        vertical-align: middle;\n",
       "    }\n",
       "\n",
       "    .dataframe tbody tr th {\n",
       "        vertical-align: top;\n",
       "    }\n",
       "\n",
       "    .dataframe thead th {\n",
       "        text-align: right;\n",
       "    }\n",
       "</style>\n",
       "<table border=\"1\" class=\"dataframe\">\n",
       "  <thead>\n",
       "    <tr style=\"text-align: right;\">\n",
       "      <th></th>\n",
       "      <th>Rank in states &amp; territories, 2020</th>\n",
       "      <th>Rank in states &amp; territories, 2010</th>\n",
       "      <th>Census population, April 1, 2020 [1][2]</th>\n",
       "      <th>Census population, April 1, 2010 [1][2]</th>\n",
       "      <th>Percent change, 2010–2020 [note 1]</th>\n",
       "      <th>Absolute change, 2010-2020</th>\n",
       "      <th>Total seats in the U.S. House of Representatives, 2023–2033</th>\n",
       "      <th>Census population per electoral vote [note 2]</th>\n",
       "      <th>Census population per House seat</th>\n",
       "      <th>Percent of the total U.S. population, 2020 [note 3]</th>\n",
       "    </tr>\n",
       "    <tr>\n",
       "      <th>State</th>\n",
       "      <th></th>\n",
       "      <th></th>\n",
       "      <th></th>\n",
       "      <th></th>\n",
       "      <th></th>\n",
       "      <th></th>\n",
       "      <th></th>\n",
       "      <th></th>\n",
       "      <th></th>\n",
       "      <th></th>\n",
       "    </tr>\n",
       "  </thead>\n",
       "  <tbody>\n",
       "    <tr>\n",
       "      <th>California</th>\n",
       "      <td>1</td>\n",
       "      <td>1</td>\n",
       "      <td>39538223</td>\n",
       "      <td>37253956</td>\n",
       "      <td>6.1%</td>\n",
       "      <td>+2284267</td>\n",
       "      <td>52</td>\n",
       "      <td>732189</td>\n",
       "      <td>760350</td>\n",
       "      <td>11.80%</td>\n",
       "    </tr>\n",
       "    <tr>\n",
       "      <th>Texas</th>\n",
       "      <td>2</td>\n",
       "      <td>2</td>\n",
       "      <td>29145505</td>\n",
       "      <td>25145561</td>\n",
       "      <td>15.9%</td>\n",
       "      <td>+3999944</td>\n",
       "      <td>38</td>\n",
       "      <td>728638</td>\n",
       "      <td>766987</td>\n",
       "      <td>8.70%</td>\n",
       "    </tr>\n",
       "    <tr>\n",
       "      <th>Florida</th>\n",
       "      <td>3</td>\n",
       "      <td>4</td>\n",
       "      <td>21538187</td>\n",
       "      <td>18801310</td>\n",
       "      <td>14.6%</td>\n",
       "      <td>+2736877</td>\n",
       "      <td>28</td>\n",
       "      <td>717940</td>\n",
       "      <td>769221</td>\n",
       "      <td>6.43%</td>\n",
       "    </tr>\n",
       "    <tr>\n",
       "      <th>New York</th>\n",
       "      <td>4</td>\n",
       "      <td>3</td>\n",
       "      <td>20201249</td>\n",
       "      <td>19378102</td>\n",
       "      <td>4.2%</td>\n",
       "      <td>+823147</td>\n",
       "      <td>26</td>\n",
       "      <td>721473</td>\n",
       "      <td>776971</td>\n",
       "      <td>6.03%</td>\n",
       "    </tr>\n",
       "    <tr>\n",
       "      <th>Pennsylvania</th>\n",
       "      <td>5</td>\n",
       "      <td>6</td>\n",
       "      <td>13002700</td>\n",
       "      <td>12702379</td>\n",
       "      <td>2.4%</td>\n",
       "      <td>+300321</td>\n",
       "      <td>17</td>\n",
       "      <td>684353</td>\n",
       "      <td>764865</td>\n",
       "      <td>3.88%</td>\n",
       "    </tr>\n",
       "  </tbody>\n",
       "</table>\n",
       "</div>"
      ],
      "text/plain": [
       "             Rank in states & territories, 2020  \\\n",
       "State                                             \n",
       "California                                    1   \n",
       "Texas                                         2   \n",
       "Florida                                       3   \n",
       "New York                                      4   \n",
       "Pennsylvania                                  5   \n",
       "\n",
       "             Rank in states & territories, 2010  \\\n",
       "State                                             \n",
       "California                                    1   \n",
       "Texas                                         2   \n",
       "Florida                                       4   \n",
       "New York                                      3   \n",
       "Pennsylvania                                  6   \n",
       "\n",
       "              Census population, April 1, 2020 [1][2]  \\\n",
       "State                                                   \n",
       "California                                   39538223   \n",
       "Texas                                        29145505   \n",
       "Florida                                      21538187   \n",
       "New York                                     20201249   \n",
       "Pennsylvania                                 13002700   \n",
       "\n",
       "              Census population, April 1, 2010 [1][2]  \\\n",
       "State                                                   \n",
       "California                                   37253956   \n",
       "Texas                                        25145561   \n",
       "Florida                                      18801310   \n",
       "New York                                     19378102   \n",
       "Pennsylvania                                 12702379   \n",
       "\n",
       "             Percent change, 2010–2020 [note 1] Absolute change, 2010-2020  \\\n",
       "State                                                                        \n",
       "California                                 6.1%                   +2284267   \n",
       "Texas                                     15.9%                   +3999944   \n",
       "Florida                                   14.6%                   +2736877   \n",
       "New York                                   4.2%                    +823147   \n",
       "Pennsylvania                               2.4%                    +300321   \n",
       "\n",
       "             Total seats in the U.S. House of Representatives, 2023–2033  \\\n",
       "State                                                                      \n",
       "California                                                   52            \n",
       "Texas                                                        38            \n",
       "Florida                                                      28            \n",
       "New York                                                     26            \n",
       "Pennsylvania                                                 17            \n",
       "\n",
       "             Census population per electoral vote [note 2]  \\\n",
       "State                                                        \n",
       "California                                          732189   \n",
       "Texas                                               728638   \n",
       "Florida                                             717940   \n",
       "New York                                            721473   \n",
       "Pennsylvania                                        684353   \n",
       "\n",
       "             Census population per House seat  \\\n",
       "State                                           \n",
       "California                             760350   \n",
       "Texas                                  766987   \n",
       "Florida                                769221   \n",
       "New York                               776971   \n",
       "Pennsylvania                           764865   \n",
       "\n",
       "             Percent of the total U.S. population, 2020 [note 3]  \n",
       "State                                                             \n",
       "California                                               11.80%   \n",
       "Texas                                                     8.70%   \n",
       "Florida                                                   6.43%   \n",
       "New York                                                  6.03%   \n",
       "Pennsylvania                                              3.88%   "
      ]
     },
     "execution_count": 206,
     "metadata": {},
     "output_type": "execute_result"
    }
   ],
   "source": [
    "df_pop_prelim.head(5)"
   ]
  },
  {
   "cell_type": "markdown",
   "metadata": {},
   "source": [
    "Obviously, there are a bunch of missing values, and if you needed these you might consider copying the table from your browser, pasting it into a cell or a text editor, and using `pd.read_clipboard.` For this exercise we don't need those rows; so we'll forge ahead!"
   ]
  },
  {
   "cell_type": "code",
   "execution_count": 207,
   "metadata": {},
   "outputs": [],
   "source": [
    "df_pop = df_pop_prelim[['Census population, April 1, 2020 [1][2]']].rename(columns={'Census population, April 1, 2020 [1][2]':'Population'})"
   ]
  },
  {
   "cell_type": "code",
   "execution_count": 208,
   "metadata": {},
   "outputs": [
    {
     "data": {
      "text/html": [
       "<div>\n",
       "<style scoped>\n",
       "    .dataframe tbody tr th:only-of-type {\n",
       "        vertical-align: middle;\n",
       "    }\n",
       "\n",
       "    .dataframe tbody tr th {\n",
       "        vertical-align: top;\n",
       "    }\n",
       "\n",
       "    .dataframe thead th {\n",
       "        text-align: right;\n",
       "    }\n",
       "</style>\n",
       "<table border=\"1\" class=\"dataframe\">\n",
       "  <thead>\n",
       "    <tr style=\"text-align: right;\">\n",
       "      <th></th>\n",
       "      <th>Population</th>\n",
       "      <th>STATE</th>\n",
       "    </tr>\n",
       "  </thead>\n",
       "  <tbody>\n",
       "    <tr>\n",
       "      <th>0</th>\n",
       "      <td>39538223</td>\n",
       "      <td>California</td>\n",
       "    </tr>\n",
       "    <tr>\n",
       "      <th>1</th>\n",
       "      <td>29145505</td>\n",
       "      <td>Texas</td>\n",
       "    </tr>\n",
       "    <tr>\n",
       "      <th>2</th>\n",
       "      <td>21538187</td>\n",
       "      <td>Florida</td>\n",
       "    </tr>\n",
       "    <tr>\n",
       "      <th>3</th>\n",
       "      <td>20201249</td>\n",
       "      <td>New York</td>\n",
       "    </tr>\n",
       "    <tr>\n",
       "      <th>4</th>\n",
       "      <td>13002700</td>\n",
       "      <td>Pennsylvania</td>\n",
       "    </tr>\n",
       "  </tbody>\n",
       "</table>\n",
       "</div>"
      ],
      "text/plain": [
       "   Population         STATE\n",
       "0    39538223    California\n",
       "1    29145505         Texas\n",
       "2    21538187       Florida\n",
       "3    20201249      New York\n",
       "4    13002700  Pennsylvania"
      ]
     },
     "execution_count": 208,
     "metadata": {},
     "output_type": "execute_result"
    }
   ],
   "source": [
    "df_pop\n",
    "df_pop['STATE']=df_pop.index\n",
    "df_pop.reset_index(drop=True,inplace=True)\n",
    "\n",
    "df_pop.to_csv(r\"dataset_process\\population.csv\",index=False)\n",
    "df_pop.head(5)"
   ]
  },
  {
   "cell_type": "markdown",
   "metadata": {},
   "source": [
    "## Merging the Data\n",
    "Before we can merge, we need to check on the string values in the State column/index."
   ]
  },
  {
   "cell_type": "code",
   "execution_count": 209,
   "metadata": {},
   "outputs": [
    {
     "data": {
      "text/plain": [
       "RangeIndex(start=0, stop=60, step=1)"
      ]
     },
     "execution_count": 209,
     "metadata": {},
     "output_type": "execute_result"
    }
   ],
   "source": [
    "df_pop.index"
   ]
  },
  {
   "cell_type": "code",
   "execution_count": 210,
   "metadata": {},
   "outputs": [
    {
     "data": {
      "text/plain": [
       "RangeIndex(start=0, stop=60, step=1)"
      ]
     },
     "execution_count": 210,
     "metadata": {},
     "output_type": "execute_result"
    }
   ],
   "source": [
    "df_gdp.index"
   ]
  },
  {
   "cell_type": "markdown",
   "metadata": {},
   "source": [
    "The index for the GDP contains some trailing whitespace. We need to `strip` it. Note that you cannot apply a function to an index as you can for a column. Also, the population data includes some US territories while the GDP data includes some regional subtotals and a national total which we will happily ignore."
   ]
  },
  {
   "cell_type": "code",
   "execution_count": 211,
   "metadata": {},
   "outputs": [
    {
     "ename": "AttributeError",
     "evalue": "'int' object has no attribute 'strip'",
     "output_type": "error",
     "traceback": [
      "\u001b[1;31m---------------------------------------------------------------------------\u001b[0m",
      "\u001b[1;31mAttributeError\u001b[0m                            Traceback (most recent call last)",
      "Cell \u001b[1;32mIn[211], line 1\u001b[0m\n\u001b[1;32m----> 1\u001b[0m df_gdp\u001b[38;5;241m.\u001b[39mindex \u001b[38;5;241m=\u001b[39m [x\u001b[38;5;241m.\u001b[39mstrip() \u001b[38;5;28;01mfor\u001b[39;00m x \u001b[38;5;129;01min\u001b[39;00m df_gdp\u001b[38;5;241m.\u001b[39mindex]\n",
      "Cell \u001b[1;32mIn[211], line 1\u001b[0m, in \u001b[0;36m<listcomp>\u001b[1;34m(.0)\u001b[0m\n\u001b[1;32m----> 1\u001b[0m df_gdp\u001b[38;5;241m.\u001b[39mindex \u001b[38;5;241m=\u001b[39m [\u001b[43mx\u001b[49m\u001b[38;5;241;43m.\u001b[39;49m\u001b[43mstrip\u001b[49m() \u001b[38;5;28;01mfor\u001b[39;00m x \u001b[38;5;129;01min\u001b[39;00m df_gdp\u001b[38;5;241m.\u001b[39mindex]\n",
      "\u001b[1;31mAttributeError\u001b[0m: 'int' object has no attribute 'strip'"
     ]
    }
   ],
   "source": [
    "df_gdp.index = [x.strip() for x in df_gdp.index]"
   ]
  },
  {
   "cell_type": "code",
   "execution_count": null,
   "metadata": {},
   "outputs": [
    {
     "data": {
      "text/plain": [
       "{'American Samoa',\n",
       " 'Contiguous United States',\n",
       " 'Far West',\n",
       " 'Fifty states + D.C.',\n",
       " 'Great Lakes',\n",
       " 'Guam',\n",
       " 'Mideast',\n",
       " 'New England',\n",
       " 'Northern Mariana Islands',\n",
       " 'Plains',\n",
       " 'Puerto Rico',\n",
       " 'Rocky Mountain',\n",
       " 'Southeast',\n",
       " 'Southwest',\n",
       " 'The fifty states',\n",
       " 'Total U.S. (including D.C. and territories)',\n",
       " 'U.S. Virgin Islands',\n",
       " 'United States'}"
      ]
     },
     "execution_count": 79,
     "metadata": {},
     "output_type": "execute_result"
    }
   ],
   "source": [
    "# Verify that we won't lose information that we want to keep.\n",
    "set(df_pop.index).symmetric_difference(set(df_gdp.index))"
   ]
  },
  {
   "cell_type": "code",
   "execution_count": null,
   "metadata": {},
   "outputs": [],
   "source": [
    "# We use 'State Name' here because we will reserve 'State' for the two-letter abbreviation later.\n",
    "df_combined = df_gdp.merge(df_pop,left_index=True,right_index=True).reset_index().rename(columns={'index':'State Name'})"
   ]
  },
  {
   "cell_type": "code",
   "execution_count": null,
   "metadata": {},
   "outputs": [],
   "source": [
    "# The quarterly GDP figures are annualized; so we need to sum and divide by 4 or take the mean \n",
    "# and drop the quarterly numbers.\n",
    "df_combined['Annual GDP'] = df_combined[['Q1','Q2','Q3','Q4p']].mean(axis=1)\n",
    "df_combined = df_combined.drop(['Q1','Q2','Q3','Q4p'],axis=1)"
   ]
  },
  {
   "cell_type": "code",
   "execution_count": null,
   "metadata": {},
   "outputs": [],
   "source": [
    "# State GDP is in millions; so if we multiply by 1e6 we now have state GDP in dollars.\n",
    "df_combined['Per Capita GDP'] = (1e6*df_combined['Annual GDP']/df_combined.Population).round(2)"
   ]
  },
  {
   "cell_type": "code",
   "execution_count": null,
   "metadata": {},
   "outputs": [],
   "source": [
    "df_combined['Percentage of US Population'] = df_combined.Population/df_combined.Population.sum()\n",
    "df_combined['Percentage of US GDP'] = df_combined['Annual GDP']/df_combined['Annual GDP'].sum()\n",
    "df_combined['Ratio of State Per Capita GDP to National Average'] = df_combined['Percentage of US GDP']/df_combined['Percentage of US Population']"
   ]
  },
  {
   "cell_type": "code",
   "execution_count": null,
   "metadata": {},
   "outputs": [],
   "source": [
    "df_combined.sort_values('Per Capita GDP',ascending=False)\n",
    "df_combined.to_csv('gdp_per_capita.csv',index=False)"
   ]
  },
  {
   "cell_type": "markdown",
   "metadata": {},
   "source": [
    "Almost there!  Let's create a new column based on the ratio of state per capita GDP to national GDP per capita.  This new column is the percentage of how much the state GDP per capita is above or below the national GDP per capita. "
   ]
  },
  {
   "cell_type": "code",
   "execution_count": null,
   "metadata": {},
   "outputs": [
    {
     "data": {
      "text/html": [
       "<div>\n",
       "<style scoped>\n",
       "    .dataframe tbody tr th:only-of-type {\n",
       "        vertical-align: middle;\n",
       "    }\n",
       "\n",
       "    .dataframe tbody tr th {\n",
       "        vertical-align: top;\n",
       "    }\n",
       "\n",
       "    .dataframe thead th {\n",
       "        text-align: right;\n",
       "    }\n",
       "</style>\n",
       "<table border=\"1\" class=\"dataframe\">\n",
       "  <thead>\n",
       "    <tr style=\"text-align: right;\">\n",
       "      <th></th>\n",
       "      <th>State Name</th>\n",
       "      <th>Population</th>\n",
       "      <th>Annual GDP</th>\n",
       "      <th>Per Capita GDP</th>\n",
       "      <th>Percentage of US Population</th>\n",
       "      <th>Percentage of US GDP</th>\n",
       "      <th>Ratio of State Per Capita GDP to National Average</th>\n",
       "      <th>Relative GDP per Capita</th>\n",
       "    </tr>\n",
       "  </thead>\n",
       "  <tbody>\n",
       "    <tr>\n",
       "      <th>0</th>\n",
       "      <td>Connecticut</td>\n",
       "      <td>3605944</td>\n",
       "      <td>280900.00</td>\n",
       "      <td>77899.16</td>\n",
       "      <td>0.010879</td>\n",
       "      <td>0.013493</td>\n",
       "      <td>1.240277</td>\n",
       "      <td>24.03</td>\n",
       "    </tr>\n",
       "    <tr>\n",
       "      <th>1</th>\n",
       "      <td>Maine</td>\n",
       "      <td>1362359</td>\n",
       "      <td>66195.75</td>\n",
       "      <td>48589.06</td>\n",
       "      <td>0.004110</td>\n",
       "      <td>0.003180</td>\n",
       "      <td>0.773615</td>\n",
       "      <td>-22.64</td>\n",
       "    </tr>\n",
       "    <tr>\n",
       "      <th>2</th>\n",
       "      <td>Massachusetts</td>\n",
       "      <td>7029917</td>\n",
       "      <td>584038.75</td>\n",
       "      <td>83079.04</td>\n",
       "      <td>0.021210</td>\n",
       "      <td>0.028055</td>\n",
       "      <td>1.322749</td>\n",
       "      <td>32.27</td>\n",
       "    </tr>\n",
       "    <tr>\n",
       "      <th>3</th>\n",
       "      <td>New Hampshire</td>\n",
       "      <td>1377529</td>\n",
       "      <td>85109.00</td>\n",
       "      <td>61783.82</td>\n",
       "      <td>0.004156</td>\n",
       "      <td>0.004088</td>\n",
       "      <td>0.983696</td>\n",
       "      <td>-1.63</td>\n",
       "    </tr>\n",
       "    <tr>\n",
       "      <th>4</th>\n",
       "      <td>Rhode Island</td>\n",
       "      <td>1097379</td>\n",
       "      <td>60224.50</td>\n",
       "      <td>54880.31</td>\n",
       "      <td>0.003311</td>\n",
       "      <td>0.002893</td>\n",
       "      <td>0.873781</td>\n",
       "      <td>-12.62</td>\n",
       "    </tr>\n",
       "    <tr>\n",
       "      <th>5</th>\n",
       "      <td>Vermont</td>\n",
       "      <td>643077</td>\n",
       "      <td>32797.00</td>\n",
       "      <td>51000.11</td>\n",
       "      <td>0.001940</td>\n",
       "      <td>0.001575</td>\n",
       "      <td>0.812002</td>\n",
       "      <td>-18.80</td>\n",
       "    </tr>\n",
       "    <tr>\n",
       "      <th>6</th>\n",
       "      <td>Delaware</td>\n",
       "      <td>989948</td>\n",
       "      <td>75512.50</td>\n",
       "      <td>76279.26</td>\n",
       "      <td>0.002987</td>\n",
       "      <td>0.003627</td>\n",
       "      <td>1.214486</td>\n",
       "      <td>21.45</td>\n",
       "    </tr>\n",
       "    <tr>\n",
       "      <th>7</th>\n",
       "      <td>District of Columbia</td>\n",
       "      <td>689545</td>\n",
       "      <td>143532.50</td>\n",
       "      <td>208155.38</td>\n",
       "      <td>0.002080</td>\n",
       "      <td>0.006895</td>\n",
       "      <td>3.314162</td>\n",
       "      <td>231.42</td>\n",
       "    </tr>\n",
       "    <tr>\n",
       "      <th>8</th>\n",
       "      <td>Maryland</td>\n",
       "      <td>6177224</td>\n",
       "      <td>422726.50</td>\n",
       "      <td>68433.09</td>\n",
       "      <td>0.018637</td>\n",
       "      <td>0.020306</td>\n",
       "      <td>1.089563</td>\n",
       "      <td>8.96</td>\n",
       "    </tr>\n",
       "    <tr>\n",
       "      <th>9</th>\n",
       "      <td>New Jersey</td>\n",
       "      <td>9288994</td>\n",
       "      <td>619061.50</td>\n",
       "      <td>66644.62</td>\n",
       "      <td>0.028025</td>\n",
       "      <td>0.029737</td>\n",
       "      <td>1.061087</td>\n",
       "      <td>6.11</td>\n",
       "    </tr>\n",
       "    <tr>\n",
       "      <th>10</th>\n",
       "      <td>New York</td>\n",
       "      <td>20201249</td>\n",
       "      <td>1699044.75</td>\n",
       "      <td>84105.93</td>\n",
       "      <td>0.060948</td>\n",
       "      <td>0.081616</td>\n",
       "      <td>1.339099</td>\n",
       "      <td>33.91</td>\n",
       "    </tr>\n",
       "    <tr>\n",
       "      <th>11</th>\n",
       "      <td>Pennsylvania</td>\n",
       "      <td>13002700</td>\n",
       "      <td>780176.00</td>\n",
       "      <td>60001.08</td>\n",
       "      <td>0.039230</td>\n",
       "      <td>0.037477</td>\n",
       "      <td>0.955312</td>\n",
       "      <td>-4.47</td>\n",
       "    </tr>\n",
       "    <tr>\n",
       "      <th>12</th>\n",
       "      <td>Illinois</td>\n",
       "      <td>12812508</td>\n",
       "      <td>863516.50</td>\n",
       "      <td>67396.37</td>\n",
       "      <td>0.038656</td>\n",
       "      <td>0.041480</td>\n",
       "      <td>1.073056</td>\n",
       "      <td>7.31</td>\n",
       "    </tr>\n",
       "    <tr>\n",
       "      <th>13</th>\n",
       "      <td>Indiana</td>\n",
       "      <td>6785528</td>\n",
       "      <td>372636.75</td>\n",
       "      <td>54916.40</td>\n",
       "      <td>0.020472</td>\n",
       "      <td>0.017900</td>\n",
       "      <td>0.874356</td>\n",
       "      <td>-12.56</td>\n",
       "    </tr>\n",
       "    <tr>\n",
       "      <th>14</th>\n",
       "      <td>Michigan</td>\n",
       "      <td>10077331</td>\n",
       "      <td>515928.25</td>\n",
       "      <td>51196.91</td>\n",
       "      <td>0.030404</td>\n",
       "      <td>0.024783</td>\n",
       "      <td>0.815136</td>\n",
       "      <td>-18.49</td>\n",
       "    </tr>\n",
       "    <tr>\n",
       "      <th>15</th>\n",
       "      <td>Ohio</td>\n",
       "      <td>11799448</td>\n",
       "      <td>675037.00</td>\n",
       "      <td>57209.20</td>\n",
       "      <td>0.035600</td>\n",
       "      <td>0.032426</td>\n",
       "      <td>0.910861</td>\n",
       "      <td>-8.91</td>\n",
       "    </tr>\n",
       "    <tr>\n",
       "      <th>16</th>\n",
       "      <td>Wisconsin</td>\n",
       "      <td>5893718</td>\n",
       "      <td>338678.50</td>\n",
       "      <td>57464.32</td>\n",
       "      <td>0.017782</td>\n",
       "      <td>0.016269</td>\n",
       "      <td>0.914923</td>\n",
       "      <td>-8.51</td>\n",
       "    </tr>\n",
       "    <tr>\n",
       "      <th>17</th>\n",
       "      <td>Iowa</td>\n",
       "      <td>3190369</td>\n",
       "      <td>192710.25</td>\n",
       "      <td>60403.75</td>\n",
       "      <td>0.009626</td>\n",
       "      <td>0.009257</td>\n",
       "      <td>0.961723</td>\n",
       "      <td>-3.83</td>\n",
       "    </tr>\n",
       "    <tr>\n",
       "      <th>18</th>\n",
       "      <td>Kansas</td>\n",
       "      <td>2937880</td>\n",
       "      <td>173298.00</td>\n",
       "      <td>58987.43</td>\n",
       "      <td>0.008864</td>\n",
       "      <td>0.008325</td>\n",
       "      <td>0.939173</td>\n",
       "      <td>-6.08</td>\n",
       "    </tr>\n",
       "    <tr>\n",
       "      <th>19</th>\n",
       "      <td>Minnesota</td>\n",
       "      <td>5706494</td>\n",
       "      <td>374351.75</td>\n",
       "      <td>65601.01</td>\n",
       "      <td>0.017217</td>\n",
       "      <td>0.017982</td>\n",
       "      <td>1.044471</td>\n",
       "      <td>4.45</td>\n",
       "    </tr>\n",
       "    <tr>\n",
       "      <th>20</th>\n",
       "      <td>Missouri</td>\n",
       "      <td>6154913</td>\n",
       "      <td>321709.00</td>\n",
       "      <td>52268.65</td>\n",
       "      <td>0.018570</td>\n",
       "      <td>0.015454</td>\n",
       "      <td>0.832199</td>\n",
       "      <td>-16.78</td>\n",
       "    </tr>\n",
       "    <tr>\n",
       "      <th>21</th>\n",
       "      <td>Nebraska</td>\n",
       "      <td>1961504</td>\n",
       "      <td>128808.75</td>\n",
       "      <td>65668.36</td>\n",
       "      <td>0.005918</td>\n",
       "      <td>0.006187</td>\n",
       "      <td>1.045544</td>\n",
       "      <td>4.55</td>\n",
       "    </tr>\n",
       "    <tr>\n",
       "      <th>22</th>\n",
       "      <td>North Dakota</td>\n",
       "      <td>779094</td>\n",
       "      <td>54033.00</td>\n",
       "      <td>69353.63</td>\n",
       "      <td>0.002351</td>\n",
       "      <td>0.002596</td>\n",
       "      <td>1.104219</td>\n",
       "      <td>10.42</td>\n",
       "    </tr>\n",
       "    <tr>\n",
       "      <th>23</th>\n",
       "      <td>South Dakota</td>\n",
       "      <td>886667</td>\n",
       "      <td>54852.00</td>\n",
       "      <td>61863.13</td>\n",
       "      <td>0.002675</td>\n",
       "      <td>0.002635</td>\n",
       "      <td>0.984959</td>\n",
       "      <td>-1.50</td>\n",
       "    </tr>\n",
       "    <tr>\n",
       "      <th>24</th>\n",
       "      <td>Alabama</td>\n",
       "      <td>5024279</td>\n",
       "      <td>224870.25</td>\n",
       "      <td>44756.72</td>\n",
       "      <td>0.015159</td>\n",
       "      <td>0.010802</td>\n",
       "      <td>0.712598</td>\n",
       "      <td>-28.74</td>\n",
       "    </tr>\n",
       "    <tr>\n",
       "      <th>25</th>\n",
       "      <td>Arkansas</td>\n",
       "      <td>3011524</td>\n",
       "      <td>129073.75</td>\n",
       "      <td>42859.94</td>\n",
       "      <td>0.009086</td>\n",
       "      <td>0.006200</td>\n",
       "      <td>0.682398</td>\n",
       "      <td>-31.76</td>\n",
       "    </tr>\n",
       "    <tr>\n",
       "      <th>26</th>\n",
       "      <td>Florida</td>\n",
       "      <td>21538187</td>\n",
       "      <td>1095888.25</td>\n",
       "      <td>50881.17</td>\n",
       "      <td>0.064982</td>\n",
       "      <td>0.052642</td>\n",
       "      <td>0.810109</td>\n",
       "      <td>-18.99</td>\n",
       "    </tr>\n",
       "    <tr>\n",
       "      <th>27</th>\n",
       "      <td>Georgia</td>\n",
       "      <td>10711908</td>\n",
       "      <td>619240.25</td>\n",
       "      <td>57808.59</td>\n",
       "      <td>0.032318</td>\n",
       "      <td>0.029746</td>\n",
       "      <td>0.920404</td>\n",
       "      <td>-7.96</td>\n",
       "    </tr>\n",
       "    <tr>\n",
       "      <th>28</th>\n",
       "      <td>Kentucky</td>\n",
       "      <td>4505836</td>\n",
       "      <td>210024.00</td>\n",
       "      <td>46611.55</td>\n",
       "      <td>0.013594</td>\n",
       "      <td>0.010089</td>\n",
       "      <td>0.742129</td>\n",
       "      <td>-25.79</td>\n",
       "    </tr>\n",
       "    <tr>\n",
       "      <th>29</th>\n",
       "      <td>Louisiana</td>\n",
       "      <td>4657757</td>\n",
       "      <td>241990.75</td>\n",
       "      <td>51954.35</td>\n",
       "      <td>0.014053</td>\n",
       "      <td>0.011624</td>\n",
       "      <td>0.827195</td>\n",
       "      <td>-17.28</td>\n",
       "    </tr>\n",
       "    <tr>\n",
       "      <th>30</th>\n",
       "      <td>Mississippi</td>\n",
       "      <td>2961279</td>\n",
       "      <td>114200.50</td>\n",
       "      <td>38564.59</td>\n",
       "      <td>0.008934</td>\n",
       "      <td>0.005486</td>\n",
       "      <td>0.614009</td>\n",
       "      <td>-38.60</td>\n",
       "    </tr>\n",
       "    <tr>\n",
       "      <th>31</th>\n",
       "      <td>North Carolina</td>\n",
       "      <td>10439388</td>\n",
       "      <td>586136.50</td>\n",
       "      <td>56146.63</td>\n",
       "      <td>0.031496</td>\n",
       "      <td>0.028156</td>\n",
       "      <td>0.893943</td>\n",
       "      <td>-10.61</td>\n",
       "    </tr>\n",
       "    <tr>\n",
       "      <th>32</th>\n",
       "      <td>South Carolina</td>\n",
       "      <td>5118425</td>\n",
       "      <td>241688.75</td>\n",
       "      <td>47219.36</td>\n",
       "      <td>0.015443</td>\n",
       "      <td>0.011610</td>\n",
       "      <td>0.751807</td>\n",
       "      <td>-24.82</td>\n",
       "    </tr>\n",
       "    <tr>\n",
       "      <th>33</th>\n",
       "      <td>Tennessee</td>\n",
       "      <td>6910840</td>\n",
       "      <td>364486.00</td>\n",
       "      <td>52741.20</td>\n",
       "      <td>0.020850</td>\n",
       "      <td>0.017509</td>\n",
       "      <td>0.839723</td>\n",
       "      <td>-16.03</td>\n",
       "    </tr>\n",
       "    <tr>\n",
       "      <th>34</th>\n",
       "      <td>Virginia</td>\n",
       "      <td>8631393</td>\n",
       "      <td>551760.25</td>\n",
       "      <td>63924.82</td>\n",
       "      <td>0.026041</td>\n",
       "      <td>0.026504</td>\n",
       "      <td>1.017784</td>\n",
       "      <td>1.78</td>\n",
       "    </tr>\n",
       "    <tr>\n",
       "      <th>35</th>\n",
       "      <td>West Virginia</td>\n",
       "      <td>1793716</td>\n",
       "      <td>73709.25</td>\n",
       "      <td>41093.04</td>\n",
       "      <td>0.005412</td>\n",
       "      <td>0.003541</td>\n",
       "      <td>0.654266</td>\n",
       "      <td>-34.57</td>\n",
       "    </tr>\n",
       "    <tr>\n",
       "      <th>36</th>\n",
       "      <td>Arizona</td>\n",
       "      <td>7151502</td>\n",
       "      <td>372461.00</td>\n",
       "      <td>52081.51</td>\n",
       "      <td>0.021576</td>\n",
       "      <td>0.017892</td>\n",
       "      <td>0.829220</td>\n",
       "      <td>-17.08</td>\n",
       "    </tr>\n",
       "    <tr>\n",
       "      <th>37</th>\n",
       "      <td>New Mexico</td>\n",
       "      <td>2117522</td>\n",
       "      <td>100310.25</td>\n",
       "      <td>47371.53</td>\n",
       "      <td>0.006389</td>\n",
       "      <td>0.004819</td>\n",
       "      <td>0.754229</td>\n",
       "      <td>-24.58</td>\n",
       "    </tr>\n",
       "    <tr>\n",
       "      <th>38</th>\n",
       "      <td>Oklahoma</td>\n",
       "      <td>3959353</td>\n",
       "      <td>186581.50</td>\n",
       "      <td>47124.24</td>\n",
       "      <td>0.011946</td>\n",
       "      <td>0.008963</td>\n",
       "      <td>0.750292</td>\n",
       "      <td>-24.97</td>\n",
       "    </tr>\n",
       "    <tr>\n",
       "      <th>39</th>\n",
       "      <td>Texas</td>\n",
       "      <td>29145505</td>\n",
       "      <td>1759734.25</td>\n",
       "      <td>60377.55</td>\n",
       "      <td>0.087934</td>\n",
       "      <td>0.084531</td>\n",
       "      <td>0.961306</td>\n",
       "      <td>-3.87</td>\n",
       "    </tr>\n",
       "    <tr>\n",
       "      <th>40</th>\n",
       "      <td>Colorado</td>\n",
       "      <td>5773714</td>\n",
       "      <td>390098.75</td>\n",
       "      <td>67564.61</td>\n",
       "      <td>0.017420</td>\n",
       "      <td>0.018739</td>\n",
       "      <td>1.075735</td>\n",
       "      <td>7.57</td>\n",
       "    </tr>\n",
       "    <tr>\n",
       "      <th>41</th>\n",
       "      <td>Idaho</td>\n",
       "      <td>1839106</td>\n",
       "      <td>84032.25</td>\n",
       "      <td>45691.90</td>\n",
       "      <td>0.005549</td>\n",
       "      <td>0.004037</td>\n",
       "      <td>0.727487</td>\n",
       "      <td>-27.25</td>\n",
       "    </tr>\n",
       "    <tr>\n",
       "      <th>42</th>\n",
       "      <td>Montana</td>\n",
       "      <td>1084225</td>\n",
       "      <td>51488.75</td>\n",
       "      <td>47488.99</td>\n",
       "      <td>0.003271</td>\n",
       "      <td>0.002473</td>\n",
       "      <td>0.756100</td>\n",
       "      <td>-24.39</td>\n",
       "    </tr>\n",
       "    <tr>\n",
       "      <th>43</th>\n",
       "      <td>Utah</td>\n",
       "      <td>3271616</td>\n",
       "      <td>194985.75</td>\n",
       "      <td>59599.22</td>\n",
       "      <td>0.009871</td>\n",
       "      <td>0.009366</td>\n",
       "      <td>0.948914</td>\n",
       "      <td>-5.11</td>\n",
       "    </tr>\n",
       "    <tr>\n",
       "      <th>44</th>\n",
       "      <td>Wyoming</td>\n",
       "      <td>576851</td>\n",
       "      <td>36241.50</td>\n",
       "      <td>62826.45</td>\n",
       "      <td>0.001740</td>\n",
       "      <td>0.001741</td>\n",
       "      <td>1.000296</td>\n",
       "      <td>0.03</td>\n",
       "    </tr>\n",
       "    <tr>\n",
       "      <th>45</th>\n",
       "      <td>Alaska</td>\n",
       "      <td>733391</td>\n",
       "      <td>50246.50</td>\n",
       "      <td>68512.57</td>\n",
       "      <td>0.002213</td>\n",
       "      <td>0.002414</td>\n",
       "      <td>1.090828</td>\n",
       "      <td>9.08</td>\n",
       "    </tr>\n",
       "    <tr>\n",
       "      <th>46</th>\n",
       "      <td>California</td>\n",
       "      <td>39538223</td>\n",
       "      <td>3091871.50</td>\n",
       "      <td>78199.56</td>\n",
       "      <td>0.119289</td>\n",
       "      <td>0.148522</td>\n",
       "      <td>1.245060</td>\n",
       "      <td>24.51</td>\n",
       "    </tr>\n",
       "    <tr>\n",
       "      <th>47</th>\n",
       "      <td>Hawaii</td>\n",
       "      <td>1455271</td>\n",
       "      <td>89856.25</td>\n",
       "      <td>61745.37</td>\n",
       "      <td>0.004391</td>\n",
       "      <td>0.004316</td>\n",
       "      <td>0.983084</td>\n",
       "      <td>-1.69</td>\n",
       "    </tr>\n",
       "    <tr>\n",
       "      <th>48</th>\n",
       "      <td>Nevada</td>\n",
       "      <td>3104614</td>\n",
       "      <td>172597.50</td>\n",
       "      <td>55593.87</td>\n",
       "      <td>0.009367</td>\n",
       "      <td>0.008291</td>\n",
       "      <td>0.885142</td>\n",
       "      <td>-11.49</td>\n",
       "    </tr>\n",
       "    <tr>\n",
       "      <th>49</th>\n",
       "      <td>Oregon</td>\n",
       "      <td>4237256</td>\n",
       "      <td>250458.50</td>\n",
       "      <td>59108.65</td>\n",
       "      <td>0.012784</td>\n",
       "      <td>0.012031</td>\n",
       "      <td>0.941103</td>\n",
       "      <td>-5.89</td>\n",
       "    </tr>\n",
       "    <tr>\n",
       "      <th>50</th>\n",
       "      <td>Washington</td>\n",
       "      <td>7705281</td>\n",
       "      <td>618705.00</td>\n",
       "      <td>80296.23</td>\n",
       "      <td>0.023247</td>\n",
       "      <td>0.029720</td>\n",
       "      <td>1.278443</td>\n",
       "      <td>27.84</td>\n",
       "    </tr>\n",
       "  </tbody>\n",
       "</table>\n",
       "</div>"
      ],
      "text/plain": [
       "              State Name  Population  Annual GDP  Per Capita GDP  \\\n",
       "0            Connecticut     3605944   280900.00        77899.16   \n",
       "1                  Maine     1362359    66195.75        48589.06   \n",
       "2          Massachusetts     7029917   584038.75        83079.04   \n",
       "3          New Hampshire     1377529    85109.00        61783.82   \n",
       "4           Rhode Island     1097379    60224.50        54880.31   \n",
       "5                Vermont      643077    32797.00        51000.11   \n",
       "6               Delaware      989948    75512.50        76279.26   \n",
       "7   District of Columbia      689545   143532.50       208155.38   \n",
       "8               Maryland     6177224   422726.50        68433.09   \n",
       "9             New Jersey     9288994   619061.50        66644.62   \n",
       "10              New York    20201249  1699044.75        84105.93   \n",
       "11          Pennsylvania    13002700   780176.00        60001.08   \n",
       "12              Illinois    12812508   863516.50        67396.37   \n",
       "13               Indiana     6785528   372636.75        54916.40   \n",
       "14              Michigan    10077331   515928.25        51196.91   \n",
       "15                  Ohio    11799448   675037.00        57209.20   \n",
       "16             Wisconsin     5893718   338678.50        57464.32   \n",
       "17                  Iowa     3190369   192710.25        60403.75   \n",
       "18                Kansas     2937880   173298.00        58987.43   \n",
       "19             Minnesota     5706494   374351.75        65601.01   \n",
       "20              Missouri     6154913   321709.00        52268.65   \n",
       "21              Nebraska     1961504   128808.75        65668.36   \n",
       "22          North Dakota      779094    54033.00        69353.63   \n",
       "23          South Dakota      886667    54852.00        61863.13   \n",
       "24               Alabama     5024279   224870.25        44756.72   \n",
       "25              Arkansas     3011524   129073.75        42859.94   \n",
       "26               Florida    21538187  1095888.25        50881.17   \n",
       "27               Georgia    10711908   619240.25        57808.59   \n",
       "28              Kentucky     4505836   210024.00        46611.55   \n",
       "29             Louisiana     4657757   241990.75        51954.35   \n",
       "30           Mississippi     2961279   114200.50        38564.59   \n",
       "31        North Carolina    10439388   586136.50        56146.63   \n",
       "32        South Carolina     5118425   241688.75        47219.36   \n",
       "33             Tennessee     6910840   364486.00        52741.20   \n",
       "34              Virginia     8631393   551760.25        63924.82   \n",
       "35         West Virginia     1793716    73709.25        41093.04   \n",
       "36               Arizona     7151502   372461.00        52081.51   \n",
       "37            New Mexico     2117522   100310.25        47371.53   \n",
       "38              Oklahoma     3959353   186581.50        47124.24   \n",
       "39                 Texas    29145505  1759734.25        60377.55   \n",
       "40              Colorado     5773714   390098.75        67564.61   \n",
       "41                 Idaho     1839106    84032.25        45691.90   \n",
       "42               Montana     1084225    51488.75        47488.99   \n",
       "43                  Utah     3271616   194985.75        59599.22   \n",
       "44               Wyoming      576851    36241.50        62826.45   \n",
       "45                Alaska      733391    50246.50        68512.57   \n",
       "46            California    39538223  3091871.50        78199.56   \n",
       "47                Hawaii     1455271    89856.25        61745.37   \n",
       "48                Nevada     3104614   172597.50        55593.87   \n",
       "49                Oregon     4237256   250458.50        59108.65   \n",
       "50            Washington     7705281   618705.00        80296.23   \n",
       "\n",
       "    Percentage of US Population  Percentage of US GDP  \\\n",
       "0                      0.010879              0.013493   \n",
       "1                      0.004110              0.003180   \n",
       "2                      0.021210              0.028055   \n",
       "3                      0.004156              0.004088   \n",
       "4                      0.003311              0.002893   \n",
       "5                      0.001940              0.001575   \n",
       "6                      0.002987              0.003627   \n",
       "7                      0.002080              0.006895   \n",
       "8                      0.018637              0.020306   \n",
       "9                      0.028025              0.029737   \n",
       "10                     0.060948              0.081616   \n",
       "11                     0.039230              0.037477   \n",
       "12                     0.038656              0.041480   \n",
       "13                     0.020472              0.017900   \n",
       "14                     0.030404              0.024783   \n",
       "15                     0.035600              0.032426   \n",
       "16                     0.017782              0.016269   \n",
       "17                     0.009626              0.009257   \n",
       "18                     0.008864              0.008325   \n",
       "19                     0.017217              0.017982   \n",
       "20                     0.018570              0.015454   \n",
       "21                     0.005918              0.006187   \n",
       "22                     0.002351              0.002596   \n",
       "23                     0.002675              0.002635   \n",
       "24                     0.015159              0.010802   \n",
       "25                     0.009086              0.006200   \n",
       "26                     0.064982              0.052642   \n",
       "27                     0.032318              0.029746   \n",
       "28                     0.013594              0.010089   \n",
       "29                     0.014053              0.011624   \n",
       "30                     0.008934              0.005486   \n",
       "31                     0.031496              0.028156   \n",
       "32                     0.015443              0.011610   \n",
       "33                     0.020850              0.017509   \n",
       "34                     0.026041              0.026504   \n",
       "35                     0.005412              0.003541   \n",
       "36                     0.021576              0.017892   \n",
       "37                     0.006389              0.004819   \n",
       "38                     0.011946              0.008963   \n",
       "39                     0.087934              0.084531   \n",
       "40                     0.017420              0.018739   \n",
       "41                     0.005549              0.004037   \n",
       "42                     0.003271              0.002473   \n",
       "43                     0.009871              0.009366   \n",
       "44                     0.001740              0.001741   \n",
       "45                     0.002213              0.002414   \n",
       "46                     0.119289              0.148522   \n",
       "47                     0.004391              0.004316   \n",
       "48                     0.009367              0.008291   \n",
       "49                     0.012784              0.012031   \n",
       "50                     0.023247              0.029720   \n",
       "\n",
       "    Ratio of State Per Capita GDP to National Average  Relative GDP per Capita  \n",
       "0                                            1.240277                    24.03  \n",
       "1                                            0.773615                   -22.64  \n",
       "2                                            1.322749                    32.27  \n",
       "3                                            0.983696                    -1.63  \n",
       "4                                            0.873781                   -12.62  \n",
       "5                                            0.812002                   -18.80  \n",
       "6                                            1.214486                    21.45  \n",
       "7                                            3.314162                   231.42  \n",
       "8                                            1.089563                     8.96  \n",
       "9                                            1.061087                     6.11  \n",
       "10                                           1.339099                    33.91  \n",
       "11                                           0.955312                    -4.47  \n",
       "12                                           1.073056                     7.31  \n",
       "13                                           0.874356                   -12.56  \n",
       "14                                           0.815136                   -18.49  \n",
       "15                                           0.910861                    -8.91  \n",
       "16                                           0.914923                    -8.51  \n",
       "17                                           0.961723                    -3.83  \n",
       "18                                           0.939173                    -6.08  \n",
       "19                                           1.044471                     4.45  \n",
       "20                                           0.832199                   -16.78  \n",
       "21                                           1.045544                     4.55  \n",
       "22                                           1.104219                    10.42  \n",
       "23                                           0.984959                    -1.50  \n",
       "24                                           0.712598                   -28.74  \n",
       "25                                           0.682398                   -31.76  \n",
       "26                                           0.810109                   -18.99  \n",
       "27                                           0.920404                    -7.96  \n",
       "28                                           0.742129                   -25.79  \n",
       "29                                           0.827195                   -17.28  \n",
       "30                                           0.614009                   -38.60  \n",
       "31                                           0.893943                   -10.61  \n",
       "32                                           0.751807                   -24.82  \n",
       "33                                           0.839723                   -16.03  \n",
       "34                                           1.017784                     1.78  \n",
       "35                                           0.654266                   -34.57  \n",
       "36                                           0.829220                   -17.08  \n",
       "37                                           0.754229                   -24.58  \n",
       "38                                           0.750292                   -24.97  \n",
       "39                                           0.961306                    -3.87  \n",
       "40                                           1.075735                     7.57  \n",
       "41                                           0.727487                   -27.25  \n",
       "42                                           0.756100                   -24.39  \n",
       "43                                           0.948914                    -5.11  \n",
       "44                                           1.000296                     0.03  \n",
       "45                                           1.090828                     9.08  \n",
       "46                                           1.245060                    24.51  \n",
       "47                                           0.983084                    -1.69  \n",
       "48                                           0.885142                   -11.49  \n",
       "49                                           0.941103                    -5.89  \n",
       "50                                           1.278443                    27.84  "
      ]
     },
     "execution_count": 85,
     "metadata": {},
     "output_type": "execute_result"
    }
   ],
   "source": [
    "df_combined['Relative GDP per Capita'] = ((df_combined['Ratio of State Per Capita GDP to National Average'] - 1)*100).round(2)\n",
    "df_combined.to_csv('dataset_process/gdp_per_capita_relative.csv',index=False)\n",
    "df_combined"
   ]
  },
  {
   "cell_type": "markdown",
   "metadata": {},
   "source": [
    "Then we need to join to that some state abbreviations for making a chloropleth map.  I am not going to describe the chloropleth, but I will give you two reference: the [official documentation for plotly](https://plotly.com/python/choropleth-maps/)  and a how-to [GeeksForGeeks article](https://www.geeksforgeeks.org/choropleth-maps-using-plotly-in-python/).  \n",
    "\n",
    "Next steps would be to add annotations to the map."
   ]
  },
  {
   "cell_type": "code",
   "execution_count": null,
   "metadata": {},
   "outputs": [],
   "source": [
    "# Plotly needs the state abbreviations. I created this Excel file just for chloropleth maps with US states.\n",
    "df_abbrev = pd.read_excel(r\"D:\\VSCodeWorkSpace\\2024_C\\data\\State-Abbreviations.xlsx\",\n",
    "                          sheet_name='Abbreviations')\n",
    "df_combined=df_combined.merge(df_abbrev,on=\"State Name\").rename(columns={'Abbreviation':'State'})"
   ]
  },
  {
   "cell_type": "code",
   "execution_count": null,
   "metadata": {},
   "outputs": [],
   "source": [
    "import plotly.express as px"
   ]
  },
  {
   "cell_type": "code",
   "execution_count": null,
   "metadata": {},
   "outputs": [
    {
     "data": {
      "application/vnd.plotly.v1+json": {
       "config": {
        "plotlyServerURL": "https://plot.ly"
       },
       "data": [
        {
         "coloraxis": "coloraxis",
         "geo": "geo",
         "hovertemplate": "<b>%{hovertext}</b><br><br>State=%{location}<br>Relative GDP per Capita=%{z}<extra></extra>",
         "hovertext": [
          "CT",
          "ME",
          "MA",
          "NH",
          "RI",
          "VT",
          "DE",
          "MD",
          "NJ",
          "NY",
          "PA",
          "IL",
          "IN",
          "MI",
          "OH",
          "WI",
          "IA",
          "KS",
          "MN",
          "MO",
          "NE",
          "ND",
          "SD",
          "AL",
          "AR",
          "FL",
          "GA",
          "KY",
          "LA",
          "MS",
          "NC",
          "SC",
          "TN",
          "VA",
          "WV",
          "AZ",
          "NM",
          "OK",
          "TX",
          "CO",
          "ID",
          "MT",
          "UT",
          "WY",
          "AK",
          "CA",
          "HI",
          "NV",
          "OR",
          "WA"
         ],
         "locationmode": "USA-states",
         "locations": [
          "CT",
          "ME",
          "MA",
          "NH",
          "RI",
          "VT",
          "DE",
          "MD",
          "NJ",
          "NY",
          "PA",
          "IL",
          "IN",
          "MI",
          "OH",
          "WI",
          "IA",
          "KS",
          "MN",
          "MO",
          "NE",
          "ND",
          "SD",
          "AL",
          "AR",
          "FL",
          "GA",
          "KY",
          "LA",
          "MS",
          "NC",
          "SC",
          "TN",
          "VA",
          "WV",
          "AZ",
          "NM",
          "OK",
          "TX",
          "CO",
          "ID",
          "MT",
          "UT",
          "WY",
          "AK",
          "CA",
          "HI",
          "NV",
          "OR",
          "WA"
         ],
         "name": "",
         "type": "choropleth",
         "z": [
          24.03,
          -22.64,
          32.27,
          -1.63,
          -12.62,
          -18.8,
          21.45,
          8.96,
          6.11,
          33.91,
          -4.47,
          7.31,
          -12.56,
          -18.49,
          -8.91,
          -8.51,
          -3.83,
          -6.08,
          4.45,
          -16.78,
          4.55,
          10.42,
          -1.5,
          -28.74,
          -31.76,
          -18.99,
          -7.96,
          -25.79,
          -17.28,
          -38.6,
          -10.61,
          -24.82,
          -16.03,
          1.78,
          -34.57,
          -17.08,
          -24.58,
          -24.97,
          -3.87,
          7.57,
          -27.25,
          -24.39,
          -5.11,
          0.03,
          9.08,
          24.51,
          -1.69,
          -11.49,
          -5.89,
          27.84
         ]
        }
       ],
       "layout": {
        "coloraxis": {
         "colorbar": {
          "title": {
           "text": "Relative GDP per Capita"
          }
         },
         "colorscale": [
          [
           0,
           "rgb(84,48,5)"
          ],
          [
           0.1,
           "rgb(140,81,10)"
          ],
          [
           0.2,
           "rgb(191,129,45)"
          ],
          [
           0.3,
           "rgb(223,194,125)"
          ],
          [
           0.4,
           "rgb(246,232,195)"
          ],
          [
           0.5,
           "rgb(245,245,245)"
          ],
          [
           0.6,
           "rgb(199,234,229)"
          ],
          [
           0.7,
           "rgb(128,205,193)"
          ],
          [
           0.8,
           "rgb(53,151,143)"
          ],
          [
           0.9,
           "rgb(1,102,94)"
          ],
          [
           1,
           "rgb(0,60,48)"
          ]
         ]
        },
        "geo": {
         "center": {},
         "domain": {
          "x": [
           0,
           1
          ],
          "y": [
           0,
           1
          ]
         },
         "scope": "usa"
        },
        "legend": {
         "tracegroupgap": 0
        },
        "template": {
         "data": {
          "bar": [
           {
            "error_x": {
             "color": "#2a3f5f"
            },
            "error_y": {
             "color": "#2a3f5f"
            },
            "marker": {
             "line": {
              "color": "#E5ECF6",
              "width": 0.5
             },
             "pattern": {
              "fillmode": "overlay",
              "size": 10,
              "solidity": 0.2
             }
            },
            "type": "bar"
           }
          ],
          "barpolar": [
           {
            "marker": {
             "line": {
              "color": "#E5ECF6",
              "width": 0.5
             },
             "pattern": {
              "fillmode": "overlay",
              "size": 10,
              "solidity": 0.2
             }
            },
            "type": "barpolar"
           }
          ],
          "carpet": [
           {
            "aaxis": {
             "endlinecolor": "#2a3f5f",
             "gridcolor": "white",
             "linecolor": "white",
             "minorgridcolor": "white",
             "startlinecolor": "#2a3f5f"
            },
            "baxis": {
             "endlinecolor": "#2a3f5f",
             "gridcolor": "white",
             "linecolor": "white",
             "minorgridcolor": "white",
             "startlinecolor": "#2a3f5f"
            },
            "type": "carpet"
           }
          ],
          "choropleth": [
           {
            "colorbar": {
             "outlinewidth": 0,
             "ticks": ""
            },
            "type": "choropleth"
           }
          ],
          "contour": [
           {
            "colorbar": {
             "outlinewidth": 0,
             "ticks": ""
            },
            "colorscale": [
             [
              0,
              "#0d0887"
             ],
             [
              0.1111111111111111,
              "#46039f"
             ],
             [
              0.2222222222222222,
              "#7201a8"
             ],
             [
              0.3333333333333333,
              "#9c179e"
             ],
             [
              0.4444444444444444,
              "#bd3786"
             ],
             [
              0.5555555555555556,
              "#d8576b"
             ],
             [
              0.6666666666666666,
              "#ed7953"
             ],
             [
              0.7777777777777778,
              "#fb9f3a"
             ],
             [
              0.8888888888888888,
              "#fdca26"
             ],
             [
              1,
              "#f0f921"
             ]
            ],
            "type": "contour"
           }
          ],
          "contourcarpet": [
           {
            "colorbar": {
             "outlinewidth": 0,
             "ticks": ""
            },
            "type": "contourcarpet"
           }
          ],
          "heatmap": [
           {
            "colorbar": {
             "outlinewidth": 0,
             "ticks": ""
            },
            "colorscale": [
             [
              0,
              "#0d0887"
             ],
             [
              0.1111111111111111,
              "#46039f"
             ],
             [
              0.2222222222222222,
              "#7201a8"
             ],
             [
              0.3333333333333333,
              "#9c179e"
             ],
             [
              0.4444444444444444,
              "#bd3786"
             ],
             [
              0.5555555555555556,
              "#d8576b"
             ],
             [
              0.6666666666666666,
              "#ed7953"
             ],
             [
              0.7777777777777778,
              "#fb9f3a"
             ],
             [
              0.8888888888888888,
              "#fdca26"
             ],
             [
              1,
              "#f0f921"
             ]
            ],
            "type": "heatmap"
           }
          ],
          "heatmapgl": [
           {
            "colorbar": {
             "outlinewidth": 0,
             "ticks": ""
            },
            "colorscale": [
             [
              0,
              "#0d0887"
             ],
             [
              0.1111111111111111,
              "#46039f"
             ],
             [
              0.2222222222222222,
              "#7201a8"
             ],
             [
              0.3333333333333333,
              "#9c179e"
             ],
             [
              0.4444444444444444,
              "#bd3786"
             ],
             [
              0.5555555555555556,
              "#d8576b"
             ],
             [
              0.6666666666666666,
              "#ed7953"
             ],
             [
              0.7777777777777778,
              "#fb9f3a"
             ],
             [
              0.8888888888888888,
              "#fdca26"
             ],
             [
              1,
              "#f0f921"
             ]
            ],
            "type": "heatmapgl"
           }
          ],
          "histogram": [
           {
            "marker": {
             "pattern": {
              "fillmode": "overlay",
              "size": 10,
              "solidity": 0.2
             }
            },
            "type": "histogram"
           }
          ],
          "histogram2d": [
           {
            "colorbar": {
             "outlinewidth": 0,
             "ticks": ""
            },
            "colorscale": [
             [
              0,
              "#0d0887"
             ],
             [
              0.1111111111111111,
              "#46039f"
             ],
             [
              0.2222222222222222,
              "#7201a8"
             ],
             [
              0.3333333333333333,
              "#9c179e"
             ],
             [
              0.4444444444444444,
              "#bd3786"
             ],
             [
              0.5555555555555556,
              "#d8576b"
             ],
             [
              0.6666666666666666,
              "#ed7953"
             ],
             [
              0.7777777777777778,
              "#fb9f3a"
             ],
             [
              0.8888888888888888,
              "#fdca26"
             ],
             [
              1,
              "#f0f921"
             ]
            ],
            "type": "histogram2d"
           }
          ],
          "histogram2dcontour": [
           {
            "colorbar": {
             "outlinewidth": 0,
             "ticks": ""
            },
            "colorscale": [
             [
              0,
              "#0d0887"
             ],
             [
              0.1111111111111111,
              "#46039f"
             ],
             [
              0.2222222222222222,
              "#7201a8"
             ],
             [
              0.3333333333333333,
              "#9c179e"
             ],
             [
              0.4444444444444444,
              "#bd3786"
             ],
             [
              0.5555555555555556,
              "#d8576b"
             ],
             [
              0.6666666666666666,
              "#ed7953"
             ],
             [
              0.7777777777777778,
              "#fb9f3a"
             ],
             [
              0.8888888888888888,
              "#fdca26"
             ],
             [
              1,
              "#f0f921"
             ]
            ],
            "type": "histogram2dcontour"
           }
          ],
          "mesh3d": [
           {
            "colorbar": {
             "outlinewidth": 0,
             "ticks": ""
            },
            "type": "mesh3d"
           }
          ],
          "parcoords": [
           {
            "line": {
             "colorbar": {
              "outlinewidth": 0,
              "ticks": ""
             }
            },
            "type": "parcoords"
           }
          ],
          "pie": [
           {
            "automargin": true,
            "type": "pie"
           }
          ],
          "scatter": [
           {
            "fillpattern": {
             "fillmode": "overlay",
             "size": 10,
             "solidity": 0.2
            },
            "type": "scatter"
           }
          ],
          "scatter3d": [
           {
            "line": {
             "colorbar": {
              "outlinewidth": 0,
              "ticks": ""
             }
            },
            "marker": {
             "colorbar": {
              "outlinewidth": 0,
              "ticks": ""
             }
            },
            "type": "scatter3d"
           }
          ],
          "scattercarpet": [
           {
            "marker": {
             "colorbar": {
              "outlinewidth": 0,
              "ticks": ""
             }
            },
            "type": "scattercarpet"
           }
          ],
          "scattergeo": [
           {
            "marker": {
             "colorbar": {
              "outlinewidth": 0,
              "ticks": ""
             }
            },
            "type": "scattergeo"
           }
          ],
          "scattergl": [
           {
            "marker": {
             "colorbar": {
              "outlinewidth": 0,
              "ticks": ""
             }
            },
            "type": "scattergl"
           }
          ],
          "scattermapbox": [
           {
            "marker": {
             "colorbar": {
              "outlinewidth": 0,
              "ticks": ""
             }
            },
            "type": "scattermapbox"
           }
          ],
          "scatterpolar": [
           {
            "marker": {
             "colorbar": {
              "outlinewidth": 0,
              "ticks": ""
             }
            },
            "type": "scatterpolar"
           }
          ],
          "scatterpolargl": [
           {
            "marker": {
             "colorbar": {
              "outlinewidth": 0,
              "ticks": ""
             }
            },
            "type": "scatterpolargl"
           }
          ],
          "scatterternary": [
           {
            "marker": {
             "colorbar": {
              "outlinewidth": 0,
              "ticks": ""
             }
            },
            "type": "scatterternary"
           }
          ],
          "surface": [
           {
            "colorbar": {
             "outlinewidth": 0,
             "ticks": ""
            },
            "colorscale": [
             [
              0,
              "#0d0887"
             ],
             [
              0.1111111111111111,
              "#46039f"
             ],
             [
              0.2222222222222222,
              "#7201a8"
             ],
             [
              0.3333333333333333,
              "#9c179e"
             ],
             [
              0.4444444444444444,
              "#bd3786"
             ],
             [
              0.5555555555555556,
              "#d8576b"
             ],
             [
              0.6666666666666666,
              "#ed7953"
             ],
             [
              0.7777777777777778,
              "#fb9f3a"
             ],
             [
              0.8888888888888888,
              "#fdca26"
             ],
             [
              1,
              "#f0f921"
             ]
            ],
            "type": "surface"
           }
          ],
          "table": [
           {
            "cells": {
             "fill": {
              "color": "#EBF0F8"
             },
             "line": {
              "color": "white"
             }
            },
            "header": {
             "fill": {
              "color": "#C8D4E3"
             },
             "line": {
              "color": "white"
             }
            },
            "type": "table"
           }
          ]
         },
         "layout": {
          "annotationdefaults": {
           "arrowcolor": "#2a3f5f",
           "arrowhead": 0,
           "arrowwidth": 1
          },
          "autotypenumbers": "strict",
          "coloraxis": {
           "colorbar": {
            "outlinewidth": 0,
            "ticks": ""
           }
          },
          "colorscale": {
           "diverging": [
            [
             0,
             "#8e0152"
            ],
            [
             0.1,
             "#c51b7d"
            ],
            [
             0.2,
             "#de77ae"
            ],
            [
             0.3,
             "#f1b6da"
            ],
            [
             0.4,
             "#fde0ef"
            ],
            [
             0.5,
             "#f7f7f7"
            ],
            [
             0.6,
             "#e6f5d0"
            ],
            [
             0.7,
             "#b8e186"
            ],
            [
             0.8,
             "#7fbc41"
            ],
            [
             0.9,
             "#4d9221"
            ],
            [
             1,
             "#276419"
            ]
           ],
           "sequential": [
            [
             0,
             "#0d0887"
            ],
            [
             0.1111111111111111,
             "#46039f"
            ],
            [
             0.2222222222222222,
             "#7201a8"
            ],
            [
             0.3333333333333333,
             "#9c179e"
            ],
            [
             0.4444444444444444,
             "#bd3786"
            ],
            [
             0.5555555555555556,
             "#d8576b"
            ],
            [
             0.6666666666666666,
             "#ed7953"
            ],
            [
             0.7777777777777778,
             "#fb9f3a"
            ],
            [
             0.8888888888888888,
             "#fdca26"
            ],
            [
             1,
             "#f0f921"
            ]
           ],
           "sequentialminus": [
            [
             0,
             "#0d0887"
            ],
            [
             0.1111111111111111,
             "#46039f"
            ],
            [
             0.2222222222222222,
             "#7201a8"
            ],
            [
             0.3333333333333333,
             "#9c179e"
            ],
            [
             0.4444444444444444,
             "#bd3786"
            ],
            [
             0.5555555555555556,
             "#d8576b"
            ],
            [
             0.6666666666666666,
             "#ed7953"
            ],
            [
             0.7777777777777778,
             "#fb9f3a"
            ],
            [
             0.8888888888888888,
             "#fdca26"
            ],
            [
             1,
             "#f0f921"
            ]
           ]
          },
          "colorway": [
           "#636efa",
           "#EF553B",
           "#00cc96",
           "#ab63fa",
           "#FFA15A",
           "#19d3f3",
           "#FF6692",
           "#B6E880",
           "#FF97FF",
           "#FECB52"
          ],
          "font": {
           "color": "#2a3f5f"
          },
          "geo": {
           "bgcolor": "white",
           "lakecolor": "white",
           "landcolor": "#E5ECF6",
           "showlakes": true,
           "showland": true,
           "subunitcolor": "white"
          },
          "hoverlabel": {
           "align": "left"
          },
          "hovermode": "closest",
          "mapbox": {
           "style": "light"
          },
          "paper_bgcolor": "white",
          "plot_bgcolor": "#E5ECF6",
          "polar": {
           "angularaxis": {
            "gridcolor": "white",
            "linecolor": "white",
            "ticks": ""
           },
           "bgcolor": "#E5ECF6",
           "radialaxis": {
            "gridcolor": "white",
            "linecolor": "white",
            "ticks": ""
           }
          },
          "scene": {
           "xaxis": {
            "backgroundcolor": "#E5ECF6",
            "gridcolor": "white",
            "gridwidth": 2,
            "linecolor": "white",
            "showbackground": true,
            "ticks": "",
            "zerolinecolor": "white"
           },
           "yaxis": {
            "backgroundcolor": "#E5ECF6",
            "gridcolor": "white",
            "gridwidth": 2,
            "linecolor": "white",
            "showbackground": true,
            "ticks": "",
            "zerolinecolor": "white"
           },
           "zaxis": {
            "backgroundcolor": "#E5ECF6",
            "gridcolor": "white",
            "gridwidth": 2,
            "linecolor": "white",
            "showbackground": true,
            "ticks": "",
            "zerolinecolor": "white"
           }
          },
          "shapedefaults": {
           "line": {
            "color": "#2a3f5f"
           }
          },
          "ternary": {
           "aaxis": {
            "gridcolor": "white",
            "linecolor": "white",
            "ticks": ""
           },
           "baxis": {
            "gridcolor": "white",
            "linecolor": "white",
            "ticks": ""
           },
           "bgcolor": "#E5ECF6",
           "caxis": {
            "gridcolor": "white",
            "linecolor": "white",
            "ticks": ""
           }
          },
          "title": {
           "x": 0.05
          },
          "xaxis": {
           "automargin": true,
           "gridcolor": "white",
           "linecolor": "white",
           "ticks": "",
           "title": {
            "standoff": 15
           },
           "zerolinecolor": "white",
           "zerolinewidth": 2
          },
          "yaxis": {
           "automargin": true,
           "gridcolor": "white",
           "linecolor": "white",
           "ticks": "",
           "title": {
            "standoff": 15
           },
           "zerolinecolor": "white",
           "zerolinewidth": 2
          }
         }
        },
        "title": {
         "text": "Relative Per Capita GDP"
        }
       }
      }
     },
     "metadata": {},
     "output_type": "display_data"
    }
   ],
   "source": [
    "fig = px.choropleth(df_combined,\n",
    "                    locations=\"State\", \n",
    "                    locationmode=\"USA-states\", \n",
    "                    color=\"Relative GDP per Capita\", \n",
    "                    hover_name=\"State\",\n",
    "                    scope=\"usa\",\n",
    "                    color_continuous_scale=px.colors.diverging.BrBG,\n",
    "                    title=\"Relative Per Capita GDP\")\n",
    "fig.show()"
   ]
  },
  {
   "cell_type": "markdown",
   "metadata": {},
   "source": [
    "This chloropleth recreates the one that started me on this journey.  "
   ]
  },
  {
   "cell_type": "code",
   "execution_count": null,
   "metadata": {},
   "outputs": [
    {
     "data": {
      "application/vnd.plotly.v1+json": {
       "config": {
        "plotlyServerURL": "https://plot.ly"
       },
       "data": [
        {
         "coloraxis": "coloraxis",
         "geo": "geo",
         "hovertemplate": "<b>%{hovertext}</b><br><br>State=%{location}<br>Annual GDP=%{z}<extra></extra>",
         "hovertext": [
          "CT",
          "ME",
          "MA",
          "NH",
          "RI",
          "VT",
          "DE",
          "MD",
          "NJ",
          "NY",
          "PA",
          "IL",
          "IN",
          "MI",
          "OH",
          "WI",
          "IA",
          "KS",
          "MN",
          "MO",
          "NE",
          "ND",
          "SD",
          "AL",
          "AR",
          "FL",
          "GA",
          "KY",
          "LA",
          "MS",
          "NC",
          "SC",
          "TN",
          "VA",
          "WV",
          "AZ",
          "NM",
          "OK",
          "TX",
          "CO",
          "ID",
          "MT",
          "UT",
          "WY",
          "AK",
          "CA",
          "HI",
          "NV",
          "OR",
          "WA"
         ],
         "locationmode": "USA-states",
         "locations": [
          "CT",
          "ME",
          "MA",
          "NH",
          "RI",
          "VT",
          "DE",
          "MD",
          "NJ",
          "NY",
          "PA",
          "IL",
          "IN",
          "MI",
          "OH",
          "WI",
          "IA",
          "KS",
          "MN",
          "MO",
          "NE",
          "ND",
          "SD",
          "AL",
          "AR",
          "FL",
          "GA",
          "KY",
          "LA",
          "MS",
          "NC",
          "SC",
          "TN",
          "VA",
          "WV",
          "AZ",
          "NM",
          "OK",
          "TX",
          "CO",
          "ID",
          "MT",
          "UT",
          "WY",
          "AK",
          "CA",
          "HI",
          "NV",
          "OR",
          "WA"
         ],
         "name": "",
         "type": "choropleth",
         "z": [
          280900,
          66195.75,
          584038.75,
          85109,
          60224.5,
          32797,
          75512.5,
          422726.5,
          619061.5,
          1699044.75,
          780176,
          863516.5,
          372636.75,
          515928.25,
          675037,
          338678.5,
          192710.25,
          173298,
          374351.75,
          321709,
          128808.75,
          54033,
          54852,
          224870.25,
          129073.75,
          1095888.25,
          619240.25,
          210024,
          241990.75,
          114200.5,
          586136.5,
          241688.75,
          364486,
          551760.25,
          73709.25,
          372461,
          100310.25,
          186581.5,
          1759734.25,
          390098.75,
          84032.25,
          51488.75,
          194985.75,
          36241.5,
          50246.5,
          3091871.5,
          89856.25,
          172597.5,
          250458.5,
          618705
         ]
        }
       ],
       "layout": {
        "coloraxis": {
         "colorbar": {
          "title": {
           "text": "Annual GDP"
          }
         },
         "colorscale": [
          [
           0,
           "rgb(247,252,245)"
          ],
          [
           0.125,
           "rgb(229,245,224)"
          ],
          [
           0.25,
           "rgb(199,233,192)"
          ],
          [
           0.375,
           "rgb(161,217,155)"
          ],
          [
           0.5,
           "rgb(116,196,118)"
          ],
          [
           0.625,
           "rgb(65,171,93)"
          ],
          [
           0.75,
           "rgb(35,139,69)"
          ],
          [
           0.875,
           "rgb(0,109,44)"
          ],
          [
           1,
           "rgb(0,68,27)"
          ]
         ]
        },
        "geo": {
         "center": {},
         "domain": {
          "x": [
           0,
           1
          ],
          "y": [
           0,
           1
          ]
         },
         "scope": "usa"
        },
        "legend": {
         "tracegroupgap": 0
        },
        "template": {
         "data": {
          "bar": [
           {
            "error_x": {
             "color": "#2a3f5f"
            },
            "error_y": {
             "color": "#2a3f5f"
            },
            "marker": {
             "line": {
              "color": "#E5ECF6",
              "width": 0.5
             },
             "pattern": {
              "fillmode": "overlay",
              "size": 10,
              "solidity": 0.2
             }
            },
            "type": "bar"
           }
          ],
          "barpolar": [
           {
            "marker": {
             "line": {
              "color": "#E5ECF6",
              "width": 0.5
             },
             "pattern": {
              "fillmode": "overlay",
              "size": 10,
              "solidity": 0.2
             }
            },
            "type": "barpolar"
           }
          ],
          "carpet": [
           {
            "aaxis": {
             "endlinecolor": "#2a3f5f",
             "gridcolor": "white",
             "linecolor": "white",
             "minorgridcolor": "white",
             "startlinecolor": "#2a3f5f"
            },
            "baxis": {
             "endlinecolor": "#2a3f5f",
             "gridcolor": "white",
             "linecolor": "white",
             "minorgridcolor": "white",
             "startlinecolor": "#2a3f5f"
            },
            "type": "carpet"
           }
          ],
          "choropleth": [
           {
            "colorbar": {
             "outlinewidth": 0,
             "ticks": ""
            },
            "type": "choropleth"
           }
          ],
          "contour": [
           {
            "colorbar": {
             "outlinewidth": 0,
             "ticks": ""
            },
            "colorscale": [
             [
              0,
              "#0d0887"
             ],
             [
              0.1111111111111111,
              "#46039f"
             ],
             [
              0.2222222222222222,
              "#7201a8"
             ],
             [
              0.3333333333333333,
              "#9c179e"
             ],
             [
              0.4444444444444444,
              "#bd3786"
             ],
             [
              0.5555555555555556,
              "#d8576b"
             ],
             [
              0.6666666666666666,
              "#ed7953"
             ],
             [
              0.7777777777777778,
              "#fb9f3a"
             ],
             [
              0.8888888888888888,
              "#fdca26"
             ],
             [
              1,
              "#f0f921"
             ]
            ],
            "type": "contour"
           }
          ],
          "contourcarpet": [
           {
            "colorbar": {
             "outlinewidth": 0,
             "ticks": ""
            },
            "type": "contourcarpet"
           }
          ],
          "heatmap": [
           {
            "colorbar": {
             "outlinewidth": 0,
             "ticks": ""
            },
            "colorscale": [
             [
              0,
              "#0d0887"
             ],
             [
              0.1111111111111111,
              "#46039f"
             ],
             [
              0.2222222222222222,
              "#7201a8"
             ],
             [
              0.3333333333333333,
              "#9c179e"
             ],
             [
              0.4444444444444444,
              "#bd3786"
             ],
             [
              0.5555555555555556,
              "#d8576b"
             ],
             [
              0.6666666666666666,
              "#ed7953"
             ],
             [
              0.7777777777777778,
              "#fb9f3a"
             ],
             [
              0.8888888888888888,
              "#fdca26"
             ],
             [
              1,
              "#f0f921"
             ]
            ],
            "type": "heatmap"
           }
          ],
          "heatmapgl": [
           {
            "colorbar": {
             "outlinewidth": 0,
             "ticks": ""
            },
            "colorscale": [
             [
              0,
              "#0d0887"
             ],
             [
              0.1111111111111111,
              "#46039f"
             ],
             [
              0.2222222222222222,
              "#7201a8"
             ],
             [
              0.3333333333333333,
              "#9c179e"
             ],
             [
              0.4444444444444444,
              "#bd3786"
             ],
             [
              0.5555555555555556,
              "#d8576b"
             ],
             [
              0.6666666666666666,
              "#ed7953"
             ],
             [
              0.7777777777777778,
              "#fb9f3a"
             ],
             [
              0.8888888888888888,
              "#fdca26"
             ],
             [
              1,
              "#f0f921"
             ]
            ],
            "type": "heatmapgl"
           }
          ],
          "histogram": [
           {
            "marker": {
             "pattern": {
              "fillmode": "overlay",
              "size": 10,
              "solidity": 0.2
             }
            },
            "type": "histogram"
           }
          ],
          "histogram2d": [
           {
            "colorbar": {
             "outlinewidth": 0,
             "ticks": ""
            },
            "colorscale": [
             [
              0,
              "#0d0887"
             ],
             [
              0.1111111111111111,
              "#46039f"
             ],
             [
              0.2222222222222222,
              "#7201a8"
             ],
             [
              0.3333333333333333,
              "#9c179e"
             ],
             [
              0.4444444444444444,
              "#bd3786"
             ],
             [
              0.5555555555555556,
              "#d8576b"
             ],
             [
              0.6666666666666666,
              "#ed7953"
             ],
             [
              0.7777777777777778,
              "#fb9f3a"
             ],
             [
              0.8888888888888888,
              "#fdca26"
             ],
             [
              1,
              "#f0f921"
             ]
            ],
            "type": "histogram2d"
           }
          ],
          "histogram2dcontour": [
           {
            "colorbar": {
             "outlinewidth": 0,
             "ticks": ""
            },
            "colorscale": [
             [
              0,
              "#0d0887"
             ],
             [
              0.1111111111111111,
              "#46039f"
             ],
             [
              0.2222222222222222,
              "#7201a8"
             ],
             [
              0.3333333333333333,
              "#9c179e"
             ],
             [
              0.4444444444444444,
              "#bd3786"
             ],
             [
              0.5555555555555556,
              "#d8576b"
             ],
             [
              0.6666666666666666,
              "#ed7953"
             ],
             [
              0.7777777777777778,
              "#fb9f3a"
             ],
             [
              0.8888888888888888,
              "#fdca26"
             ],
             [
              1,
              "#f0f921"
             ]
            ],
            "type": "histogram2dcontour"
           }
          ],
          "mesh3d": [
           {
            "colorbar": {
             "outlinewidth": 0,
             "ticks": ""
            },
            "type": "mesh3d"
           }
          ],
          "parcoords": [
           {
            "line": {
             "colorbar": {
              "outlinewidth": 0,
              "ticks": ""
             }
            },
            "type": "parcoords"
           }
          ],
          "pie": [
           {
            "automargin": true,
            "type": "pie"
           }
          ],
          "scatter": [
           {
            "fillpattern": {
             "fillmode": "overlay",
             "size": 10,
             "solidity": 0.2
            },
            "type": "scatter"
           }
          ],
          "scatter3d": [
           {
            "line": {
             "colorbar": {
              "outlinewidth": 0,
              "ticks": ""
             }
            },
            "marker": {
             "colorbar": {
              "outlinewidth": 0,
              "ticks": ""
             }
            },
            "type": "scatter3d"
           }
          ],
          "scattercarpet": [
           {
            "marker": {
             "colorbar": {
              "outlinewidth": 0,
              "ticks": ""
             }
            },
            "type": "scattercarpet"
           }
          ],
          "scattergeo": [
           {
            "marker": {
             "colorbar": {
              "outlinewidth": 0,
              "ticks": ""
             }
            },
            "type": "scattergeo"
           }
          ],
          "scattergl": [
           {
            "marker": {
             "colorbar": {
              "outlinewidth": 0,
              "ticks": ""
             }
            },
            "type": "scattergl"
           }
          ],
          "scattermapbox": [
           {
            "marker": {
             "colorbar": {
              "outlinewidth": 0,
              "ticks": ""
             }
            },
            "type": "scattermapbox"
           }
          ],
          "scatterpolar": [
           {
            "marker": {
             "colorbar": {
              "outlinewidth": 0,
              "ticks": ""
             }
            },
            "type": "scatterpolar"
           }
          ],
          "scatterpolargl": [
           {
            "marker": {
             "colorbar": {
              "outlinewidth": 0,
              "ticks": ""
             }
            },
            "type": "scatterpolargl"
           }
          ],
          "scatterternary": [
           {
            "marker": {
             "colorbar": {
              "outlinewidth": 0,
              "ticks": ""
             }
            },
            "type": "scatterternary"
           }
          ],
          "surface": [
           {
            "colorbar": {
             "outlinewidth": 0,
             "ticks": ""
            },
            "colorscale": [
             [
              0,
              "#0d0887"
             ],
             [
              0.1111111111111111,
              "#46039f"
             ],
             [
              0.2222222222222222,
              "#7201a8"
             ],
             [
              0.3333333333333333,
              "#9c179e"
             ],
             [
              0.4444444444444444,
              "#bd3786"
             ],
             [
              0.5555555555555556,
              "#d8576b"
             ],
             [
              0.6666666666666666,
              "#ed7953"
             ],
             [
              0.7777777777777778,
              "#fb9f3a"
             ],
             [
              0.8888888888888888,
              "#fdca26"
             ],
             [
              1,
              "#f0f921"
             ]
            ],
            "type": "surface"
           }
          ],
          "table": [
           {
            "cells": {
             "fill": {
              "color": "#EBF0F8"
             },
             "line": {
              "color": "white"
             }
            },
            "header": {
             "fill": {
              "color": "#C8D4E3"
             },
             "line": {
              "color": "white"
             }
            },
            "type": "table"
           }
          ]
         },
         "layout": {
          "annotationdefaults": {
           "arrowcolor": "#2a3f5f",
           "arrowhead": 0,
           "arrowwidth": 1
          },
          "autotypenumbers": "strict",
          "coloraxis": {
           "colorbar": {
            "outlinewidth": 0,
            "ticks": ""
           }
          },
          "colorscale": {
           "diverging": [
            [
             0,
             "#8e0152"
            ],
            [
             0.1,
             "#c51b7d"
            ],
            [
             0.2,
             "#de77ae"
            ],
            [
             0.3,
             "#f1b6da"
            ],
            [
             0.4,
             "#fde0ef"
            ],
            [
             0.5,
             "#f7f7f7"
            ],
            [
             0.6,
             "#e6f5d0"
            ],
            [
             0.7,
             "#b8e186"
            ],
            [
             0.8,
             "#7fbc41"
            ],
            [
             0.9,
             "#4d9221"
            ],
            [
             1,
             "#276419"
            ]
           ],
           "sequential": [
            [
             0,
             "#0d0887"
            ],
            [
             0.1111111111111111,
             "#46039f"
            ],
            [
             0.2222222222222222,
             "#7201a8"
            ],
            [
             0.3333333333333333,
             "#9c179e"
            ],
            [
             0.4444444444444444,
             "#bd3786"
            ],
            [
             0.5555555555555556,
             "#d8576b"
            ],
            [
             0.6666666666666666,
             "#ed7953"
            ],
            [
             0.7777777777777778,
             "#fb9f3a"
            ],
            [
             0.8888888888888888,
             "#fdca26"
            ],
            [
             1,
             "#f0f921"
            ]
           ],
           "sequentialminus": [
            [
             0,
             "#0d0887"
            ],
            [
             0.1111111111111111,
             "#46039f"
            ],
            [
             0.2222222222222222,
             "#7201a8"
            ],
            [
             0.3333333333333333,
             "#9c179e"
            ],
            [
             0.4444444444444444,
             "#bd3786"
            ],
            [
             0.5555555555555556,
             "#d8576b"
            ],
            [
             0.6666666666666666,
             "#ed7953"
            ],
            [
             0.7777777777777778,
             "#fb9f3a"
            ],
            [
             0.8888888888888888,
             "#fdca26"
            ],
            [
             1,
             "#f0f921"
            ]
           ]
          },
          "colorway": [
           "#636efa",
           "#EF553B",
           "#00cc96",
           "#ab63fa",
           "#FFA15A",
           "#19d3f3",
           "#FF6692",
           "#B6E880",
           "#FF97FF",
           "#FECB52"
          ],
          "font": {
           "color": "#2a3f5f"
          },
          "geo": {
           "bgcolor": "white",
           "lakecolor": "white",
           "landcolor": "#E5ECF6",
           "showlakes": true,
           "showland": true,
           "subunitcolor": "white"
          },
          "hoverlabel": {
           "align": "left"
          },
          "hovermode": "closest",
          "mapbox": {
           "style": "light"
          },
          "paper_bgcolor": "white",
          "plot_bgcolor": "#E5ECF6",
          "polar": {
           "angularaxis": {
            "gridcolor": "white",
            "linecolor": "white",
            "ticks": ""
           },
           "bgcolor": "#E5ECF6",
           "radialaxis": {
            "gridcolor": "white",
            "linecolor": "white",
            "ticks": ""
           }
          },
          "scene": {
           "xaxis": {
            "backgroundcolor": "#E5ECF6",
            "gridcolor": "white",
            "gridwidth": 2,
            "linecolor": "white",
            "showbackground": true,
            "ticks": "",
            "zerolinecolor": "white"
           },
           "yaxis": {
            "backgroundcolor": "#E5ECF6",
            "gridcolor": "white",
            "gridwidth": 2,
            "linecolor": "white",
            "showbackground": true,
            "ticks": "",
            "zerolinecolor": "white"
           },
           "zaxis": {
            "backgroundcolor": "#E5ECF6",
            "gridcolor": "white",
            "gridwidth": 2,
            "linecolor": "white",
            "showbackground": true,
            "ticks": "",
            "zerolinecolor": "white"
           }
          },
          "shapedefaults": {
           "line": {
            "color": "#2a3f5f"
           }
          },
          "ternary": {
           "aaxis": {
            "gridcolor": "white",
            "linecolor": "white",
            "ticks": ""
           },
           "baxis": {
            "gridcolor": "white",
            "linecolor": "white",
            "ticks": ""
           },
           "bgcolor": "#E5ECF6",
           "caxis": {
            "gridcolor": "white",
            "linecolor": "white",
            "ticks": ""
           }
          },
          "title": {
           "x": 0.05
          },
          "xaxis": {
           "automargin": true,
           "gridcolor": "white",
           "linecolor": "white",
           "ticks": "",
           "title": {
            "standoff": 15
           },
           "zerolinecolor": "white",
           "zerolinewidth": 2
          },
          "yaxis": {
           "automargin": true,
           "gridcolor": "white",
           "linecolor": "white",
           "ticks": "",
           "title": {
            "standoff": 15
           },
           "zerolinecolor": "white",
           "zerolinewidth": 2
          }
         }
        },
        "title": {
         "text": "Annual GDP per State"
        }
       }
      }
     },
     "metadata": {},
     "output_type": "display_data"
    }
   ],
   "source": [
    "fig = px.choropleth(df_combined,\n",
    "                    locations=\"State\", \n",
    "                    locationmode=\"USA-states\", \n",
    "                    color=\"Annual GDP\", \n",
    "                    hover_name=\"State\",\n",
    "                    scope=\"usa\",\n",
    "                    color_continuous_scale=px.colors.sequential.Greens,\n",
    "                    title=\"Annual GDP per State\")\n",
    "fig.show()"
   ]
  }
 ],
 "metadata": {
  "kernelspec": {
   "display_name": "Python 3",
   "language": "python",
   "name": "python3"
  },
  "language_info": {
   "codemirror_mode": {
    "name": "ipython",
    "version": 3
   },
   "file_extension": ".py",
   "mimetype": "text/x-python",
   "name": "python",
   "nbconvert_exporter": "python",
   "pygments_lexer": "ipython3",
   "version": "3.9.7"
  }
 },
 "nbformat": 4,
 "nbformat_minor": 4
}
